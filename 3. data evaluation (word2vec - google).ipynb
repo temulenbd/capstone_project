{
 "cells": [
  {
   "cell_type": "markdown",
   "metadata": {},
   "source": [
    "# PART III: CLASSIFICATION (pre-trained word2vec)"
   ]
  },
  {
   "cell_type": "code",
   "execution_count": 1,
   "metadata": {},
   "outputs": [],
   "source": [
    "import re\n",
    "import numpy as np\n",
    "import pandas as pd\n",
    "import seaborn as sns\n",
    "import matplotlib.pyplot as plt\n",
    "from gensim.models import KeyedVectors\n",
    "from nltk.tokenize import word_tokenize\n",
    "from sklearn.linear_model import LogisticRegression\n",
    "from sklearn.model_selection import train_test_split\n",
    "from sklearn.metrics import confusion_matrix, classification_report"
   ]
  },
  {
   "cell_type": "code",
   "execution_count": 2,
   "metadata": {},
   "outputs": [
    {
     "name": "stdout",
     "output_type": "stream",
     "text": [
      "The shape of the experiment dataset is: (1166, 2)\n"
     ]
    },
    {
     "data": {
      "text/html": [
       "<div>\n",
       "<style scoped>\n",
       "    .dataframe tbody tr th:only-of-type {\n",
       "        vertical-align: middle;\n",
       "    }\n",
       "\n",
       "    .dataframe tbody tr th {\n",
       "        vertical-align: top;\n",
       "    }\n",
       "\n",
       "    .dataframe thead th {\n",
       "        text-align: right;\n",
       "    }\n",
       "</style>\n",
       "<table border=\"1\" class=\"dataframe\">\n",
       "  <thead>\n",
       "    <tr style=\"text-align: right;\">\n",
       "      <th></th>\n",
       "      <th>job_description</th>\n",
       "      <th>label</th>\n",
       "    </tr>\n",
       "  </thead>\n",
       "  <tbody>\n",
       "    <tr>\n",
       "      <th>0</th>\n",
       "      <td>silver stream healthcare group offer great emp...</td>\n",
       "      <td>registered_nurse</td>\n",
       "    </tr>\n",
       "    <tr>\n",
       "      <th>1</th>\n",
       "      <td>create a better future for yourself  recruitne...</td>\n",
       "      <td>registered_nurse</td>\n",
       "    </tr>\n",
       "  </tbody>\n",
       "</table>\n",
       "</div>"
      ],
      "text/plain": [
       "                                     job_description             label\n",
       "0  silver stream healthcare group offer great emp...  registered_nurse\n",
       "1  create a better future for yourself  recruitne...  registered_nurse"
      ]
     },
     "execution_count": 2,
     "metadata": {},
     "output_type": "execute_result"
    }
   ],
   "source": [
    "# Import dataset as pandas data frame.\n",
    "df_jobads = pd.read_csv('data_jobads_final.csv', index_col=None)\n",
    "\n",
    "# Apply small modifications.\n",
    "df_jobads['job_description'] = df_jobads['job_description'].str.replace('\\n', ' ')\n",
    "df_jobads = df_jobads.dropna().reset_index(drop=True)\n",
    "df_jobads = df_jobads.iloc[:,-2:]\n",
    "\n",
    "print('The shape of the experiment dataset is:', df_jobads.shape)\n",
    "df_jobads.head(2)"
   ]
  },
  {
   "cell_type": "code",
   "execution_count": 3,
   "metadata": {},
   "outputs": [
    {
     "name": "stdout",
     "output_type": "stream",
     "text": [
      "['registered_nurse', 'electrician', 'data_analyst']\n"
     ]
    }
   ],
   "source": [
    "# Check the 'label' column for unique values.\n",
    "labels = df_jobads['label'].unique().tolist()\n",
    "\n",
    "print(labels)"
   ]
  },
  {
   "cell_type": "code",
   "execution_count": 4,
   "metadata": {},
   "outputs": [
    {
     "name": "stdout",
     "output_type": "stream",
     "text": [
      "{0: 'registered_nurse', 1: 'electrician', 2: 'data_analyst'}\n",
      "{'registered_nurse': 0, 'electrician': 1, 'data_analyst': 2}\n"
     ]
    }
   ],
   "source": [
    "# Create 'id2label', 'label2id' variables for mapping the labels.\n",
    "num_labels = len(labels)\n",
    "id2label = {id:label for id, label in enumerate(labels)}\n",
    "label2id = {label: id for id, label in enumerate(labels)}\n",
    "\n",
    "print(id2label)\n",
    "print(label2id)"
   ]
  },
  {
   "cell_type": "code",
   "execution_count": 6,
   "metadata": {},
   "outputs": [
    {
     "data": {
      "text/html": [
       "<div>\n",
       "<style scoped>\n",
       "    .dataframe tbody tr th:only-of-type {\n",
       "        vertical-align: middle;\n",
       "    }\n",
       "\n",
       "    .dataframe tbody tr th {\n",
       "        vertical-align: top;\n",
       "    }\n",
       "\n",
       "    .dataframe thead th {\n",
       "        text-align: right;\n",
       "    }\n",
       "</style>\n",
       "<table border=\"1\" class=\"dataframe\">\n",
       "  <thead>\n",
       "    <tr style=\"text-align: right;\">\n",
       "      <th></th>\n",
       "      <th>job_description</th>\n",
       "      <th>label</th>\n",
       "      <th>label_encoded</th>\n",
       "    </tr>\n",
       "  </thead>\n",
       "  <tbody>\n",
       "    <tr>\n",
       "      <th>0</th>\n",
       "      <td>silver stream healthcare group offer great emp...</td>\n",
       "      <td>registered_nurse</td>\n",
       "      <td>0</td>\n",
       "    </tr>\n",
       "    <tr>\n",
       "      <th>1</th>\n",
       "      <td>create a better future for yourself  recruitne...</td>\n",
       "      <td>registered_nurse</td>\n",
       "      <td>0</td>\n",
       "    </tr>\n",
       "  </tbody>\n",
       "</table>\n",
       "</div>"
      ],
      "text/plain": [
       "                                     job_description             label  \\\n",
       "0  silver stream healthcare group offer great emp...  registered_nurse   \n",
       "1  create a better future for yourself  recruitne...  registered_nurse   \n",
       "\n",
       "   label_encoded  \n",
       "0              0  \n",
       "1              0  "
      ]
     },
     "execution_count": 6,
     "metadata": {},
     "output_type": "execute_result"
    }
   ],
   "source": [
    "# Encode the 'label' column.\n",
    "df_jobads['label_encoded'] = df_jobads.label.map(lambda x: label2id[x.strip()])\n",
    "\n",
    "df_jobads.head(2)"
   ]
  },
  {
   "cell_type": "code",
   "execution_count": 7,
   "metadata": {},
   "outputs": [],
   "source": [
    "# Load the pre-trained Word2Vec model\n",
    "word2vec = KeyedVectors.load_word2vec_format('GoogleNews-vectors-negative300.bin', binary=True)"
   ]
  },
  {
   "cell_type": "code",
   "execution_count": 8,
   "metadata": {},
   "outputs": [],
   "source": [
    "# Lowercasing and tokenizing\n",
    "def preprocess_text_word2vec(text):\n",
    "    # Lowercasing\n",
    "    text = text.lower()\n",
    "    # Removing punctuation\n",
    "    text = re.sub(r'[^a-zA-Z0-9\\s]', '', text)\n",
    "    # Tokenization\n",
    "    tokens = word_tokenize(text)\n",
    "    \n",
    "    return tokens"
   ]
  },
  {
   "cell_type": "code",
   "execution_count": 9,
   "metadata": {},
   "outputs": [
    {
     "data": {
      "text/html": [
       "<div>\n",
       "<style scoped>\n",
       "    .dataframe tbody tr th:only-of-type {\n",
       "        vertical-align: middle;\n",
       "    }\n",
       "\n",
       "    .dataframe tbody tr th {\n",
       "        vertical-align: top;\n",
       "    }\n",
       "\n",
       "    .dataframe thead th {\n",
       "        text-align: right;\n",
       "    }\n",
       "</style>\n",
       "<table border=\"1\" class=\"dataframe\">\n",
       "  <thead>\n",
       "    <tr style=\"text-align: right;\">\n",
       "      <th></th>\n",
       "      <th>job_description</th>\n",
       "      <th>label</th>\n",
       "      <th>label_encoded</th>\n",
       "      <th>processed_jd</th>\n",
       "    </tr>\n",
       "  </thead>\n",
       "  <tbody>\n",
       "    <tr>\n",
       "      <th>0</th>\n",
       "      <td>silver stream healthcare group offer great emp...</td>\n",
       "      <td>registered_nurse</td>\n",
       "      <td>0</td>\n",
       "      <td>[silver, stream, healthcare, group, offer, gre...</td>\n",
       "    </tr>\n",
       "    <tr>\n",
       "      <th>1</th>\n",
       "      <td>create a better future for yourself  recruitne...</td>\n",
       "      <td>registered_nurse</td>\n",
       "      <td>0</td>\n",
       "      <td>[create, a, better, future, for, yourself, rec...</td>\n",
       "    </tr>\n",
       "  </tbody>\n",
       "</table>\n",
       "</div>"
      ],
      "text/plain": [
       "                                     job_description             label  \\\n",
       "0  silver stream healthcare group offer great emp...  registered_nurse   \n",
       "1  create a better future for yourself  recruitne...  registered_nurse   \n",
       "\n",
       "   label_encoded                                       processed_jd  \n",
       "0              0  [silver, stream, healthcare, group, offer, gre...  \n",
       "1              0  [create, a, better, future, for, yourself, rec...  "
      ]
     },
     "execution_count": 9,
     "metadata": {},
     "output_type": "execute_result"
    }
   ],
   "source": [
    "df_jobads['processed_jd'] = df_jobads['job_description'].apply(preprocess_text_word2vec)\n",
    "\n",
    "df_jobads.head(2)"
   ]
  },
  {
   "cell_type": "code",
   "execution_count": 10,
   "metadata": {},
   "outputs": [],
   "source": [
    "def embed_tokens(tokens_list, model):\n",
    "    vectors = [model[word] for word in tokens_list if word in model]\n",
    "    if vectors:\n",
    "        # Averaging the vectors (You could choose another aggregation method)\n",
    "        embedding = np.mean(vectors, axis=0)\n",
    "    else:\n",
    "        # Use a zero vector if none of the tokens were found in the Word2Vec model\n",
    "        embedding = np.zeros(model.vector_size)\n",
    "        \n",
    "    return embedding"
   ]
  },
  {
   "cell_type": "code",
   "execution_count": 11,
   "metadata": {},
   "outputs": [
    {
     "name": "stdout",
     "output_type": "stream",
     "text": [
      "The shape of the first tensor: (300,) \n",
      "\n",
      "The shape of the second tensor: (300,) \n",
      "\n",
      "[-0.04270588  0.0259989   0.0150202   0.03140387 -0.04899873 -0.00490635\n",
      "  0.03562238 -0.06399295  0.05567776  0.01420705 -0.03350464 -0.06936279\n",
      " -0.00990608  0.0621248  -0.07119966  0.05226553  0.02378007  0.08027887\n",
      " -0.02390202 -0.04093122  0.0047953  -0.01274216  0.00567297  0.0482306\n",
      "  0.01729175 -0.01818985 -0.09998598  0.03697966 -0.01236241 -0.02741816\n",
      "  0.01287915 -0.05705226 -0.04490084 -0.03154047 -0.01284505 -0.02650193\n",
      "  0.01196809  0.0081192   0.0341109   0.00475274  0.0509129  -0.0160897\n",
      "  0.01557197 -0.00611844 -0.04048933 -0.0985489  -0.03566245  0.02680518\n",
      " -0.02716161  0.02438457  0.01009924  0.02503024 -0.01809056  0.02118859\n",
      " -0.01346281 -0.00171159 -0.0588086  -0.04148743  0.00619266 -0.06870976\n",
      " -0.07649664  0.05115747 -0.08261833 -0.07243258  0.00834871  0.03108732\n",
      " -0.05716189  0.09859857 -0.02301718  0.03350815  0.01343249  0.00344172\n",
      "  0.10291003  0.00804558 -0.05994371 -0.06603007  0.05135277  0.04635709\n",
      "  0.02959065  0.09297082  0.01248277 -0.0265585  -0.00209267  0.0355562\n",
      "  0.01223858 -0.04775672 -0.09644446  0.04192932  0.02695516  0.03828267\n",
      "  0.09302517 -0.03519338 -0.01715111 -0.09960876  0.02606411 -0.05216923\n",
      "  0.0291855   0.01091529  0.01830106 -0.0087764   0.0078739  -0.05878904\n",
      "  0.00403329  0.04486864 -0.03152837 -0.08710949 -0.00434837 -0.01799839\n",
      "  0.05893671 -0.04474617 -0.00704776  0.00952282 -0.07570267 -0.00989524\n",
      "  0.03949677  0.03790976  0.04705922 -0.01471238  0.09956493  0.03962192\n",
      " -0.11472474  0.01278111 -0.03398972  0.05705652  0.00327847  0.02574531\n",
      " -0.06383318 -0.05770642  0.04083364  0.07430315 -0.02407746 -0.08958174\n",
      " -0.08836897 -0.04708263 -0.04028301 -0.06088996  0.01051309  0.00690649\n",
      " -0.0120564   0.07976393  0.00756688 -0.00929845 -0.00110726  0.018115\n",
      "  0.00790037 -0.00325811 -0.01123394 -0.02474199 -0.04367929  0.00734764\n",
      "  0.08829518  0.06227863 -0.03780337  0.03678061 -0.01899548 -0.0300971\n",
      " -0.03159119 -0.06111152 -0.04521294 -0.03933332  0.01460956  0.06472912\n",
      " -0.00262121  0.06129285 -0.03211158 -0.03779587  0.01746834 -0.03420489\n",
      "  0.03257475 -0.06124607 -0.07278379 -0.0547509  -0.01252691 -0.07583516\n",
      "  0.02722175 -0.0378953   0.0883287  -0.07175881 -0.06194825  0.0089401\n",
      " -0.11632644 -0.04360555  0.02250607 -0.03020765 -0.04538671 -0.03130241\n",
      " -0.02958737  0.01073636  0.08107417  0.0450423  -0.03413639 -0.01650207\n",
      "  0.02232055 -0.01253918 -0.06566009  0.00044937  0.02242413 -0.01891294\n",
      " -0.03471174 -0.10489289  0.00299386  0.0801255  -0.01698253 -0.0525432\n",
      " -0.02182669 -0.05425674 -0.00894352 -0.02045686  0.06075723 -0.05737223\n",
      "  0.01082387 -0.01220594 -0.04004517  0.03906499 -0.05117631  0.02171341\n",
      "  0.08027207  0.0243768  -0.11320295 -0.02524175  0.00597066  0.00732121\n",
      " -0.00171957 -0.03759579  0.03733602 -0.04695885  0.04625403  0.01362171\n",
      "  0.0369632  -0.02955759  0.02318804 -0.04355051  0.03058484  0.00886006\n",
      "  0.00772865 -0.01661373  0.05147872 -0.03905634  0.03780847 -0.02188076\n",
      " -0.01295165 -0.01849666  0.01894043 -0.07824577 -0.00716699  0.00378684\n",
      " -0.01046383  0.0439478  -0.02335406 -0.0688874  -0.00630442  0.06390326\n",
      "  0.01537327  0.05632285  0.02330592 -0.03255954  0.03538408  0.02362332\n",
      " -0.0755123   0.01930769  0.00943796 -0.01855065 -0.03651941  0.05893238\n",
      "  0.06255706  0.07251021 -0.01388074  0.00399706 -0.08162737 -0.01616659\n",
      "  0.04639452  0.07610936  0.05566603  0.03712285  0.04876708 -0.08579051\n",
      " -0.02244496 -0.08053329 -0.01979429  0.00081571  0.00543647 -0.00892432\n",
      "  0.05595847  0.1072603   0.01536526  0.03081528 -0.06446717  0.01543551\n",
      "  0.08221228  0.0432652  -0.07370973  0.02869309 -0.05749703  0.02619183\n",
      " -0.01610037  0.04810277 -0.00590045 -0.04059205  0.0254826  -0.02032668] \n",
      "\n"
     ]
    },
    {
     "data": {
      "text/html": [
       "<div>\n",
       "<style scoped>\n",
       "    .dataframe tbody tr th:only-of-type {\n",
       "        vertical-align: middle;\n",
       "    }\n",
       "\n",
       "    .dataframe tbody tr th {\n",
       "        vertical-align: top;\n",
       "    }\n",
       "\n",
       "    .dataframe thead th {\n",
       "        text-align: right;\n",
       "    }\n",
       "</style>\n",
       "<table border=\"1\" class=\"dataframe\">\n",
       "  <thead>\n",
       "    <tr style=\"text-align: right;\">\n",
       "      <th></th>\n",
       "      <th>job_description</th>\n",
       "      <th>label</th>\n",
       "      <th>label_encoded</th>\n",
       "      <th>processed_jd</th>\n",
       "      <th>vectors</th>\n",
       "    </tr>\n",
       "  </thead>\n",
       "  <tbody>\n",
       "    <tr>\n",
       "      <th>0</th>\n",
       "      <td>silver stream healthcare group offer great emp...</td>\n",
       "      <td>registered_nurse</td>\n",
       "      <td>0</td>\n",
       "      <td>[silver, stream, healthcare, group, offer, gre...</td>\n",
       "      <td>[-0.04270588, 0.0259989, 0.015020199, 0.031403...</td>\n",
       "    </tr>\n",
       "    <tr>\n",
       "      <th>1</th>\n",
       "      <td>create a better future for yourself  recruitne...</td>\n",
       "      <td>registered_nurse</td>\n",
       "      <td>0</td>\n",
       "      <td>[create, a, better, future, for, yourself, rec...</td>\n",
       "      <td>[-0.067376204, 0.035147008, 0.023164311, 0.027...</td>\n",
       "    </tr>\n",
       "  </tbody>\n",
       "</table>\n",
       "</div>"
      ],
      "text/plain": [
       "                                     job_description             label  \\\n",
       "0  silver stream healthcare group offer great emp...  registered_nurse   \n",
       "1  create a better future for yourself  recruitne...  registered_nurse   \n",
       "\n",
       "   label_encoded                                       processed_jd  \\\n",
       "0              0  [silver, stream, healthcare, group, offer, gre...   \n",
       "1              0  [create, a, better, future, for, yourself, rec...   \n",
       "\n",
       "                                             vectors  \n",
       "0  [-0.04270588, 0.0259989, 0.015020199, 0.031403...  \n",
       "1  [-0.067376204, 0.035147008, 0.023164311, 0.027...  "
      ]
     },
     "execution_count": 11,
     "metadata": {},
     "output_type": "execute_result"
    }
   ],
   "source": [
    "# Apply the function to embed each row's tokens in the DataFrame\n",
    "df_jobads['vectors'] = df_jobads['processed_jd'].apply(lambda x: embed_tokens(x, word2vec))\n",
    "# This will add a new column 'word2vec_embedding' where each row contains the aggregated Word2Vec embedding for its tokens\n",
    "\n",
    "print('The shape of the first tensor:', df_jobads.iat[0, -1].shape, '\\n')\n",
    "print('The shape of the second tensor:', df_jobads.iat[1, -1].shape, '\\n')\n",
    "print(df_jobads.iat[0, -1], '\\n')\n",
    "\n",
    "df_jobads.head(2)"
   ]
  },
  {
   "cell_type": "code",
   "execution_count": 12,
   "metadata": {},
   "outputs": [],
   "source": [
    "X = np.stack(df_jobads['vectors'].values)  # Convert the list of vectors into a numpy array\n",
    "y = df_jobads['label_encoded'].values      # Get the target values"
   ]
  },
  {
   "cell_type": "code",
   "execution_count": 13,
   "metadata": {},
   "outputs": [
    {
     "name": "stdout",
     "output_type": "stream",
     "text": [
      "TRAINING shape: (816, 300)\n",
      "TEST shape: (350, 300)\n"
     ]
    }
   ],
   "source": [
    "# Splitting dataset into training and testing set\n",
    "X_train, X_test, y_train, y_test = train_test_split(X, y, test_size=0.3, random_state=630)\n",
    "print('TRAINING shape:', X_train.shape)\n",
    "print('TEST shape:', X_test.shape)"
   ]
  },
  {
   "cell_type": "code",
   "execution_count": 14,
   "metadata": {},
   "outputs": [],
   "source": [
    "# Initialize the Logistic Regression model\n",
    "clf = LogisticRegression(max_iter=1000, class_weight='balanced')  # Increased max_iter for convergence\n",
    "\n",
    "# Fit the model on the training data\n",
    "clf.fit(X_train, y_train)\n",
    "\n",
    "# You can now use log_reg to make predictions and evaluate the model\n",
    "preds = clf.predict(X_test)\n",
    "labels = y_test"
   ]
  },
  {
   "cell_type": "code",
   "execution_count": 15,
   "metadata": {},
   "outputs": [
    {
     "name": "stdout",
     "output_type": "stream",
     "text": [
      "classification report: LOGISTIC REGRESSION (TF-IDF + BOW)\n",
      "\n",
      "               precision    recall  f1-score   support\n",
      "\n",
      "           0       1.00      0.99      1.00       182\n",
      "           1       0.98      0.96      0.97        49\n",
      "           2       0.98      0.99      0.98       119\n",
      "\n",
      "    accuracy                           0.99       350\n",
      "   macro avg       0.98      0.98      0.98       350\n",
      "weighted avg       0.99      0.99      0.99       350\n",
      "\n"
     ]
    },
    {
     "data": {
      "image/png": "[encoded data removed]",
      "text/plain": [
       "<Figure size 700x500 with 2 Axes>"
      ]
     },
     "metadata": {},
     "output_type": "display_data"
    }
   ],
   "source": [
    "print('classification report: LOGISTIC REGRESSION (TF-IDF + BOW)\\n\\n', classification_report(labels, preds))\n",
    "\n",
    "cm_labels = ['registered nurse', 'electrician', 'data analyst']\n",
    "cm_matrix = confusion_matrix(labels, preds)\n",
    "cm_title = 'confusion matrix: LOGISTIC REGRESSION (TF-IDF + BOW)'\n",
    "\n",
    "\n",
    "plt.figure(figsize=(7, 5))\n",
    "sns.heatmap(cm_matrix, annot=True, fmt='d', cmap='crest', xticklabels=cm_labels, yticklabels=cm_labels)\n",
    "\n",
    "plt.title(cm_title, fontsize=14)\n",
    "plt.xlabel('predicted values', fontsize=14)\n",
    "plt.ylabel('true values', fontsize=14)\n",
    "\n",
    "plt.show()"
   ]
  },
  {
   "cell_type": "code",
   "execution_count": null,
   "metadata": {},
   "outputs": [],
   "source": []
  },
  {
   "cell_type": "code",
   "execution_count": null,
   "metadata": {},
   "outputs": [],
   "source": []
  },
  {
   "cell_type": "code",
   "execution_count": 16,
   "metadata": {},
   "outputs": [],
   "source": [
    "df_benchmark_train = pd.read_csv('ag_news_train.csv', index_col=None)\n",
    "df_benchmark_test = pd.read_csv('ag_news_test.csv', index_col=None)"
   ]
  },
  {
   "cell_type": "code",
   "execution_count": 17,
   "metadata": {},
   "outputs": [
    {
     "name": "stdout",
     "output_type": "stream",
     "text": [
      "['business', 'sci/tech', 'sports', 'world']\n"
     ]
    }
   ],
   "source": [
    "# Check the 'label' column for unique values.\n",
    "labels = df_benchmark_train['label'].unique().tolist()\n",
    "\n",
    "print(labels)"
   ]
  },
  {
   "cell_type": "code",
   "execution_count": 18,
   "metadata": {},
   "outputs": [
    {
     "name": "stdout",
     "output_type": "stream",
     "text": [
      "{0: 'business', 1: 'sci/tech', 2: 'sports', 3: 'world'}\n",
      "{'business': 0, 'sci/tech': 1, 'sports': 2, 'world': 3}\n"
     ]
    }
   ],
   "source": [
    "# Create 'id2label', 'label2id' variables for mapping the labels.\n",
    "num_labels = len(labels)\n",
    "id2label = {id:label for id, label in enumerate(labels)}\n",
    "label2id = {label: id for id, label in enumerate(labels)}\n",
    "\n",
    "print(id2label)\n",
    "print(label2id)"
   ]
  },
  {
   "cell_type": "code",
   "execution_count": 19,
   "metadata": {},
   "outputs": [
    {
     "data": {
      "text/html": [
       "<div>\n",
       "<style scoped>\n",
       "    .dataframe tbody tr th:only-of-type {\n",
       "        vertical-align: middle;\n",
       "    }\n",
       "\n",
       "    .dataframe tbody tr th {\n",
       "        vertical-align: top;\n",
       "    }\n",
       "\n",
       "    .dataframe thead th {\n",
       "        text-align: right;\n",
       "    }\n",
       "</style>\n",
       "<table border=\"1\" class=\"dataframe\">\n",
       "  <thead>\n",
       "    <tr style=\"text-align: right;\">\n",
       "      <th></th>\n",
       "      <th>text</th>\n",
       "      <th>label</th>\n",
       "      <th>label_encoded</th>\n",
       "    </tr>\n",
       "  </thead>\n",
       "  <tbody>\n",
       "    <tr>\n",
       "      <th>0</th>\n",
       "      <td>Fears for T N pension after talks Unions repr...</td>\n",
       "      <td>business</td>\n",
       "      <td>0</td>\n",
       "    </tr>\n",
       "    <tr>\n",
       "      <th>1</th>\n",
       "      <td>The Race is On: Second Private Team Sets Laun...</td>\n",
       "      <td>sci/tech</td>\n",
       "      <td>1</td>\n",
       "    </tr>\n",
       "  </tbody>\n",
       "</table>\n",
       "</div>"
      ],
      "text/plain": [
       "                                                text     label  label_encoded\n",
       "0   Fears for T N pension after talks Unions repr...  business              0\n",
       "1   The Race is On: Second Private Team Sets Laun...  sci/tech              1"
      ]
     },
     "execution_count": 19,
     "metadata": {},
     "output_type": "execute_result"
    }
   ],
   "source": [
    "# Encode the 'label' column.\n",
    "df_benchmark_train['label_encoded'] = df_benchmark_train.label.map(lambda x: label2id[x.strip()])\n",
    "df_benchmark_test['label_encoded'] = df_benchmark_test.label.map(lambda x: label2id[x.strip()])\n",
    "\n",
    "df_benchmark_test.head(2)"
   ]
  },
  {
   "cell_type": "code",
   "execution_count": 20,
   "metadata": {},
   "outputs": [
    {
     "data": {
      "text/html": [
       "<div>\n",
       "<style scoped>\n",
       "    .dataframe tbody tr th:only-of-type {\n",
       "        vertical-align: middle;\n",
       "    }\n",
       "\n",
       "    .dataframe tbody tr th {\n",
       "        vertical-align: top;\n",
       "    }\n",
       "\n",
       "    .dataframe thead th {\n",
       "        text-align: right;\n",
       "    }\n",
       "</style>\n",
       "<table border=\"1\" class=\"dataframe\">\n",
       "  <thead>\n",
       "    <tr style=\"text-align: right;\">\n",
       "      <th></th>\n",
       "      <th>text</th>\n",
       "      <th>label</th>\n",
       "      <th>label_encoded</th>\n",
       "      <th>processed_text</th>\n",
       "    </tr>\n",
       "  </thead>\n",
       "  <tbody>\n",
       "    <tr>\n",
       "      <th>0</th>\n",
       "      <td>Fears for T N pension after talks Unions repr...</td>\n",
       "      <td>business</td>\n",
       "      <td>0</td>\n",
       "      <td>[fears, for, t, n, pension, after, talks, unio...</td>\n",
       "    </tr>\n",
       "    <tr>\n",
       "      <th>1</th>\n",
       "      <td>The Race is On: Second Private Team Sets Laun...</td>\n",
       "      <td>sci/tech</td>\n",
       "      <td>1</td>\n",
       "      <td>[the, race, is, on, second, private, team, set...</td>\n",
       "    </tr>\n",
       "  </tbody>\n",
       "</table>\n",
       "</div>"
      ],
      "text/plain": [
       "                                                text     label  label_encoded  \\\n",
       "0   Fears for T N pension after talks Unions repr...  business              0   \n",
       "1   The Race is On: Second Private Team Sets Laun...  sci/tech              1   \n",
       "\n",
       "                                      processed_text  \n",
       "0  [fears, for, t, n, pension, after, talks, unio...  \n",
       "1  [the, race, is, on, second, private, team, set...  "
      ]
     },
     "execution_count": 20,
     "metadata": {},
     "output_type": "execute_result"
    }
   ],
   "source": [
    "df_benchmark_train['processed_text'] = df_benchmark_train['text'].apply(preprocess_text_word2vec)\n",
    "df_benchmark_test['processed_text'] = df_benchmark_test['text'].apply(preprocess_text_word2vec)\n",
    "\n",
    "df_benchmark_test.head(2)"
   ]
  },
  {
   "cell_type": "code",
   "execution_count": 21,
   "metadata": {},
   "outputs": [
    {
     "data": {
      "text/html": [
       "<div>\n",
       "<style scoped>\n",
       "    .dataframe tbody tr th:only-of-type {\n",
       "        vertical-align: middle;\n",
       "    }\n",
       "\n",
       "    .dataframe tbody tr th {\n",
       "        vertical-align: top;\n",
       "    }\n",
       "\n",
       "    .dataframe thead th {\n",
       "        text-align: right;\n",
       "    }\n",
       "</style>\n",
       "<table border=\"1\" class=\"dataframe\">\n",
       "  <thead>\n",
       "    <tr style=\"text-align: right;\">\n",
       "      <th></th>\n",
       "      <th>job_description</th>\n",
       "      <th>label</th>\n",
       "      <th>label_encoded</th>\n",
       "      <th>processed_jd</th>\n",
       "      <th>vectors</th>\n",
       "    </tr>\n",
       "  </thead>\n",
       "  <tbody>\n",
       "    <tr>\n",
       "      <th>0</th>\n",
       "      <td>silver stream healthcare group offer great emp...</td>\n",
       "      <td>registered_nurse</td>\n",
       "      <td>0</td>\n",
       "      <td>[silver, stream, healthcare, group, offer, gre...</td>\n",
       "      <td>[-0.04270588, 0.0259989, 0.015020199, 0.031403...</td>\n",
       "    </tr>\n",
       "    <tr>\n",
       "      <th>1</th>\n",
       "      <td>create a better future for yourself  recruitne...</td>\n",
       "      <td>registered_nurse</td>\n",
       "      <td>0</td>\n",
       "      <td>[create, a, better, future, for, yourself, rec...</td>\n",
       "      <td>[-0.067376204, 0.035147008, 0.023164311, 0.027...</td>\n",
       "    </tr>\n",
       "  </tbody>\n",
       "</table>\n",
       "</div>"
      ],
      "text/plain": [
       "                                     job_description             label  \\\n",
       "0  silver stream healthcare group offer great emp...  registered_nurse   \n",
       "1  create a better future for yourself  recruitne...  registered_nurse   \n",
       "\n",
       "   label_encoded                                       processed_jd  \\\n",
       "0              0  [silver, stream, healthcare, group, offer, gre...   \n",
       "1              0  [create, a, better, future, for, yourself, rec...   \n",
       "\n",
       "                                             vectors  \n",
       "0  [-0.04270588, 0.0259989, 0.015020199, 0.031403...  \n",
       "1  [-0.067376204, 0.035147008, 0.023164311, 0.027...  "
      ]
     },
     "execution_count": 21,
     "metadata": {},
     "output_type": "execute_result"
    }
   ],
   "source": [
    "df_benchmark_train['vectors'] = df_benchmark_train['processed_text'].apply(lambda x: embed_tokens(x, word2vec))\n",
    "df_benchmark_test['vectors'] = df_benchmark_test['processed_text'].apply(lambda x: embed_tokens(x, word2vec))\n",
    "\n",
    "df_jobads.head(2)"
   ]
  },
  {
   "cell_type": "code",
   "execution_count": 22,
   "metadata": {},
   "outputs": [
    {
     "name": "stdout",
     "output_type": "stream",
     "text": [
      "TRAINING shape: (120000, 300)\n",
      "TEST shape: (7600, 300)\n"
     ]
    }
   ],
   "source": [
    "X_train = np.stack(df_benchmark_train['vectors'].values)\n",
    "X_test = np.stack(df_benchmark_test['vectors'].values)\n",
    "y_train = df_benchmark_train['label_encoded'].copy()\n",
    "y_test = df_benchmark_test['label_encoded'].copy()\n",
    "print('TRAINING shape:', X_train.shape)\n",
    "print('TEST shape:', X_test.shape)"
   ]
  },
  {
   "cell_type": "code",
   "execution_count": 23,
   "metadata": {},
   "outputs": [],
   "source": [
    "# Initialize the Logistic Regression model\n",
    "clf = LogisticRegression(max_iter=1000, class_weight='balanced')  # Increased max_iter for convergence\n",
    "\n",
    "# Fit the model on the training data\n",
    "clf.fit(X_train, y_train)\n",
    "\n",
    "# You can now use log_reg to make predictions and evaluate the model\n",
    "preds = clf.predict(X_test)\n",
    "labels = y_test"
   ]
  },
  {
   "cell_type": "code",
   "execution_count": 24,
   "metadata": {},
   "outputs": [
    {
     "name": "stdout",
     "output_type": "stream",
     "text": [
      "classification report: LOGISTIC REGRESSION (PRETRAINED WORD2WEC)\n",
      "\n",
      "               precision    recall  f1-score   support\n",
      "\n",
      "           0       0.83      0.84      0.84      1900\n",
      "           1       0.87      0.86      0.86      1900\n",
      "           2       0.94      0.97      0.96      1900\n",
      "           3       0.91      0.89      0.90      1900\n",
      "\n",
      "    accuracy                           0.89      7600\n",
      "   macro avg       0.89      0.89      0.89      7600\n",
      "weighted avg       0.89      0.89      0.89      7600\n",
      "\n"
     ]
    },
    {
     "data": {
      "image/png": "[encoded data removed]",
      "text/plain": [
       "<Figure size 700x500 with 2 Axes>"
      ]
     },
     "metadata": {},
     "output_type": "display_data"
    },
    {
     "name": "stdout",
     "output_type": "stream",
     "text": [
      "{0: 'business', 1: 'sci/tech', 2: 'sports', 3: 'world'}\n"
     ]
    }
   ],
   "source": [
    "print('classification report: LOGISTIC REGRESSION (PRETRAINED WORD2WEC)\\n\\n', classification_report(labels, preds))\n",
    "\n",
    "cm_labels = np.unique(np.concatenate((labels, preds)))\n",
    "cm_matrix = confusion_matrix(labels, preds)\n",
    "cm_title = 'confusion matrix: LOGISTIC REGRESSION (PRETRAINED WORD2WEC)'\n",
    "\n",
    "\n",
    "plt.figure(figsize=(7, 5))\n",
    "sns.heatmap(cm_matrix, annot=True, fmt='d', cmap='crest', xticklabels=cm_labels, yticklabels=cm_labels)\n",
    "\n",
    "plt.title(cm_title, fontsize=14)\n",
    "plt.xlabel('predicted values', fontsize=14)\n",
    "plt.ylabel('true values', fontsize=14)\n",
    "\n",
    "plt.show()\n",
    "\n",
    "print(id2label)"
   ]
  }
 ],
 "metadata": {
  "kernelspec": {
   "display_name": "base",
   "language": "python",
   "name": "python3"
  },
  "language_info": {
   "codemirror_mode": {
    "name": "ipython",
    "version": 3
   },
   "file_extension": ".py",
   "mimetype": "text/x-python",
   "name": "python",
   "nbconvert_exporter": "python",
   "pygments_lexer": "ipython3",
   "version": "3.11.4"
  }
 },
 "nbformat": 4,
 "nbformat_minor": 2
}
