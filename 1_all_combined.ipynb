{
 "cells": [
  {
   "cell_type": "markdown",
   "metadata": {
    "tags": []
   },
   "source": [
    "                                                                                                CCT College Dublin\n",
    "                                                                                                TEMUULEN Bulgan (2022427)\n",
    "                                                                                                https://github.com/temulenbd/capstone_project.git\n",
    "# Capstone Project"
   ]
  },
  {
   "cell_type": "markdown",
   "metadata": {
    "tags": []
   },
   "source": [
    "#### Brief Introduction of the project:\n",
    "\n",
    "1. ....\n",
    "\n",
    "2. ....\n",
    "\n",
    "    1. \n",
    "    2. \n",
    "    3. \n",
    "    4. "
   ]
  },
  {
   "cell_type": "markdown",
   "metadata": {
    "tags": []
   },
   "source": [
    "## 1. Tools and modules."
   ]
  },
  {
   "cell_type": "code",
   "execution_count": 2,
   "metadata": {},
   "outputs": [
    {
     "ename": "SyntaxError",
     "evalue": "invalid syntax (971121263.py, line 1)",
     "output_type": "error",
     "traceback": [
      "\u001b[1;36m  Cell \u001b[1;32mIn[2], line 1\u001b[1;36m\u001b[0m\n\u001b[1;33m    import\u001b[0m\n\u001b[1;37m          ^\u001b[0m\n\u001b[1;31mSyntaxError\u001b[0m\u001b[1;31m:\u001b[0m invalid syntax\n"
     ]
    }
   ],
   "source": [
    "import\n",
    "import\n",
    "import"
   ]
  },
  {
   "cell_type": "markdown",
   "metadata": {},
   "source": [
    "## 2. Data collection (Web scraping)"
   ]
  },
  {
   "cell_type": "markdown",
   "metadata": {},
   "source": []
  },
  {
   "cell_type": "markdown",
   "metadata": {},
   "source": []
  },
  {
   "cell_type": "code",
   "execution_count": 1,
   "metadata": {},
   "outputs": [],
   "source": [
    "import pandas as pd"
   ]
  },
  {
   "cell_type": "code",
   "execution_count": 2,
   "metadata": {},
   "outputs": [],
   "source": [
    "df = pd.read_csv('data_jobads_rn.csv')"
   ]
  },
  {
   "cell_type": "code",
   "execution_count": 10,
   "metadata": {},
   "outputs": [
    {
     "name": "stdout",
     "output_type": "stream",
     "text": [
      "https://ie.indeed.com/rc/clk?jk=30234f2c064764c3&bb=bbBZkCfVig3q8E10P0Ru6zA8vlNA9S8gzlKJtZU0ul5RAUGZpk7XlIv9SqpDnSCEsWFpQ1M64tHJjALinNWpz9EGmAmbmhbVW8-lAP6x2oE%3D&xkcb=SoB367M3G50pJBx9Np0NbzkdCdPP&fccid=dd616958bd9ddc12&vjs=3\n",
      "https://ie.indeed.com/rc/clk?jk=395a52d19c0403a3&bb=bbBZkCfVig3q8E10P0Ru6yVbCZjxo3Z60hAF3eYgEj0y4lbj8fqJopI0K14DmSBaGRjUUsu2PU7D6SP2rx4hws-iD0FXTZc1_J4ZYK2txUU%3D&xkcb=SoDD67M3G50pJBx9Np0MbzkdCdPP&fccid=6301faef2b55eb25&vjs=3\n",
      "https://ie.indeed.com/pagead/clk?mo=r&ad=-6NYlbfkN0BTbuHslKOXKiVsSpnziEmuQoY-iYOKI4wRqSyWom9vAg0Dd2lE0eIWildnX2bwXYfkTFk-wbd8YCM5goApiI1Y5_7CPXP8eYC8Z8Pv05Vr1NvfdLLcMpthFIsLjHCqX1Cw4LF-1qF7WP-WotKp4UFNyh80v_ZcTH8iTxUEu-OC4pcVVNqA_tVlllMTeG7s_O_p7tJV3lxd_2UeGm7lR_Q9DivSa7_jr6YearZH4PU-qgBu94SyuSy8Ee3j25kZ5kbLO2kl4ddCyCWRJygp0nVXtEeOq2-PYq2fkWzf5rCyUWDUdFX8G8E0bguzNa6ie3AusSGQhKY5nec8DaL_rR77VbudlSCPn0KENn7Fqqqlm591z3EL6MPIusIlckP48rw19lBH2j8qJT5-uzFEPZhFZr3G8OWVjSL1rjERGLOfLzzrHesBHXpNcRZSvFplLHzk1-goHdDcxu8DFmdRb3ldCJroziq1SNGWSKQBf1CbJxOiNsUutJ-Rt-QRSCNoiPyEQvpn5DhlXeRkt3U5b2_YaxJgZ14-dM6d0114OLOfi-pEL6R5L8u_z2ehosoee7nyNoToh9eT2U9ZLWU9IrUa5UqW7ldzD1Dkktnngttcy767qiDTGDyJeVxdXBg16VgoJfluKfFUBq5vM_-3Kcs8Bc1XbltR6dE=&xkcb=SoDe6_M3G50pJBx9Np0DbzkdCdPP&p=7&fvj=1&vjs=3\n",
      "https://ie.indeed.com/pagead/clk?mo=r&ad=-6NYlbfkN0BTbuHslKOXKiVsSpnziEmuQoY-iYOKI4wRqSyWom9vAg0Dd2lE0eIWOTTQX9rRrmZT7mChiVzujyyHuEOY0tZjC6naGOqfPP_J1j9453lrt2TH_7wldhcZtvMF_21UroAHa3w9kS81bTSF0bSOYooC7oZPtHIbGYQAN11_3efOnLDr7MOOVuL2Hs3N4XGXXY9lCc5bE688s70PG2T_40jf3du2AHvOxwOcNdKMSt2WtjHNHRme-M7a1sfJHIm14F3nEuY8zH9L-tmgFVKp4s1mwo8suIfld2vbsjyKwxRjGWAL6RTZNyWv-IH7jG6B9ER6fkIxKNL3T-pAaVACoTn7NgGk2hIpMnsQ4P3TMST6H5lAIGR2efMqxNT7YUyD3vOBV8AnDMMwxl3IqEGwkdOGm15t8-3KvcSX8_k735yJHWdZVFiLSBfKbDe8wBH96gXIp8ugkuAAYNJ9oAdKzPTRJr2ko4IfMWLZtosWSJNeEob60FrnO7oouWmI4Juk8-Fa2FhYOZv1rTEVVivSyYb_Lyy423Zzb1E_vqnuPOsiWz7RQ3NTdcQjtfzdQJFNcniNVV-8jFLG9oywFP43WVMRH6wYvFMb_-5qycytKQAJmnJsXejKusBpz6rSV-Uo8IdEy_c4cVD94kTpurvUYNgN7HxxeFaSg0o=&xkcb=SoBq6_M3G50pJBx9Np0CbzkdCdPP&p=8&fvj=1&vjs=3\n",
      "https://ie.indeed.com/pagead/clk?mo=r&ad=-6NYlbfkN0CV_oBHl2lW2ogfN6UalZU6xR_oJLbMIer_KK465WgTj6yYNuBqOyIksOdP2iVgG-rOaN1wv1SQ-bvPj7QbGkDK8KlBQlK8EcGXPSemo7Uht8vhaPI1-xuLQI2oqeCNs39iva9z8fYjpfYaimXugInGfcHnn13DiA-oXeLvX7Obn_vDmSkDF_pNxGlxcES_3hLhNyM7qgKoySdvmZVjWNTYqGjJdsLQKPRK8ojD_THJuxuLR2JyVcDTnl1ksxlrKlz6dSAL6x720tzcLlIDfFCNaghi803n37kE9PDlSZ7lVqNkEAhcZtOYHplnimJ4rVmVzQtkp4SQkQiH8m5W7AwtcEkguLGU8IkrtEm9u4GZqWMJpLLL2jn_HRW-r-CpAKwsgT3yVlxoo9my4NyKlPGQRfxxUEp700kjBm45muPOwaBiAf1VmeG7cc47iXQbxbtzE6P2eERSO-0Ps9FlElTASPYkDbe905EPAFGCz7sApmC6BfrbY0XE9eVket8vA7NycTPjonBA8CdXJN1qTBEZjz59IREAopdh_8fzN8hb4Uvgn5E9uf5jikffOWxKSjQe5NnVj5yD7bEmn0mYGJDIPuJ65ivw09ybmVu59khBiCZaQ5M9o8Ng1plNLkd_-y8lurX9u86GARhb-L0y_pY8d3fqVpxHqp-ap5GWoXncsMM6zQOmQmLB4ZgwuIkKPs42XFlE8NGZUQ==&xkcb=SoD36_M3G50pJBx9Np0BbzkdCdPP&p=9&fvj=0&vjs=3\n",
      "https://ie.indeed.com/pagead/clk?mo=r&ad=-6NYlbfkN0A5L5063Hz_ykBXa5jH6yMtRcMj6vt1_h5jGSm1vd-WOfx3VGl-SXI1lnMgTknE-OHWiTZYkJemt6f2GqmJ5Nm-u9XiBvWhe70XA8Eyf2vdWyNQc8HSRdQxrzgVg0-EPdCptlVOwXDD30Ud4i-mzW8D-EbOiQ6pc6zxxHeXmICvmLVI2fRw4z1vooMkbsHQQkXIX8n-QDeVgfBxfJqkl2fbHJmx3s5KXFBG9SfzoIc1dEAT4ktn1Sze9Ids2XDFFIUzcWtbQfhQSr8cfrV4RMDuKQ-nCMeCFQ1v4PgqHa6KxZvvesE6xQTeQdPTrCzHX8GgxtDCeNfNnnQWvdz_ZtW7p3Nz2lbyYLdA1TY1oFyICh0joPM2mqn-iFeo-E-fAJj2b_78xCLbStLwDl65I4xTM_JdiTC0FbiDKshF7_jVpR8u7J0TOjtZfMbdVBZNDB5UnMmESG4vt6c1atad1HVgjbAbQQD-HruMiCP1fVr69q_DdqS4MayrkV7yNnqmGodL7igmrRfiz_UYYmDAHzkMnl-dwuC0pQdCQgNEnxcfZtX9rKj-fjNuDosw0Gbz12xKffKVkCDvC5q6ae1h3A0kynqbs1d1KOutH3QoIjM0lnj4fJK68ypoNxRZpea-Ksc=&xkcb=SoBD6_M3G50pJBx9Np0AbzkdCdPP&p=10&fvj=1&vjs=3\n",
      "https://ie.indeed.com/rc/clk?jk=f18efca3a3dcaa6d&bb=bbBZkCfVig3q8E10P0Ru6193REBniuQSiIkhsCE5Ox2iXDSHMOpIYlORflBSCc257NK1DoB64xw3CBafH7LfOMpfKXEDFTka_-BUx_6_tZU%3D&xkcb=SoA567M3G50pJBx9Np0HbzkdCdPP&fccid=9d0506abd0b33167&cmp=Access-Healthcare&ti=Registered+Nurse+-+Emergency+Room&vjs=3\n",
      "https://ie.indeed.com/rc/clk?jk=0fabd461677bf7a8&bb=bbBZkCfVig3q8E10P0Ru68Vr9OTLMBuh3Zzl5NG-ajR4FJxfurg3ZiF2CdHzyk77wUm_NUDSlnOzGzD3C6CV2basmaQQIBDSzkNYstJj-LM%3D&xkcb=SoCN67M3G50pJBx9Np0GbzkdCdPP&fccid=e8df8ae9ef5feebf&vjs=3\n",
      "https://ie.indeed.com/rc/clk?jk=11359b4f7012ed67&bb=bbBZkCfVig3q8E10P0Ru64RpttkJQjOXB7D1bzYwEdC65uPtLJfM2hbOX1qaZRdvhjTC-htbYLVmi1fl5UGOQ5UNSlgWZgP-_fA7nZ_FMS0%3D&xkcb=SoAQ67M3G50pJBx9Np0FbzkdCdPP&fccid=e8df8ae9ef5feebf&vjs=3\n",
      "https://ie.indeed.com/rc/clk?jk=9ff9598596359b2e&bb=bbBZkCfVig3q8E10P0Ru612ApwGkz6zTc9Uz_4b-zU_x4gJhkO-BC1iVOuCc0js6xDXfnDkxy5GATZoqsu4eFNKnEiz-3vivxSMKadTqf6k%3D&xkcb=SoCk67M3G50pJBx9Np0EbzkdCdPP&fccid=61109f4c74fffd98&vjs=3\n"
     ]
    }
   ],
   "source": [
    "for x in range(20, 30):\n",
    "    print(df.iat[x, 2])"
   ]
  },
  {
   "cell_type": "code",
   "execution_count": null,
   "metadata": {},
   "outputs": [],
   "source": []
  }
 ],
 "metadata": {
  "kernelspec": {
   "display_name": "base",
   "language": "python",
   "name": "python3"
  },
  "language_info": {
   "codemirror_mode": {
    "name": "ipython",
    "version": 3
   },
   "file_extension": ".py",
   "mimetype": "text/x-python",
   "name": "python",
   "nbconvert_exporter": "python",
   "pygments_lexer": "ipython3",
   "version": "3.11.4"
  }
 },
 "nbformat": 4,
 "nbformat_minor": 2
}
