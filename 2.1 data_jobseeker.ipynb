{
 "cells": [
  {
   "cell_type": "markdown",
   "metadata": {},
   "source": [
    "# JOB SEEKER'S DATA"
   ]
  },
  {
   "cell_type": "markdown",
   "metadata": {},
   "source": [
    "### 1. Data Examination"
   ]
  },
  {
   "cell_type": "code",
   "execution_count": 1,
   "metadata": {},
   "outputs": [],
   "source": [
    "# Load nessesary libraries.\n",
    "import pandas as pd\n",
    "import re\n",
    "import os"
   ]
  },
  {
   "cell_type": "code",
   "execution_count": 2,
   "metadata": {},
   "outputs": [
    {
     "data": {
      "text/html": [
       "<div>\n",
       "<style scoped>\n",
       "    .dataframe tbody tr th:only-of-type {\n",
       "        vertical-align: middle;\n",
       "    }\n",
       "\n",
       "    .dataframe tbody tr th {\n",
       "        vertical-align: top;\n",
       "    }\n",
       "\n",
       "    .dataframe thead th {\n",
       "        text-align: right;\n",
       "    }\n",
       "</style>\n",
       "<table border=\"1\" class=\"dataframe\">\n",
       "  <thead>\n",
       "    <tr style=\"text-align: right;\">\n",
       "      <th></th>\n",
       "      <th>participant</th>\n",
       "      <th>data_collection</th>\n",
       "      <th>date</th>\n",
       "      <th>location</th>\n",
       "      <th>preferred_position</th>\n",
       "      <th>education</th>\n",
       "      <th>skill</th>\n",
       "      <th>experience</th>\n",
       "    </tr>\n",
       "  </thead>\n",
       "  <tbody>\n",
       "    <tr>\n",
       "      <th>0</th>\n",
       "      <td>user_1</td>\n",
       "      <td>Voice Call</td>\n",
       "      <td>12/17/2023 15:30</td>\n",
       "      <td>Dublin, Ireland</td>\n",
       "      <td>Registered nurse</td>\n",
       "      <td>Bachelor's degree: Critical care nursing</td>\n",
       "      <td>patient care\\nwound care\\nmedical procedures\\n...</td>\n",
       "      <td>Registered Nurse: 3 years</td>\n",
       "    </tr>\n",
       "    <tr>\n",
       "      <th>1</th>\n",
       "      <td>user_2</td>\n",
       "      <td>Voice Call</td>\n",
       "      <td>12/27/2023 11:50</td>\n",
       "      <td>Dublin, Ireland</td>\n",
       "      <td>Electrician</td>\n",
       "      <td>•\\tHigh school diploma\\n•\\tVocational electric...</td>\n",
       "      <td>•\\tCircuit testing\\n•\\tBlueprint reading\\n•\\tF...</td>\n",
       "      <td>Residential Electrician's Helper: 1 year</td>\n",
       "    </tr>\n",
       "    <tr>\n",
       "      <th>2</th>\n",
       "      <td>user_3</td>\n",
       "      <td>Google Form</td>\n",
       "      <td>12/31/2023 13:39</td>\n",
       "      <td>Dublin, Ireland</td>\n",
       "      <td>Data analyst</td>\n",
       "      <td>Degree:\\n1. Master of Science in Data Analytic...</td>\n",
       "      <td>1. Python\\n2. Data Mining and Extraction\\n3. D...</td>\n",
       "      <td>Entry Level Data Analyst: 1 year\\nData Coordin...</td>\n",
       "    </tr>\n",
       "  </tbody>\n",
       "</table>\n",
       "</div>"
      ],
      "text/plain": [
       "  participant data_collection              date         location  \\\n",
       "0      user_1      Voice Call  12/17/2023 15:30  Dublin, Ireland   \n",
       "1      user_2      Voice Call  12/27/2023 11:50  Dublin, Ireland   \n",
       "2      user_3     Google Form  12/31/2023 13:39  Dublin, Ireland   \n",
       "\n",
       "  preferred_position                                          education  \\\n",
       "0   Registered nurse           Bachelor's degree: Critical care nursing   \n",
       "1        Electrician  •\\tHigh school diploma\\n•\\tVocational electric...   \n",
       "2       Data analyst  Degree:\\n1. Master of Science in Data Analytic...   \n",
       "\n",
       "                                               skill  \\\n",
       "0  patient care\\nwound care\\nmedical procedures\\n...   \n",
       "1  •\\tCircuit testing\\n•\\tBlueprint reading\\n•\\tF...   \n",
       "2  1. Python\\n2. Data Mining and Extraction\\n3. D...   \n",
       "\n",
       "                                          experience  \n",
       "0                          Registered Nurse: 3 years  \n",
       "1           Residential Electrician's Helper: 1 year  \n",
       "2  Entry Level Data Analyst: 1 year\\nData Coordin...  "
      ]
     },
     "execution_count": 2,
     "metadata": {},
     "output_type": "execute_result"
    }
   ],
   "source": [
    "# Create a new pandas DataFrame from raw file with job seekers data.\n",
    "df_jobseeker = pd.read_csv('raw_data_jobseeker.csv', index_col=None)\n",
    "\n",
    "df_jobseeker.head()"
   ]
  },
  {
   "cell_type": "code",
   "execution_count": 3,
   "metadata": {},
   "outputs": [
    {
     "name": "stdout",
     "output_type": "stream",
     "text": [
      "<class 'pandas.core.frame.DataFrame'>\n",
      "RangeIndex: 3 entries, 0 to 2\n",
      "Data columns (total 8 columns):\n",
      " #   Column              Non-Null Count  Dtype \n",
      "---  ------              --------------  ----- \n",
      " 0   participant         3 non-null      object\n",
      " 1   data_collection     3 non-null      object\n",
      " 2   date                3 non-null      object\n",
      " 3   location            3 non-null      object\n",
      " 4   preferred_position  3 non-null      object\n",
      " 5   education           3 non-null      object\n",
      " 6   skill               3 non-null      object\n",
      " 7   experience          3 non-null      object\n",
      "dtypes: object(8)\n",
      "memory usage: 324.0+ bytes\n"
     ]
    }
   ],
   "source": [
    "# Examine the short summary of the DataFrame.\n",
    "df_jobseeker.info()"
   ]
  },
  {
   "cell_type": "markdown",
   "metadata": {},
   "source": [
    "### 2. Data Manipulation"
   ]
  },
  {
   "cell_type": "markdown",
   "metadata": {},
   "source": [
    "The raw data for the job seeker’s information requires some modification and changes on some values, as shown by the output of the above cells."
   ]
  },
  {
   "cell_type": "code",
   "execution_count": 4,
   "metadata": {},
   "outputs": [
    {
     "name": "stdout",
     "output_type": "stream",
     "text": [
      "datetime64[ns]\n"
     ]
    }
   ],
   "source": [
    "# Change the 'date' column values to pandas datetime values.\n",
    "df_jobseeker['date'] = pd.to_datetime(df_jobseeker['date'])\n",
    "\n",
    "print(df_jobseeker['date'].dtype)"
   ]
  },
  {
   "cell_type": "code",
   "execution_count": 5,
   "metadata": {},
   "outputs": [
    {
     "name": "stdout",
     "output_type": "stream",
     "text": [
      "Bachelor's degree: Critical care nursing \n",
      "\n",
      "•\tHigh school diploma\n",
      "•\tVocational electrician certification\n",
      "•\tConstruction safety certification  \n",
      "\n",
      "Degree:\n",
      "1. Master of Science in Data Analytics\n",
      "2. Bachelor of Science in Business Administration\n",
      "Certifications:\n",
      "1. Microsoft Certified - Azure Data Scientist Associate\n",
      "2. Google Data Analytics Certificate \n",
      "\n"
     ]
    }
   ],
   "source": [
    "# Check the values of the column 'education'.\n",
    "for value in df_jobseeker['education']:\n",
    "    print(value, '\\n')"
   ]
  },
  {
   "cell_type": "code",
   "execution_count": 6,
   "metadata": {},
   "outputs": [
    {
     "name": "stdout",
     "output_type": "stream",
     "text": [
      "bachelor's degree: critical care nursing \n",
      "\n",
      "high school diploma, vocational electrician certification, construction safety certification \n",
      "\n",
      "degree: master of science in data analytics, bachelor of science in business administration; certifications: microsoft certified - azure data scientist associate, google data analytics certificate \n",
      "\n"
     ]
    }
   ],
   "source": [
    "# Manipulate the 'education' column values.\n",
    "for x in range(3):\n",
    "    df_jobseeker.iat[x, 5] = df_jobseeker.iat[x, 5].replace('•', '')\n",
    "    df_jobseeker.iat[x, 5] = re.sub(r'[^\\S ]', ' ', df_jobseeker.iat[x, 5])\n",
    "    df_jobseeker.iat[x, 5] = re.sub(r'\\d+\\.', '', df_jobseeker.iat[x, 5])\n",
    "    df_jobseeker.iat[x, 5] = re.sub(r' {2,}', ', ', df_jobseeker.iat[x, 5])\n",
    "    df_jobseeker.iat[x, 5] = df_jobseeker.iat[x, 5].replace(' Certifications:,', '; Certifications:')\n",
    "    df_jobseeker.iat[x, 5] = df_jobseeker.iat[x, 5].replace('Degree:,', 'Degree:')\n",
    "    df_jobseeker.iat[x, 5] = df_jobseeker.iat[x, 5].strip()\n",
    "    df_jobseeker.iat[x, 5] = df_jobseeker.iat[x, 5].lower()\n",
    "\n",
    "for value in df_jobseeker['education']:\n",
    "    print(value, '\\n')"
   ]
  },
  {
   "cell_type": "code",
   "execution_count": 7,
   "metadata": {},
   "outputs": [
    {
     "name": "stdout",
     "output_type": "stream",
     "text": [
      "patient care\n",
      "wound care\n",
      "medical procedures\n",
      "adult nursing\n",
      "infection control\n",
      "diagnostic \n",
      "time management\n",
      "communication skills\n",
      "attention to detail \n",
      "\n",
      "•\tCircuit testing\n",
      "•\tBlueprint reading\n",
      "•\tFault finding\n",
      "•\tElectrical wiring\n",
      "•\tTroubleshooting\n",
      "•\tEquipment inspection \n",
      "•\tInstallation\n",
      "•\tOrganization \n",
      "•\tMaintenance \n",
      "•\tDiagnostic\n",
      "•\tIndependent worker\n",
      "•\tSafety knowledge \n",
      "\n",
      "1. Python\n",
      "2. Data Mining and Extraction\n",
      "3. Data Analytics and Visualization\n",
      "4. ETL Pipeline\n",
      "5. Data Reporting\n",
      "6. Database Management Systems\n",
      "7. SQL and NoSQL\n",
      "8. Machine Learning\n",
      "9. A/B Testing\n",
      "10. Data Governance \n",
      "\n"
     ]
    }
   ],
   "source": [
    "# Check the values of the column 'skill'.\n",
    "for value in df_jobseeker['skill']:\n",
    "    print(value, '\\n')"
   ]
  },
  {
   "cell_type": "code",
   "execution_count": 8,
   "metadata": {},
   "outputs": [
    {
     "name": "stdout",
     "output_type": "stream",
     "text": [
      "patient care, wound care, medical procedures, adult nursing, infection control, diagnostic, time management, communication skills, attention to detail \n",
      "\n",
      "circuit testing, blueprint reading, fault finding, electrical wiring, troubleshooting, equipment inspection, installation, organization, maintenance, diagnostic, independent worker, safety knowledge \n",
      "\n",
      "python, data mining and extraction, data analytics and visualization, etl pipeline, data reporting, database management systems, sql and nosql, machine learning, a/b testing, data governance \n",
      "\n"
     ]
    }
   ],
   "source": [
    "# Manipulate the 'skill' column values.\n",
    "for x in range(3):\n",
    "    df_jobseeker.iat[x, 6] = df_jobseeker.iat[x, 6].replace('•', '')\n",
    "    df_jobseeker.iat[x, 6] = df_jobseeker.iat[x, 6].strip()\n",
    "    df_jobseeker.iat[x, 6] = re.sub(r'\\d+\\. ', '', df_jobseeker.iat[x, 6])\n",
    "    df_jobseeker.iat[x, 6] = re.sub(r'[^\\S ]', ', ', df_jobseeker.iat[x, 6])\n",
    "    df_jobseeker.iat[x, 6] = df_jobseeker.iat[x, 6].replace(', ,', ',').replace(' ,', ',')\n",
    "    df_jobseeker.iat[x, 6] = df_jobseeker.iat[x, 6].lower()\n",
    "\n",
    "for value in df_jobseeker['skill']:\n",
    "    print(value, '\\n')"
   ]
  },
  {
   "cell_type": "code",
   "execution_count": 9,
   "metadata": {},
   "outputs": [
    {
     "name": "stdout",
     "output_type": "stream",
     "text": [
      "Registered Nurse: 3 years \n",
      "\n",
      "Residential Electrician's Helper: 1 year \n",
      "\n",
      "Entry Level Data Analyst: 1 year\n",
      "Data Coordinator: 2 years \n",
      "\n"
     ]
    }
   ],
   "source": [
    "# Check the values of the column 'experience'.\n",
    "for value in df_jobseeker['experience']:\n",
    "    print(value, '\\n')"
   ]
  },
  {
   "cell_type": "code",
   "execution_count": 10,
   "metadata": {},
   "outputs": [
    {
     "data": {
      "text/html": [
       "<div>\n",
       "<style scoped>\n",
       "    .dataframe tbody tr th:only-of-type {\n",
       "        vertical-align: middle;\n",
       "    }\n",
       "\n",
       "    .dataframe tbody tr th {\n",
       "        vertical-align: top;\n",
       "    }\n",
       "\n",
       "    .dataframe thead th {\n",
       "        text-align: right;\n",
       "    }\n",
       "</style>\n",
       "<table border=\"1\" class=\"dataframe\">\n",
       "  <thead>\n",
       "    <tr style=\"text-align: right;\">\n",
       "      <th></th>\n",
       "      <th>participant</th>\n",
       "      <th>data_collection</th>\n",
       "      <th>date</th>\n",
       "      <th>location</th>\n",
       "      <th>preferred_position</th>\n",
       "      <th>education</th>\n",
       "      <th>skill</th>\n",
       "      <th>experience</th>\n",
       "    </tr>\n",
       "  </thead>\n",
       "  <tbody>\n",
       "    <tr>\n",
       "      <th>0</th>\n",
       "      <td>user_1</td>\n",
       "      <td>voice call</td>\n",
       "      <td>2023-12-17 15:30:00</td>\n",
       "      <td>dublin, ireland</td>\n",
       "      <td>registered nurse</td>\n",
       "      <td>bachelor's degree: critical care nursing</td>\n",
       "      <td>patient care, wound care, medical procedures, ...</td>\n",
       "      <td>registered nurse: 3 years</td>\n",
       "    </tr>\n",
       "    <tr>\n",
       "      <th>1</th>\n",
       "      <td>user_2</td>\n",
       "      <td>voice call</td>\n",
       "      <td>2023-12-27 11:50:00</td>\n",
       "      <td>dublin, ireland</td>\n",
       "      <td>electrician</td>\n",
       "      <td>high school diploma, vocational electrician ce...</td>\n",
       "      <td>circuit testing, blueprint reading, fault find...</td>\n",
       "      <td>residential electrician's helper: 1 year</td>\n",
       "    </tr>\n",
       "    <tr>\n",
       "      <th>2</th>\n",
       "      <td>user_3</td>\n",
       "      <td>google form</td>\n",
       "      <td>2023-12-31 13:39:00</td>\n",
       "      <td>dublin, ireland</td>\n",
       "      <td>data analyst</td>\n",
       "      <td>degree: master of science in data analytics, b...</td>\n",
       "      <td>python, data mining and extraction, data analy...</td>\n",
       "      <td>entry level data analyst: 1 year; data coordin...</td>\n",
       "    </tr>\n",
       "  </tbody>\n",
       "</table>\n",
       "</div>"
      ],
      "text/plain": [
       "  participant data_collection                date         location  \\\n",
       "0      user_1      voice call 2023-12-17 15:30:00  dublin, ireland   \n",
       "1      user_2      voice call 2023-12-27 11:50:00  dublin, ireland   \n",
       "2      user_3     google form 2023-12-31 13:39:00  dublin, ireland   \n",
       "\n",
       "  preferred_position                                          education  \\\n",
       "0   registered nurse           bachelor's degree: critical care nursing   \n",
       "1        electrician  high school diploma, vocational electrician ce...   \n",
       "2       data analyst  degree: master of science in data analytics, b...   \n",
       "\n",
       "                                               skill  \\\n",
       "0  patient care, wound care, medical procedures, ...   \n",
       "1  circuit testing, blueprint reading, fault find...   \n",
       "2  python, data mining and extraction, data analy...   \n",
       "\n",
       "                                          experience  \n",
       "0                          registered nurse: 3 years  \n",
       "1           residential electrician's helper: 1 year  \n",
       "2  entry level data analyst: 1 year; data coordin...  "
      ]
     },
     "execution_count": 10,
     "metadata": {},
     "output_type": "execute_result"
    }
   ],
   "source": [
    "# Change all the values in the columns ‘data_collection’, ‘location’, ‘preferred_position’ and ‘experience’ to lowercase.\n",
    "for x in range(3):\n",
    "    df_jobseeker.iat[x, 1] = df_jobseeker.iat[x, 1].lower()\n",
    "    df_jobseeker.iat[x, 3] = df_jobseeker.iat[x, 3].lower()\n",
    "    df_jobseeker.iat[x, 4] = df_jobseeker.iat[x, 4].lower()\n",
    "    df_jobseeker.iat[x, 7] = df_jobseeker.iat[x, 7].lower()\n",
    "    df_jobseeker.iat[x, 7] = re.sub(r'[^\\S ]', '; ', df_jobseeker.iat[x, 7])\n",
    "    \n",
    "df_jobseeker.head()"
   ]
  },
  {
   "cell_type": "code",
   "execution_count": 11,
   "metadata": {},
   "outputs": [
    {
     "name": "stdout",
     "output_type": "stream",
     "text": [
      "Raw data was manipulated and exported successfully as C:\\Users\\temulenbd\\OneDrive\\Desktop\\learn\\github repo\\cct\\capstone_project\\data_jobseeker.csv\n"
     ]
    }
   ],
   "source": [
    "# Save job seeker's data DataFrame as csv file.\n",
    "directory = r'C:\\Users\\temulenbd\\OneDrive\\Desktop\\learn\\github_repo\\cct\\capstone_project'\n",
    "filename = 'data_jobseeker.csv'\n",
    "file_path = os.path.join(directory, filename)\n",
    "df_jobseeker.to_csv(file_path, index=False)\n",
    "\n",
    "print(f\"Raw data was manipulated and exported successfully as {file_path}\")"
   ]
  }
 ],
 "metadata": {
  "kernelspec": {
   "display_name": "base",
   "language": "python",
   "name": "python3"
  },
  "language_info": {
   "codemirror_mode": {
    "name": "ipython",
    "version": 3
   },
   "file_extension": ".py",
   "mimetype": "text/x-python",
   "name": "python",
   "nbconvert_exporter": "python",
   "pygments_lexer": "ipython3",
   "version": "3.11.4"
  }
 },
 "nbformat": 4,
 "nbformat_minor": 2
}
