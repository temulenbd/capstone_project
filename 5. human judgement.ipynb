{
 "cells": [
  {
   "cell_type": "markdown",
   "metadata": {},
   "source": [
    "RANKING"
   ]
  },
  {
   "cell_type": "code",
   "execution_count": 14,
   "metadata": {},
   "outputs": [],
   "source": [
    "import pandas as pd\n",
    "import matplotlib.pyplot as plt\n",
    "import seaborn as sns\n",
    "import pandas as pd\n",
    "import random"
   ]
  },
  {
   "cell_type": "code",
   "execution_count": null,
   "metadata": {},
   "outputs": [],
   "source": [
    "# Difine a costum function to process DFs containing cosine similarity scores for the specified user.\n",
    "def process_cosine_data(cosine_bert, cosine_word2vec, cosine_tfidf, user):\n",
    "    cosine_user = cosine_bert.copy()\n",
    "    \n",
    "    # Drop columns not related to the specified user and rename the relevant column.\n",
    "    drop_columns = [f'cos_{u}' for u in ['user1', 'user2', 'user3'] if u != user]\n",
    "    cosine_user = cosine_user.drop(columns=drop_columns).rename(columns={f'cos_{user}': 'cos_bert'})\n",
    "    \n",
    "    # Add word2vec and tfidf values for the user to the dataframe.\n",
    "    cosine_user['cos_word2vec'] = cosine_word2vec[f'cos_{user}'].tolist()\n",
    "    cosine_user['cos_tfidf'] = cosine_tfidf[f'cos_{user}'].tolist()\n",
    "    \n",
    "    return cosine_user"
   ]
  },
  {
   "cell_type": "code",
   "execution_count": 24,
   "metadata": {},
   "outputs": [],
   "source": [
    "# Reading the CSV files containing cosine similarity scores into pandas DF.\n",
    "cosine_bert = pd.read_csv('cosine_bert.csv', index_col=None)\n",
    "cosine_word2vec = pd.read_csv('cosine_word2vec.csv', index_col=None)\n",
    "cosine_tfidf = pd.read_csv('cosine_tfidf.csv', index_col=None)\n"
   ]
  },
  {
   "cell_type": "code",
   "execution_count": null,
   "metadata": {},
   "outputs": [],
   "source": [
    "# Use the costum function and process DFs for each user.\n",
    "user1_data = process_cosine_data(cosine_bert, cosine_word2vec, cosine_tfidf, 'user1')\n",
    "user2_data = process_cosine_data(cosine_bert, cosine_word2vec, cosine_tfidf, 'user2')\n",
    "user3_data = process_cosine_data(cosine_bert, cosine_word2vec, cosine_tfidf, 'user3')"
   ]
  },
  {
   "cell_type": "markdown",
   "metadata": {},
   "source": [
    "**summary statistics**"
   ]
  },
  {
   "cell_type": "code",
   "execution_count": 26,
   "metadata": {},
   "outputs": [
    {
     "name": "stdout",
     "output_type": "stream",
     "text": [
      "SUMMARY STATISTICS FOR <USER1 = NURSE>: \n",
      "\n",
      "         word_count     cos_bert  cos_word2vec    cos_tfidf\n",
      "count  1166.000000  1166.000000   1166.000000  1166.000000\n",
      "mean    332.466552     0.319900      0.665213     0.141654\n",
      "std     301.366781     0.388131      0.082701     0.111163\n",
      "min      10.000000    -0.199576      0.391409     0.000000\n",
      "25%     137.250000    -0.109479      0.594835     0.056245\n",
      "50%     233.000000     0.621242      0.658452     0.100525\n",
      "75%     442.750000     0.678452      0.740086     0.219451\n",
      "max    3145.000000     0.727966      0.856020     0.529536\n"
     ]
    }
   ],
   "source": [
    "# Show summary statistics for user1_data (for user 'nurse').\n",
    "summary_stats1 = user1_data.describe()\n",
    "print('Summary statistics for <user1 = nurse>:'.upper(), '\\n\\n', summary_stats1)"
   ]
  },
  {
   "cell_type": "markdown",
   "metadata": {},
   "source": [
    "Interpretation\n",
    "- ***word_count***: The statistics for word count remain consistent across the DFs for all three users, as each user's cosine similarity was calculated using the same set of job advertisements. The mean word count stands at approximately 332 words, suggesting that the average length of the text extracted from Indeed.com is somewhere around 330 words. Nonetheless, there is a wide variation in the length of job ads, with word counts ranging from as few as 10 to as many as 3145 words and the standard deviation is about 301 words, suggesting a wide variation in text lengths, from very short to quite lengthy documents. The 25th percentile is around 137 words, the median (50th percentile) is 233 words, and the 75th percentile is about 443 words, confirming the broad spread in document lengths.\n",
    "- ***cos_bert***: The average cos_bert score is 0.3199, indicating a moderate level of semantic similarity across the documents when analyzed with BERT, a contextual language model. The scores range from -0.1996 to 0.728, showing that some document pairs are seen as somewhat dissimilar (negative values) while others are highly similar. The data exhibits a wide distribution (std of 0.3881), suggesting varied degrees of semantic similarity among document pairs as per BERT's analysis.\n",
    "- ***cos_word2vec***: A higher average cosine similarity of 0.67 indicates a generally higher level of similarity across documents using Word2Vec embeddings compared to BERT. The standard deviation is lower (0.08) than for BERT, suggesting less variability in similarity scores with Word2Vec. The minimum and percentile values suggest a range of similarities, with most documents being moderately to highly similar.\n",
    "- ***cos_tfidf***: The average cosine similarity of 0.14 is much lower than for the other two methods, indicating a lower level of textual similarity across documents when using TF-IDF vectors. A lower standard deviation (0.11) and the range of values suggest that, while there is variability, documents tend to be less similar to each other based on TF-IDF scores."
   ]
  },
  {
   "cell_type": "code",
   "execution_count": 37,
   "metadata": {},
   "outputs": [
    {
     "name": "stdout",
     "output_type": "stream",
     "text": [
      "SUMMARY STATISTICS FOR <USER2 = ELECTRICIAN>: \n",
      "         word_count     cos_bert  cos_word2vec    cos_tfidf\n",
      "count  1166.000000  1166.000000   1166.000000  1166.000000\n",
      "mean    332.466552    -0.025889      0.600000     0.038741\n",
      "std     301.366781     0.250511      0.057276     0.052500\n",
      "min      10.000000    -0.242510      0.352230     0.000000\n",
      "25%     137.250000    -0.172927      0.561716     0.010862\n",
      "50%     233.000000    -0.090811      0.592295     0.021460\n",
      "75%     442.750000    -0.065748      0.621538     0.040316\n",
      "max    3145.000000     0.719622      0.831225     0.329614\n"
     ]
    }
   ],
   "source": [
    "# Show summary statistics for user2_data (for user 'electrician').\n",
    "summary_stats2 = user2_data.describe()\n",
    "print('Summary statistics for <user2 = electrician>:'.upper(), '\\n', summary_stats2)"
   ]
  },
  {
   "cell_type": "markdown",
   "metadata": {},
   "source": [
    "Interpretation\n",
    "- ***word_count***: The statistics for word count remain consistent across the DFs for all three users, as each user's cosine similarity was calculated using the same set of job advertisements.\n",
    "- ***cos_bert***: The average cosine similarity is -0.025, suggesting a slight overall dissimilarity between documents when analyzed with BERT embeddings. This is a stark contrast to the Nurse's data, which had a positive mean, indicating more similarity. The standard deviation is lower (0.25) compared to the Nurse's, indicating less variability in the similarity scores. The range from -0.243 to 0.720 shows some documents are very dissimilar while others are quite similar, albeit the majority lean towards dissimilarity.\n",
    "- ***cos_word2vec***: The average similarity score of 0.60 suggests a moderate level of similarity between documents, lower than that observed for the Nurse. This indicates that the documents associated with the Electrician share fewer semantic similarities. A relatively low standard deviation (0.057) suggests that the similarity scores are more consistent across the dataset than those for the Nurse. The minimum and maximum values indicate a narrower range of similarity scores compared to the Nurse's data.\n",
    "- ***cos_tfidf***: The average similarity of 0.039 is significantly lower than that of the Nurse, suggesting that the documents are generally quite dissimilar based on the commonality and importance of terms. The standard deviation and the range of values indicate a relatively low variability in similarity scores, with most documents being less similar to each other."
   ]
  },
  {
   "cell_type": "code",
   "execution_count": 38,
   "metadata": {},
   "outputs": [
    {
     "name": "stdout",
     "output_type": "stream",
     "text": [
      "SUMMARY STATISTICS FOR <USER3 = DATA ANALYST>: \n",
      "\n",
      "         word_count     cos_bert  cos_word2vec    cos_tfidf\n",
      "count  1166.000000  1166.000000   1166.000000  1166.000000\n",
      "mean    332.466552     0.156274      0.573476     0.079308\n",
      "std     301.366781     0.355753      0.071010     0.116556\n",
      "min      10.000000    -0.164118      0.271790     0.000000\n",
      "25%     137.250000    -0.107856      0.523822     0.014595\n",
      "50%     233.000000    -0.068212      0.563920     0.033232\n",
      "75%     442.750000     0.625446      0.610304     0.101983\n",
      "max    3145.000000     0.736383      0.828246     0.639187\n"
     ]
    }
   ],
   "source": [
    "# Show summary statistics for user3_data (for user 'data analyst').\n",
    "summary_stats3 = user3_data.describe()\n",
    "print('Summary statistics for <user3 = data analyst>:'.upper(), '\\n\\n', summary_stats3)"
   ]
  },
  {
   "cell_type": "markdown",
   "metadata": {},
   "source": [
    "Interpretation\n",
    "- ***word_count***: The statistics for word count remain consistent across the DFs for all three users, as each user's cosine similarity was calculated using the same set of job advertisements.\n",
    "- ***cos_bert***: The average cosine similarity of 0.156 indicates a moderate level of similarity between documents, with a positive tilt suggesting some degree of similarity in content or context when analyzed with BERT embeddings. A relatively high standard deviation (0.356) suggests a wide variability in similarity scores, indicating that some document pairs are found to be quite similar while others are more dissimilar. The range from -0.164 to 0.736 shows variability in document similarity, with the maximum score indicating very high similarity in at least some document comparisons.\n",
    "- ***cos_word2vec***: An average similarity score of 0.573 suggests a moderate level of semantic similarity between documents, albeit lower than observed for the Nurse but higher than the Electrician. The standard deviation (0.071) indicates less variability in similarity scores than BERT, suggesting more consistent semantic relationships across the dataset. The range from 0.272 to 0.828 reflects a spectrum of semantic similarities, from relatively low to very high.\n",
    "- ***cos_tfidf***: The average similarity of 0.079 is higher than that of the Electrician but lower than the Nurse, indicating a moderate level of dissimilarity based on term frequency and document uniqueness. The relatively high standard deviation (0.117) and the range up to 0.639 indicate that while many documents share few common terms, some pairs share a significant amount of unique terms, leading to higher similarity scores."
   ]
  },
  {
   "cell_type": "markdown",
   "metadata": {},
   "source": [
    "**Conclution:** Overall, analyzing the summary statistics for similarity scores across all three users, it indicates that the length of job advertisements can vary significantly, with some ads containing as few as 10 words and others extending up to 3000 words. The BERT model demonstrates the widest range in document similarity, from -0.243 to 0.736, suggesting that it is more capable of identifying both similarity and dissimilarity in job ads compared to the other models. The Word2Vec model, on average, shows the highest mean similarity score across users, implying that it may not be as effective in distinguishing dissimilarities between texts in job ads. This observation might extend to the TF-IDF and Bag of Words (BoW) models as well, given that their text vector representations did not produce any cosine similarity scores below 0, indicating a potential limitation in detecting dissimilarities. Additionally, both the TF-IDF and Word2Vec methods exhibit a lower standard deviation in similarity scores compared to BERT, suggesting they maintain a more consistent level of similarity or dissimilarity across the dataset."
   ]
  },
  {
   "cell_type": "markdown",
   "metadata": {},
   "source": [
    "**visualizations**\n",
    "\n",
    "Conclusions can be drawn from statistical numbers alone, but to enhance understanding and support the overall analysis, adding visualizations is important."
   ]
  },
  {
   "cell_type": "markdown",
   "metadata": {},
   "source": [
    "*word count*"
   ]
  },
  {
   "cell_type": "code",
   "execution_count": 76,
   "metadata": {},
   "outputs": [
    {
     "data": {
      "image/png": "[encoded data removed]",
      "text/plain": [
       "<Figure size 650x450 with 1 Axes>"
      ]
     },
     "metadata": {},
     "output_type": "display_data"
    }
   ],
   "source": [
    "sns.set(style='whitegrid')\n",
    "plt.figure(figsize=(6.5, 4.5))\n",
    "\n",
    "sns.histplot(user1_data['word_count'], bins=30, kde=True, color='cadetblue', edgecolor='black', alpha=0.6)\n",
    "\n",
    "\n",
    "plt.title('Figure 1. Word count distribution of scraped job ads.', fontsize=14)\n",
    "plt.xlabel('Word Count', fontsize=11)\n",
    "plt.ylabel('Frequency', fontsize=11)\n",
    "\n",
    "mean_word_count = user1_data['word_count'].mean()\n",
    "max_word_count = user1_data['word_count'].max()\n",
    "min_word_count = user1_data['word_count'].min()\n",
    "\n",
    "plt.axvline(mean_word_count, color='red', linestyle='--', linewidth=2, label=f'Mean: {mean_word_count:.2f}')\n",
    "bottom_y_coord = plt.ylim()[0] + (plt.ylim()[1] - plt.ylim()[0]) * 0.05\n",
    "\n",
    "plt.text(max_word_count, bottom_y_coord, f'Max: {max_word_count} words', color='black', fontsize=10,\n",
    "         ha='right', va='bottom', bbox=dict(facecolor='white', alpha=0.5, edgecolor='black', boxstyle='round,pad=0.5'))\n",
    "plt.text(min_word_count, bottom_y_coord, f'Min: {min_word_count} words', color='black', fontsize=10,\n",
    "         ha='center', va='bottom', bbox=dict(facecolor='white', alpha=0.5, edgecolor='black', boxstyle='round,pad=0.5'))\n",
    "\n",
    "plt.legend(frameon=True, facecolor='white', framealpha=1, edgecolor='black')\n",
    "plt.xticks(fontsize=10)\n",
    "plt.yticks(fontsize=10)\n",
    "sns.despine(trim=True)\n",
    "plt.tight_layout()\n",
    "\n",
    "plt.show()"
   ]
  },
  {
   "cell_type": "markdown",
   "metadata": {},
   "source": [
    "Interpretation: The right skewed distribution above shows that the words length of the text for job ads that was extracted form the Indeed.com "
   ]
  },
  {
   "cell_type": "code",
   "execution_count": 80,
   "metadata": {},
   "outputs": [
    {
     "data": {
      "image/png": "[encoded data removed]",
      "text/plain": [
       "<Figure size 650x450 with 1 Axes>"
      ]
     },
     "metadata": {},
     "output_type": "display_data"
    }
   ],
   "source": [
    "sns.set(style='whitegrid')\n",
    "label_counts = user1_data['label'].value_counts()\n",
    "    \n",
    "plt.figure(figsize=(6.5, 4.5))\n",
    "\n",
    "color_list = ['midnightblue', 'slategray', 'lightblue']\n",
    "bars = plt.bar(label_counts.index, label_counts.values, color=color_list)\n",
    "for bar in bars:\n",
    "    height = bar.get_height()\n",
    "    plt.text(bar.get_x() + bar.get_width() / 2.0, height, f'{height}', ha='center', va='bottom')\n",
    "\n",
    "plt.title('Figure 2.Distribution of labels.', fontsize=14)\n",
    "plt.xlabel('Labels', fontsize=11)\n",
    "plt.ylabel('Frequency', fontsize=11)\n",
    "    \n",
    "plt.xticks(rotation=0)\n",
    "plt.show()"
   ]
  },
  {
   "cell_type": "code",
   "execution_count": null,
   "metadata": {},
   "outputs": [],
   "source": [
    "# Setting up the figure for subplots\n",
    "fig, axes = plt.subplots(1, 3, figsize=(18, 6), sharey=True)\n",
    "\n",
    "for col in ['cos_bert', 'cos_word2vec', 'cos_tfidf']:\n",
    "    sns.kdeplot(cosine_user1[col], label=col, fill=True, ax=axes[0])\n",
    "axes[0].set_title('distribution: USER1')\n",
    "axes[0].set_ylabel('Density')\n",
    "axes[0].legend()\n",
    "\n",
    "for col in ['cos_bert', 'cos_word2vec', 'cos_tfidf']:\n",
    "    sns.kdeplot(cosine_user2[col], label=col, fill=True, ax=axes[1])\n",
    "axes[1].set_title('distribution: USER2')\n",
    "axes[1].set_xlabel('Cosine Similarity')\n",
    "\n",
    "for col in ['cos_bert', 'cos_word2vec', 'cos_tfidf']:\n",
    "    sns.kdeplot(cosine_user3[col], label=col, fill=True, ax=axes[2])\n",
    "axes[2].set_title('distribution: USER3')\n",
    "axes[1].legend()\n",
    "axes[2].legend()\n",
    "\n",
    "plt.tight_layout()\n",
    "plt.show()\n"
   ]
  },
  {
   "cell_type": "code",
   "execution_count": null,
   "metadata": {},
   "outputs": [],
   "source": [
    "# Assuming df is your DataFrame\n",
    "positive_cos_bert_rn = len(cosine_user1[(cosine_user1['cos_bert'] > 0) & (cosine_user1['label'] == 'registered_nurse')])\n",
    "positive_cos_bert_el = len(cosine_user2[(cosine_user2['cos_bert'] > 0) & (cosine_user2['label'] == 'electrician')])\n",
    "positive_cos_bert_da = len(cosine_user3[(cosine_user3['cos_bert'] > 0) & (cosine_user3['label'] == 'data_analyst')])\n",
    "\n",
    "print(f'Total number for registered nurse job positions to user1 is: {positive_cos_bert_rn}'+'\\n'+\n",
    "      f'Total number for electician job positions to user2 is: {positive_cos_bert_el}'+'\\n'+\n",
    "      f'Total number for data analyst job positions to user3 is: {positive_cos_bert_da}')"
   ]
  },
  {
   "cell_type": "markdown",
   "metadata": {},
   "source": [
    "interpretation: \n",
    "\n",
    "- *word count*: The statistics for word count remain consistent across the DFs for all three users, as each user's cosine similarity was calculated using the same set of job advertisements. The mean word count stands at approximately 332.47 words, suggesting that the average length of the text extracted from Indeed.com is around 330 words. Nonetheless, there is a wide variation in the length of job ads, with word counts ranging from as few as 10 to as many as 3145 words, indicating a significant inconsistency in the length of text across different job ads.\n",
    "- *cos_bert*: For user1, the positive mean value of 0.332 is attributed to a higher count of job advertisements for nursing positions compared to other professions. Conversely, user2 exhibits a negative mean of -0.014, reflecting the relatively lower number of job ads for electricians. However, user3 demonstrates a mean cos_bert value of 0.166, which falls between 0.332 and -0.014. This observation clearly demonstrates the proportionality for the number of job ads to each user.\n",
    "- *cos_word2vec*:The high average, min, and max similarity scores observed for all three users in this method may suggest two possible scenarios. Firstly, it could imply that the model performed poorly. Alternatively, it might indicate that using Word2Vec to distinguish the similarity among various job advertisements is relatively ineffective compared to other applications.\n",
    "- *cos_tfidf*: The variation in average similarity scores closely mirrors that of cos_bert, yet with a narrower spread between the lowest and highest scores and the absence of negative values. This could suggest that while this method is capable of identifying similarities, it falls short in effectively differentiating dissimilarities."
   ]
  },
  {
   "cell_type": "code",
   "execution_count": null,
   "metadata": {},
   "outputs": [],
   "source": []
  },
  {
   "cell_type": "code",
   "execution_count": null,
   "metadata": {},
   "outputs": [],
   "source": [
    "# Setup the figure and subplots\n",
    "fig, axs = plt.subplots(3, 1, figsize=(10, 18))  # 3 rows, 1 column\n",
    "\n",
    "# Plot for user1.\n",
    "axs[0].plot(cosine_user1.index, cosine_user1['cos_bert'], label='cos_bert')\n",
    "axs[0].plot(cosine_user1.index, cosine_user1['cos_word2vec'], label='cos_word2vec')\n",
    "axs[0].plot(cosine_user1.index, cosine_user1['cos_tfidf'], label='cos_tfidf')\n",
    "axs[0].set_title('cosine similarity scores across indices: USER1')\n",
    "axs[0].set_ylabel('Cosine Similarity Value')\n",
    "axs[0].legend()\n",
    "axs[0].grid(True)\n",
    "\n",
    "# Plot for user2.\n",
    "axs[1].plot(cosine_user2.index, cosine_user2['cos_bert'], label='cos_bert')\n",
    "axs[1].plot(cosine_user2.index, cosine_user2['cos_word2vec'], label='cos_word2vec')\n",
    "axs[1].plot(cosine_user2.index, cosine_user2['cos_tfidf'], label='cos_tfidf')\n",
    "axs[1].set_title('cosine similarity scores across indices: USER2')\n",
    "axs[1].set_ylabel('Cosine Similarity Value')\n",
    "axs[1].legend()\n",
    "axs[1].grid(True)\n",
    "\n",
    "# Plot for user3.\n",
    "axs[2].plot(cosine_user3.index, cosine_user3['cos_bert'], label='cos_bert')\n",
    "axs[2].plot(cosine_user3.index, cosine_user3['cos_word2vec'], label='cos_word2vec')\n",
    "axs[2].plot(cosine_user3.index, cosine_user3['cos_tfidf'], label='cos_tfidf', marker=',')\n",
    "axs[2].set_title('cosine similarity scores across indices: USER3')\n",
    "axs[2].set_ylabel('Cosine Similarity Value')\n",
    "axs[2].legend()\n",
    "axs[2].grid(True)\n",
    "\n",
    "\n",
    "# Adjust layout for better spacing\n",
    "plt.tight_layout()\n",
    "plt.show()\n"
   ]
  },
  {
   "cell_type": "code",
   "execution_count": null,
   "metadata": {},
   "outputs": [],
   "source": [
    "sns.pairplot(cosine_user1, diag_kind='kde')"
   ]
  },
  {
   "cell_type": "code",
   "execution_count": null,
   "metadata": {},
   "outputs": [],
   "source": [
    "sns.pairplot(cosine_user2, diag_kind='kde')"
   ]
  },
  {
   "cell_type": "code",
   "execution_count": null,
   "metadata": {},
   "outputs": [],
   "source": [
    "sns.pairplot(cosine_user3, diag_kind='kde')"
   ]
  },
  {
   "cell_type": "code",
   "execution_count": null,
   "metadata": {},
   "outputs": [],
   "source": [
    "# Define a list of DataFrames for easier iteration\n",
    "dfs = [cosine_user1, cosine_user2, cosine_user3]\n",
    "titles = ['correlation matrix: USER1', 'correlation matrix: USER2', 'correlation matrix: USER3']\n",
    "\n",
    "fig, axes = plt.subplots(1, 3, figsize=(24, 6))\n",
    "\n",
    "for ax, df, title in zip(axes, dfs, titles):\n",
    "    correlation_matrix = df[['word_count', 'cos_bert', 'cos_word2vec', 'cos_tfidf']].corr()\n",
    "    sns.heatmap(correlation_matrix, annot=True, cmap='crest', ax=ax, cbar_kws={'shrink': .5})\n",
    "    ax.set_title(title)\n",
    "    \n",
    "plt.tight_layout()\n",
    "plt.show()\n"
   ]
  },
  {
   "cell_type": "code",
   "execution_count": null,
   "metadata": {},
   "outputs": [],
   "source": [
    "# Normalize and rank the 'cos_bert' values from 0 to 10\n",
    "cosine_user1['bert_ranking'] = (cosine_user1['cos_bert'] - cosine_user1['cos_bert'].min()) / (cosine_user1['cos_bert'].max() - cosine_user1['cos_bert'].min()) * 3\n",
    "cosine_user1['word2vec_ranking'] = (cosine_user1['cos_word2vec'] - cosine_user1['cos_word2vec'].min()) / (cosine_user1['cos_word2vec'].max() - cosine_user1['cos_word2vec'].min()) * 3\n",
    "cosine_user1['tfidf_ranking'] = (cosine_user1['cos_tfidf'] - cosine_user1['cos_tfidf'].min()) / (cosine_user1['cos_tfidf'].max() - cosine_user1['cos_tfidf'].min()) * 3\n",
    "cosine_user1.head(3)"
   ]
  },
  {
   "cell_type": "code",
   "execution_count": null,
   "metadata": {},
   "outputs": [],
   "source": [
    "cosine_user1 = cosine_user1.sort_values(by='bert_ranking', ascending=False).reset_index(drop=True)\n",
    "first_occurrence_index = cosine_user1.loc[cosine_user1['label'] != 'registered_nurse'].index.min()\n",
    "\n",
    "if pd.notnull(first_occurrence_index):\n",
    "    print(f\"The first occurrence of another label is at index: {first_occurrence_index}\")\n",
    "    print(f\"The label at this index is: {cosine_user1.loc[first_occurrence_index, 'label']}\")\n",
    "else:\n",
    "    print(\"There are no labels other than 'registered_nurse' in the DataFrame.\")"
   ]
  },
  {
   "cell_type": "code",
   "execution_count": null,
   "metadata": {},
   "outputs": [],
   "source": [
    "cosine_user1.iloc[642:648]"
   ]
  },
  {
   "cell_type": "code",
   "execution_count": null,
   "metadata": {},
   "outputs": [],
   "source": [
    "ideal_df = cosine_user1.iloc[:644]\n",
    "# Count the values in the \"label\" column\n",
    "label_counts = ideal_df['label'].value_counts()\n",
    "\n",
    "print(label_counts)"
   ]
  },
  {
   "cell_type": "code",
   "execution_count": null,
   "metadata": {},
   "outputs": [],
   "source": [
    "cosine_user1 = cosine_user1.sort_values(by='word2vec_ranking', ascending=False).reset_index(drop=True)\n",
    "first_occurrence_index = cosine_user1.loc[cosine_user1['label'] != 'registered_nurse'].index.min()\n",
    "\n",
    "if pd.notnull(first_occurrence_index):\n",
    "    print(f\"The first occurrence of another label is at index: {first_occurrence_index}\")\n",
    "    print(f\"The label at this index is: {cosine_user1.loc[first_occurrence_index, 'label']}\")\n",
    "else:\n",
    "    print(\"There are no labels other than 'registered_nurse' in the DataFrame.\")"
   ]
  },
  {
   "cell_type": "code",
   "execution_count": null,
   "metadata": {},
   "outputs": [],
   "source": [
    "cosine_user1.iloc[430:436]"
   ]
  },
  {
   "cell_type": "code",
   "execution_count": null,
   "metadata": {},
   "outputs": [],
   "source": [
    "ideal_df = cosine_user1.iloc[:644]\n",
    "# Count the values in the \"label\" column\n",
    "label_counts = ideal_df['label'].value_counts()\n",
    "\n",
    "print(label_counts)"
   ]
  },
  {
   "cell_type": "code",
   "execution_count": null,
   "metadata": {},
   "outputs": [],
   "source": [
    "cosine_user1 = cosine_user1.sort_values(by='tfidf_ranking', ascending=False).reset_index(drop=True)\n",
    "first_occurrence_index = cosine_user1.loc[cosine_user1['label'] != 'registered_nurse'].index.min()\n",
    "\n",
    "if pd.notnull(first_occurrence_index):\n",
    "    print(f\"The first occurrence of another label is at index: {first_occurrence_index}\")\n",
    "    print(f\"The label at this index is: {cosine_user1.loc[first_occurrence_index, 'label']}\")\n",
    "else:\n",
    "    print(\"There are no labels other than 'registered_nurse' in the DataFrame.\")"
   ]
  },
  {
   "cell_type": "code",
   "execution_count": null,
   "metadata": {},
   "outputs": [],
   "source": [
    "ideal_df = cosine_user1.iloc[:644]\n",
    "# Count the values in the \"label\" column\n",
    "label_counts = ideal_df['label'].value_counts()\n",
    "\n",
    "print(label_counts)"
   ]
  },
  {
   "cell_type": "markdown",
   "metadata": {},
   "source": [
    "human ranking"
   ]
  },
  {
   "cell_type": "code",
   "execution_count": null,
   "metadata": {},
   "outputs": [],
   "source": [
    "cosine_user1['label'].value_counts()"
   ]
  },
  {
   "cell_type": "markdown",
   "metadata": {},
   "source": [
    "user1"
   ]
  },
  {
   "cell_type": "code",
   "execution_count": null,
   "metadata": {},
   "outputs": [],
   "source": [
    "# Randomly select 10 numbers from the range 0-30 (top 30 ranked 'registered_nurse' jobs for user1)\n",
    "random.seed(630)\n",
    "numbers_0_30 = random.sample(range(31), 10)\n",
    "\n",
    "# Randomly select 10 numbers from the range 613-643 (least 30 ranked 'registered_nurse' jobs for user1)\n",
    "numbers_613_643 = random.sample(range(613, 644), 10)\n",
    "\n",
    "# Randomly select 3 numbers from the range 644-664 (top 20 ranked jobs for user1 that is not 'registered_nurse')\n",
    "numbers_644_664 = random.sample(range(644, 665), 3)\n",
    "\n",
    "# Randomly select 4 numbers from the range 895-915 (middle 30 ranked jobs for user1 that is not 'registered_nurse')\n",
    "numbers_895_915 = random.sample(range(895, 916), 4)\n",
    "\n",
    "# Randomly select 3 numbers from the range 1136-1166 (least 20 ranking jobs for user1 that is not 'registered_nurse')\n",
    "numbers_1136_1166 = random.sample(range(1136, 1167), 3)\n",
    "\n",
    "print('Randomly selected rows for jobs ranked as 3:', numbers_0_30)\n",
    "print('Randomly selected rows for jobs ranked as 2:', numbers_613_643)\n",
    "print('Randomly selected rows for jobs ranked as 1:', numbers_644_664, numbers_895_915, numbers_1136_1166)"
   ]
  },
  {
   "cell_type": "code",
   "execution_count": null,
   "metadata": {},
   "outputs": [],
   "source": [
    "cosine_user1 = cosine_user1.sort_values(by='bert_ranking', ascending=False).reset_index(drop=True)\n",
    "user1_bert = cosine_user1.iloc[numbers_0_30 + numbers_613_643 + numbers_644_664 + numbers_895_915 + numbers_1136_1166].sort_values(by='bert_ranking', ascending=False).reset_index(drop=True)\n",
    "label_values = [3] * 10 + [2] * 10 + [1] * 10\n",
    "user1_bert['label'] = label_values\n",
    "user1_bert = user1_bert[['link', 'label', 'bert_ranking']]\n",
    "user1_bert['human_ranking'] = ''\n",
    "# Shuffle the rows of the DataFrame\n",
    "user1_bert = user1_bert.sample(frac=1).reset_index(drop=True)\n",
    "\n",
    "# Print the shuffled DataFrame\n",
    "user1_bert"
   ]
  },
  {
   "cell_type": "code",
   "execution_count": null,
   "metadata": {},
   "outputs": [],
   "source": [
    "cosine_user1 = cosine_user1.sort_values(by='word2vec_ranking', ascending=False).reset_index(drop=True)\n",
    "user1_word2vec = cosine_user1.iloc[numbers_0_30 + numbers_613_643 + numbers_644_664 + numbers_1136_1166 + numbers_895_915].sort_values(by='word2vec_ranking', ascending=False).reset_index(drop=True)\n",
    "label_values = [3] * 10 + [2] * 10 + [1] * 10\n",
    "user1_word2vec['label'] = label_values\n",
    "user1_word2vec = user1_word2vec[['link', 'label', 'word2vec_ranking']]\n",
    "user1_word2vec['human_ranking'] = ''\n",
    "# Shuffle the rows of the DataFrame\n",
    "user1_word2vec = user1_word2vec.sample(frac=1).reset_index(drop=True)\n",
    "\n",
    "# Print the shuffled DataFrame\n",
    "user1_word2vec"
   ]
  },
  {
   "cell_type": "code",
   "execution_count": null,
   "metadata": {},
   "outputs": [],
   "source": [
    "cosine_user1 = cosine_user1.sort_values(by='tfidf_ranking', ascending=False).reset_index(drop=True)\n",
    "user1_tfidf = cosine_user1.iloc[numbers_0_30 + numbers_613_643 + numbers_644_664 + numbers_1136_1166 + numbers_895_915].sort_values(by='tfidf_ranking', ascending=False).reset_index(drop=True)\n",
    "label_values = [3] * 10 + [2] * 10 + [1] * 10\n",
    "user1_tfidf['label'] = label_values\n",
    "user1_tfidf = user1_tfidf[['link', 'label', 'tfidf_ranking']]\n",
    "user1_tfidf['human_ranking'] = ''\n",
    "# Shuffle the rows of the DataFrame\n",
    "user1_tfidf = user1_tfidf.sample(frac=1).reset_index(drop=True)\n",
    "\n",
    "# Print the shuffled DataFrame\n",
    "user1_tfidf"
   ]
  },
  {
   "cell_type": "markdown",
   "metadata": {},
   "source": [
    "user2"
   ]
  },
  {
   "cell_type": "code",
   "execution_count": null,
   "metadata": {},
   "outputs": [],
   "source": [
    "# Normalize and rank the 'cos_bert' values from 0 to 3\n",
    "cosine_user2['bert_ranking'] = (cosine_user2['cos_bert'] - cosine_user2['cos_bert'].min()) / (cosine_user2['cos_bert'].max() - cosine_user2['cos_bert'].min()) * 3\n",
    "cosine_user2['word2vec_ranking'] = (cosine_user2['cos_word2vec'] - cosine_user2['cos_word2vec'].min()) / (cosine_user2['cos_word2vec'].max() - cosine_user2['cos_word2vec'].min()) * 3\n",
    "cosine_user2['tfidf_ranking'] = (cosine_user2['cos_tfidf'] - cosine_user2['cos_tfidf'].min()) / (cosine_user2['cos_tfidf'].max() - cosine_user2['cos_tfidf'].min()) * 3\n",
    "cosine_user2.head(3)"
   ]
  },
  {
   "cell_type": "code",
   "execution_count": null,
   "metadata": {},
   "outputs": [],
   "source": [
    "random.seed(820)\n",
    "\n",
    "# Randomly select 10 numbers from the range 0-30 (top 30 ranked 'electrician' jobs for user2)\n",
    "numbers_0_30 = random.sample(range(31), 10)\n",
    "\n",
    "# Randomly select 10 numbers from the range 115-145 (least 30 ranked 'electrician' jobs for user2)\n",
    "numbers_115_145 = random.sample(range(115, 146), 10)\n",
    "\n",
    "# Randomly select 3 numbers from the range 146-156 (top 20 ranked jobs for user2 that is not 'electrician')\n",
    "numbers_146_156 = random.sample(range(146, 157), 3)\n",
    "\n",
    "# Randomly select 3 numbers from the range 641-671 (least 20 ranking jobs for user2 that is not 'electrician')\n",
    "numbers_641_671 = random.sample(range(641, 672), 3)\n",
    "\n",
    "# Randomly select 4 numbers from the range 1136-1166 (middle 30 ranked jobs for user2 that is not 'electrician')\n",
    "numbers_1136_1166 = random.sample(range(1136, 1167), 4)\n",
    "\n",
    "print('Randomly selected rows for jobs ranked as 3:', numbers_0_30)\n",
    "print('Randomly selected rows for jobs ranked as 2:', numbers_115_145)\n",
    "print('Randomly selected rows for jobs ranked as 1:', numbers_146_156, numbers_641_671, numbers_1136_1166)"
   ]
  },
  {
   "cell_type": "code",
   "execution_count": null,
   "metadata": {},
   "outputs": [],
   "source": [
    "cosine_user2 = cosine_user2.sort_values(by='bert_ranking', ascending=False).reset_index(drop=True)\n",
    "user2_bert = cosine_user2.iloc[numbers_0_30 + numbers_115_145 + numbers_146_156 + numbers_641_671 + numbers_1136_1166].sort_values(by='bert_ranking', ascending=False).reset_index(drop=True)\n",
    "label_values = [3] * 10 + [2] * 10 + [1] * 10\n",
    "user2_bert['label'] = label_values\n",
    "user2_bert = user2_bert[['link', 'label', 'bert_ranking']]\n",
    "user2_bert['human_ranking'] = ''\n",
    "# Shuffle the rows of the DataFrame\n",
    "user2_bert = user2_bert.sample(frac=1).reset_index(drop=True)\n",
    "\n",
    "# Print the shuffled DataFrame\n",
    "user2_bert"
   ]
  },
  {
   "cell_type": "code",
   "execution_count": null,
   "metadata": {},
   "outputs": [],
   "source": [
    "cosine_user2 = cosine_user2.sort_values(by='word2vec_ranking', ascending=False).reset_index(drop=True)\n",
    "user2_word2vec = cosine_user2.iloc[numbers_0_30 + numbers_115_145 + numbers_146_156 + numbers_641_671 + numbers_1136_1166].sort_values(by='word2vec_ranking', ascending=False).reset_index(drop=True)\n",
    "label_values = [3] * 10 + [2] * 10 + [1] * 10\n",
    "user2_word2vec['label'] = label_values\n",
    "user2_word2vec = user2_word2vec[['link', 'label', 'word2vec_ranking']]\n",
    "user2_word2vec['human_ranking'] = ''\n",
    "# Shuffle the rows of the DataFrame\n",
    "user2_word2vec = user2_word2vec.sample(frac=1).reset_index(drop=True)\n",
    "\n",
    "# Print the shuffled DataFrame\n",
    "user2_word2vec"
   ]
  },
  {
   "cell_type": "code",
   "execution_count": null,
   "metadata": {},
   "outputs": [],
   "source": [
    "cosine_user2 = cosine_user2.sort_values(by='tfidf_ranking', ascending=False).reset_index(drop=True)\n",
    "user2_tfidf = cosine_user2.iloc[numbers_0_30 + numbers_115_145 + numbers_146_156 + numbers_641_671 + numbers_1136_1166].sort_values(by='tfidf_ranking', ascending=False).reset_index(drop=True)\n",
    "label_values = [3] * 10 + [2] * 10 + [1] * 10\n",
    "user2_tfidf['label'] = label_values\n",
    "user2_tfidf = user2_tfidf[['link', 'label', 'tfidf_ranking']]\n",
    "user2_tfidf['human_ranking'] = ''\n",
    "# Shuffle the rows of the DataFrame\n",
    "user2_tfidf = user2_tfidf.sample(frac=1).reset_index(drop=True)\n",
    "\n",
    "# Print the shuffled DataFrame\n",
    "user2_tfidf"
   ]
  },
  {
   "cell_type": "code",
   "execution_count": null,
   "metadata": {},
   "outputs": [],
   "source": []
  },
  {
   "cell_type": "code",
   "execution_count": 81,
   "metadata": {},
   "outputs": [
    {
     "ename": "NameError",
     "evalue": "name 'cosine_user3' is not defined",
     "output_type": "error",
     "traceback": [
      "\u001b[1;31m---------------------------------------------------------------------------\u001b[0m",
      "\u001b[1;31mNameError\u001b[0m                                 Traceback (most recent call last)",
      "Cell \u001b[1;32mIn[81], line 2\u001b[0m\n\u001b[0;32m      1\u001b[0m \u001b[38;5;66;03m# Normalize and rank the 'cos_bert' values from 0 to 3\u001b[39;00m\n\u001b[1;32m----> 2\u001b[0m cosine_user3[\u001b[38;5;124m'\u001b[39m\u001b[38;5;124mbert_ranking\u001b[39m\u001b[38;5;124m'\u001b[39m] \u001b[38;5;241m=\u001b[39m (cosine_user3[\u001b[38;5;124m'\u001b[39m\u001b[38;5;124mcos_bert\u001b[39m\u001b[38;5;124m'\u001b[39m] \u001b[38;5;241m-\u001b[39m cosine_user3[\u001b[38;5;124m'\u001b[39m\u001b[38;5;124mcos_bert\u001b[39m\u001b[38;5;124m'\u001b[39m]\u001b[38;5;241m.\u001b[39mmin()) \u001b[38;5;241m/\u001b[39m (cosine_user3[\u001b[38;5;124m'\u001b[39m\u001b[38;5;124mcos_bert\u001b[39m\u001b[38;5;124m'\u001b[39m]\u001b[38;5;241m.\u001b[39mmax() \u001b[38;5;241m-\u001b[39m cosine_user3[\u001b[38;5;124m'\u001b[39m\u001b[38;5;124mcos_bert\u001b[39m\u001b[38;5;124m'\u001b[39m]\u001b[38;5;241m.\u001b[39mmin()) \u001b[38;5;241m*\u001b[39m \u001b[38;5;241m3\u001b[39m\n\u001b[0;32m      3\u001b[0m cosine_user3[\u001b[38;5;124m'\u001b[39m\u001b[38;5;124mword2vec_ranking\u001b[39m\u001b[38;5;124m'\u001b[39m] \u001b[38;5;241m=\u001b[39m (cosine_user3[\u001b[38;5;124m'\u001b[39m\u001b[38;5;124mcos_word2vec\u001b[39m\u001b[38;5;124m'\u001b[39m] \u001b[38;5;241m-\u001b[39m cosine_user3[\u001b[38;5;124m'\u001b[39m\u001b[38;5;124mcos_word2vec\u001b[39m\u001b[38;5;124m'\u001b[39m]\u001b[38;5;241m.\u001b[39mmin()) \u001b[38;5;241m/\u001b[39m (cosine_user3[\u001b[38;5;124m'\u001b[39m\u001b[38;5;124mcos_word2vec\u001b[39m\u001b[38;5;124m'\u001b[39m]\u001b[38;5;241m.\u001b[39mmax() \u001b[38;5;241m-\u001b[39m cosine_user3[\u001b[38;5;124m'\u001b[39m\u001b[38;5;124mcos_word2vec\u001b[39m\u001b[38;5;124m'\u001b[39m]\u001b[38;5;241m.\u001b[39mmin()) \u001b[38;5;241m*\u001b[39m \u001b[38;5;241m3\u001b[39m\n\u001b[0;32m      4\u001b[0m cosine_user3[\u001b[38;5;124m'\u001b[39m\u001b[38;5;124mtfidf_ranking\u001b[39m\u001b[38;5;124m'\u001b[39m] \u001b[38;5;241m=\u001b[39m (cosine_user3[\u001b[38;5;124m'\u001b[39m\u001b[38;5;124mcos_tfidf\u001b[39m\u001b[38;5;124m'\u001b[39m] \u001b[38;5;241m-\u001b[39m cosine_user3[\u001b[38;5;124m'\u001b[39m\u001b[38;5;124mcos_tfidf\u001b[39m\u001b[38;5;124m'\u001b[39m]\u001b[38;5;241m.\u001b[39mmin()) \u001b[38;5;241m/\u001b[39m (cosine_user3[\u001b[38;5;124m'\u001b[39m\u001b[38;5;124mcos_tfidf\u001b[39m\u001b[38;5;124m'\u001b[39m]\u001b[38;5;241m.\u001b[39mmax() \u001b[38;5;241m-\u001b[39m cosine_user3[\u001b[38;5;124m'\u001b[39m\u001b[38;5;124mcos_tfidf\u001b[39m\u001b[38;5;124m'\u001b[39m]\u001b[38;5;241m.\u001b[39mmin()) \u001b[38;5;241m*\u001b[39m \u001b[38;5;241m3\u001b[39m\n",
      "\u001b[1;31mNameError\u001b[0m: name 'cosine_user3' is not defined"
     ]
    }
   ],
   "source": [
    "# Normalize and rank the 'cos_bert' values from 0 to 3\n",
    "cosine_user3['bert_ranking'] = (cosine_user3['cos_bert'] - cosine_user3['cos_bert'].min()) / (cosine_user3['cos_bert'].max() - cosine_user3['cos_bert'].min()) * 3\n",
    "cosine_user3['word2vec_ranking'] = (cosine_user3['cos_word2vec'] - cosine_user3['cos_word2vec'].min()) / (cosine_user3['cos_word2vec'].max() - cosine_user3['cos_word2vec'].min()) * 3\n",
    "cosine_user3['tfidf_ranking'] = (cosine_user3['cos_tfidf'] - cosine_user3['cos_tfidf'].min()) / (cosine_user3['cos_tfidf'].max() - cosine_user3['cos_tfidf'].min()) * 3\n",
    "cosine_user3.head(3)"
   ]
  },
  {
   "cell_type": "code",
   "execution_count": null,
   "metadata": {},
   "outputs": [],
   "source": [
    "random.seed(215)\n",
    "\n",
    "# Randomly select 10 numbers from the range 0-30 (top 30 ranked 'data_analyst' jobs for user3)\n",
    "numbers_0_30 = random.sample(range(31), 10)\n",
    "\n",
    "# Randomly select 10 numbers from the range 345-375 (least 30 ranked 'data_analyst' jobs for user3)\n",
    "numbers_345_375 = random.sample(range(345, 376), 10)\n",
    "\n",
    "# Randomly select 3 numbers from the range 376-396 (top 20 ranked jobs for user3 that is not 'data_analyst')\n",
    "numbers_376_396 = random.sample(range(376, 397), 3)\n",
    "\n",
    "# Randomly select 3 numbers from the range 755-785 (middle 30 ranking jobs for user3 that is not 'data_analyst')\n",
    "numbers_755_785 = random.sample(range(755, 786), 4)\n",
    "\n",
    "# Randomly select 4 numbers from the range 1136-1166 (least 20 ranked jobs for user3 that is not 'data_analyst')\n",
    "numbers_1136_1166 = random.sample(range(1136, 1167), 3)\n",
    "\n",
    "print('Randomly selected rows for jobs ranked as 3:', numbers_0_30)\n",
    "print('Randomly selected rows for jobs ranked as 2:', numbers_345_375)\n",
    "print('Randomly selected rows for jobs ranked as 1:', numbers_376_396, numbers_641_671, numbers_1136_1166)"
   ]
  },
  {
   "cell_type": "code",
   "execution_count": null,
   "metadata": {},
   "outputs": [],
   "source": [
    "\n",
    "cosine_user3 = cosine_user3.sort_values(by='bert_ranking', ascending=False).reset_index(drop=True)\n",
    "user3_bert = cosine_user3.iloc[numbers_0_30 + numbers_345_375 + numbers_376_396 + numbers_755_785 + numbers_1136_1166].sort_values(by='bert_ranking', ascending=False).reset_index(drop=True)\n",
    "label_values = [3] * 10 + [2] * 10 + [1] * 10\n",
    "user3_bert['label'] = label_values\n",
    "user3_bert = user3_bert[['link', 'label', 'bert_ranking']]\n",
    "user3_bert['human_ranking'] = ''\n",
    "# Shuffle the rows of the DataFrame\n",
    "user3_bert = user3_bert.sample(frac=1).reset_index(drop=True)\n",
    "\n",
    "# Print the shuffled DataFrame\n",
    "user3_bert\n"
   ]
  },
  {
   "cell_type": "code",
   "execution_count": null,
   "metadata": {},
   "outputs": [],
   "source": [
    "cosine_user3 = cosine_user3.sort_values(by='word2vec_ranking', ascending=False).reset_index(drop=True)\n",
    "user3_word2vec = cosine_user3.iloc[numbers_0_30 + numbers_345_375 + numbers_376_396 + numbers_755_785 + numbers_1136_1166].sort_values(by='word2vec_ranking', ascending=False).reset_index(drop=True)\n",
    "label_values = [3] * 10 + [2] * 10 + [1] * 10\n",
    "user3_word2vec['label'] = label_values\n",
    "user3_word2vec = user3_word2vec[['link', 'label', 'word2vec_ranking']]\n",
    "user3_word2vec['human_ranking'] = ''\n",
    "# Shuffle the rows of the DataFrame\n",
    "user3_word2vec = user3_word2vec.sample(frac=1).reset_index(drop=True)\n",
    "\n",
    "# Print the shuffled DataFrame\n",
    "user3_word2vec\n"
   ]
  },
  {
   "cell_type": "code",
   "execution_count": null,
   "metadata": {},
   "outputs": [],
   "source": [
    "cosine_user3 = cosine_user3.sort_values(by='tfidf_ranking', ascending=False).reset_index(drop=True)\n",
    "user3_tfidf = cosine_user3.iloc[numbers_0_30 + numbers_345_375 + numbers_376_396 + numbers_755_785 + numbers_1136_1166].sort_values(by='tfidf_ranking', ascending=False).reset_index(drop=True)\n",
    "label_values = [3] * 10 + [2] * 10 + [1] * 10\n",
    "user3_tfidf['label'] = label_values\n",
    "user3_tfidf = user3_tfidf[['link', 'label', 'tfidf_ranking']]\n",
    "user3_tfidf['human_ranking'] = ''\n",
    "# Shuffle the rows of the DataFrame\n",
    "user3_tfidf = user3_tfidf.sample(frac=1).reset_index(drop=True)"
   ]
  },
  {
   "cell_type": "code",
   "execution_count": null,
   "metadata": {},
   "outputs": [],
   "source": [
    "user3_tfidf"
   ]
  },
  {
   "cell_type": "code",
   "execution_count": null,
   "metadata": {},
   "outputs": [],
   "source": []
  }
 ],
 "metadata": {
  "kernelspec": {
   "display_name": "base",
   "language": "python",
   "name": "python3"
  },
  "language_info": {
   "codemirror_mode": {
    "name": "ipython",
    "version": 3
   },
   "file_extension": ".py",
   "mimetype": "text/x-python",
   "name": "python",
   "nbconvert_exporter": "python",
   "pygments_lexer": "ipython3",
   "version": "3.11.4"
  }
 },
 "nbformat": 4,
 "nbformat_minor": 2
}
