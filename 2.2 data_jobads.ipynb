{
 "cells": [
  {
   "cell_type": "markdown",
   "metadata": {
    "tags": []
   },
   "source": [
    "# JOB OFFER'S DATA"
   ]
  },
  {
   "cell_type": "code",
   "execution_count": null,
   "metadata": {},
   "outputs": [],
   "source": [
    "# Install the libriries for web scraping.\n",
    "# !pip3 install selenium\n",
    "# !pip install -U selenium\n",
    "# !pip install webdriver-manager\n",
    "# !pip3 install webdriver_manager\n",
    "# !pip3 install lxml\n",
    "# !pip install --upgrade pip"
   ]
  },
  {
   "cell_type": "code",
   "execution_count": 1,
   "metadata": {},
   "outputs": [],
   "source": [
    "# Load nessesary libraries.\n",
    "import selenium \n",
    "import time\n",
    "import pandas as pd\n",
    "from time import sleep\n",
    "from random import randint\n",
    "from selenium import webdriver\n",
    "from selenium.webdriver.chrome.service import Service as ChromeService\n",
    "from webdriver_manager.chrome import ChromeDriverManager\n",
    "from selenium.webdriver.common.by import By\n",
    "from selenium.webdriver.support.ui import WebDriverWait\n",
    "from selenium.common.exceptions import NoSuchElementException"
   ]
  },
  {
   "cell_type": "code",
   "execution_count": 2,
   "metadata": {},
   "outputs": [
    {
     "name": "stdout",
     "output_type": "stream",
     "text": [
      "Selenium version used: 4.15.2\n"
     ]
    }
   ],
   "source": [
    "# Version check.\n",
    "print(\"Selenium version used:\", selenium.__version__)"
   ]
  },
  {
   "cell_type": "code",
   "execution_count": 3,
   "metadata": {},
   "outputs": [],
   "source": [
    "# Start up the driver with with Google Chrome using incognito mode and define job with location of interest.\n",
    "option= webdriver.ChromeOptions()\n",
    "option.add_argument(\"--incognito\")\n",
    "\n",
    "jobs = ['registered+nurse', 'electrician', 'data+analyst']\n",
    "\n",
    "pagination_url = 'https://ie.indeed.com/jobs?q={}&l=Dublin%2C+County+Dublin&radius=25&filter=0&sort=date&start={}'"
   ]
  },
  {
   "cell_type": "markdown",
   "metadata": {},
   "source": [
    "### 1. Web Scraping\n",
    "**registered nurse ads**"
   ]
  },
  {
   "cell_type": "code",
   "execution_count": null,
   "metadata": {},
   "outputs": [],
   "source": [
    "# Determine how many jobs are open for a specific position and how many pages to loop through.\n",
    "start = time.time()\n",
    "job = jobs[0]\n",
    "\n",
    "driver = webdriver.Chrome(service=ChromeService(ChromeDriverManager().install()), options=option)\n",
    "driver.get(pagination_url.format(job, 0))\n",
    "\n",
    "sleep(randint(4, 9))\n",
    "job_number = driver.find_element(By.CLASS_NAME,'jobsearch-JobCountAndSortPane-jobCount').text\n",
    "max_iter_pgs=int(job_number.split(' ')[0])//15 \n",
    "\n",
    "driver.quit() \n",
    "end = time.time()\n",
    "\n",
    "# Check results.\n",
    "print('REGISTERED NURSE')\n",
    "print('Total number of vacancies available in the area:', job_number)\n",
    "print('Maximum number of iterable pages for the search:', max_iter_pgs, 'pages')\n",
    "print('\\n')\n",
    "print(\"Action was completed  in:\", end-start, \"seconds\")"
   ]
  },
  {
   "cell_type": "code",
   "execution_count": null,
   "metadata": {},
   "outputs": [],
   "source": [
    "# Create a list of each job advertisement’s title and the links to access them.\n",
    "start = time.time()\n",
    "job = jobs[0]\n",
    "nurse_list = []\n",
    "\n",
    "driver = webdriver.Chrome(service=ChromeService(ChromeDriverManager().install()), options=option)\n",
    "sleep(randint(4, 9))\n",
    "\n",
    "for i in range(0, max_iter_pgs):\n",
    "    driver.get(pagination_url.format(job, i*10))\n",
    "    \n",
    "    sleep(randint(4, 9))\n",
    "\n",
    "    job_page = driver.find_element(By.ID, \"mosaic-jobResults\")\n",
    "    jobz = job_page.find_elements(By.CLASS_NAME, \"job_seen_beacon\")\n",
    "\n",
    "    for jj in jobz:\n",
    "        job_title = jj.find_element(By.CLASS_NAME, \"jobTitle\")\n",
    "        nurse_list.append([job_title.text,\n",
    "                           job_title.find_element(By.CSS_SELECTOR, \"a\").get_attribute(\"href\"),\n",
    "                           jj.find_element(By.CLASS_NAME,\"date\").text])\n",
    "\n",
    "driver.quit() \n",
    "end = time.time()\n",
    "\n",
    "# Check results.\n",
    "for x in range(2):\n",
    "    print(nurse_list[x][0])\n",
    "    print(nurse_list[x][1])\n",
    "    print(nurse_list[x][2])\n",
    "print('\\n')\n",
    "print(\"The total count of scraped job vacancy titles and their corresponding links:\", len(nurse_list), 'jobs')\n",
    "print(\"Action was completed  in:\", end-start, \"seconds\")\n"
   ]
  },
  {
   "cell_type": "code",
   "execution_count": null,
   "metadata": {},
   "outputs": [],
   "source": []
  },
  {
   "cell_type": "code",
   "execution_count": null,
   "metadata": {},
   "outputs": [],
   "source": [
    "start = time.time()\n",
    "\n",
    "driver = webdriver.Chrome(service=ChromeService(ChromeDriverManager().install()), options=option)\n",
    "sleep(randint(5, 8))\n",
    "max_attempts = 3\n",
    "\n",
    "for x in range(len(nurse_list)):\n",
    "    attempts = 0\n",
    "    driver.get(nurse_list[x][1])\n",
    "    sleep(randint(5, 8))\n",
    "    \n",
    "    while attempts < max_attempts:\n",
    "        try:\n",
    "            checkbox = driver.find_element(By.ID, 'challenge-running')\n",
    "            checkbox.click()\n",
    "            \n",
    "            WebDriverWait(driver, 20).until(EC.frame_to_be_available_and_switch_to_it((By.XPATH,\"//iframe[@title='Widget containing a Cloudflare security challenge']\")))\n",
    "            WebDriverWait(driver, 20).until(EC.element_to_be_clickable((By.XPATH, \"//label[@class='ctp-checkbox-label']\"))).click()\n",
    "            sleep(20)\n",
    "            \n",
    "            attempts += 1\n",
    "        except NoSuchElementException:\n",
    "            break\n",
    "    \n",
    "\n",
    "    \n",
    "    y = driver.find_element(By.ID,'jobDescriptionText').text\n",
    "    nurse_list[x].append(y)\n",
    "    \n",
    "driver.quit()\n",
    "end = time.time()\n",
    "print(end - start,'seconds to complete Query!')\n",
    "\n",
    "\n",
    "\n",
    "\n",
    "\n",
    "\n",
    "'''# List of URLs to scrape\n",
    "url_list = ['https://example.com/page1', 'https://example.com/page2', 'https://example.com/page3']\n",
    "\n",
    "# Define a maximum number of attempts to handle the \"Verify you are human\" checkbox\n",
    "max_attempts = 3\n",
    "\n",
    "for url in url_list:\n",
    "    attempts = 0\n",
    "    driver.get(url)\n",
    "\n",
    "    while attempts < max_attempts:\n",
    "        try:\n",
    "            # Check if the \"Verify you are human\" checkbox is present\n",
    "            checkbox = driver.find_element(By.YOUR_LOCATOR_HERE, 'your_locator_value_here')\n",
    "\n",
    "            # If the checkbox is found, perform actions to handle it\n",
    "            # For example, you might need to click on it or wait for user input\n",
    "            checkbox.click()\n",
    "\n",
    "            # Wait for the checkbox to be handled before continuing (modify the timeout as needed)\n",
    "            WebDriverWait(driver, 10).until(\n",
    "                EC.invisibility_of_element_located((By.YOUR_LOCATOR_HERE, 'your_locator_value_here'))\n",
    "            )\n",
    "\n",
    "            # Increment the attempts counter\n",
    "            attempts += 1\n",
    "\n",
    "        except NoSuchElementException:\n",
    "            # If the checkbox is not found, break out of the loop and continue with scraping\n",
    "            print(f\"No 'Verify you are human' checkbox found for {url}. Continuing with scraping.\")\n",
    "            break\n",
    "\n",
    "    # Continue with your scraping logic here for the current URL\n",
    "\n",
    "# Close the webdriver when you're done\n",
    "driver.quit()'''\n"
   ]
  },
  {
   "cell_type": "code",
   "execution_count": null,
   "metadata": {},
   "outputs": [],
   "source": [
    "nurse_list"
   ]
  },
  {
   "cell_type": "markdown",
   "metadata": {},
   "source": [
    "**electrician ads**"
   ]
  },
  {
   "cell_type": "code",
   "execution_count": null,
   "metadata": {},
   "outputs": [],
   "source": [
    "# Determine how many jobs are open for a specific position and how many pages to loop through.\n",
    "start = time.time()\n",
    "job = jobs[1]\n",
    "\n",
    "driver = webdriver.Chrome(service=ChromeService(ChromeDriverManager().install()), options=option)\n",
    "driver.get(pagination_url.format(job, 0))\n",
    "\n",
    "sleep(randint(4, 9))\n",
    "job_number = driver.find_element(By.CLASS_NAME,'jobsearch-JobCountAndSortPane-jobCount').text\n",
    "max_iter_pgs=int(job_number.split(' ')[0])//15 \n",
    "\n",
    "driver.quit() \n",
    "end = time.time()\n",
    "\n",
    "# Check results.\n",
    "print('ELECTRICIAN')\n",
    "print('Total number of vacancies available in the area:', job_number)\n",
    "print('Maximum number of iterable pages for the search:', max_iter_pgs, 'pages')\n",
    "print('\\n')\n",
    "print(\"Action was completed  in:\", end-start, \"seconds\")"
   ]
  },
  {
   "cell_type": "code",
   "execution_count": null,
   "metadata": {},
   "outputs": [],
   "source": [
    "# Create a list of each job advertisement’s title and the links to access them.\n",
    "start = time.time()\n",
    "job = jobs[1]\n",
    "electrician_list = []\n",
    "\n",
    "driver = webdriver.Chrome(service=ChromeService(ChromeDriverManager().install()), options=option)\n",
    "driver.maximize_window()\n",
    "driver.get(pagination_url.format('electrician', 0))\n",
    "driver.execute_script(\"document.body.style.zoom='25%'\")\n",
    "sleep(randint(4, 9))\n",
    "\n",
    "for i in range(0, max_iter_pgs):\n",
    "    driver.get(pagination_url.format(job, i*10))\n",
    "    driver.execute_script(\"document.body.style.zoom='25%'\")\n",
    "    \n",
    "    sleep(randint(4, 9))\n",
    "\n",
    "    job_page = driver.find_element(By.ID, \"mosaic-jobResults\")\n",
    "    jobz = job_page.find_elements(By.CLASS_NAME, \"job_seen_beacon\")\n",
    "\n",
    "    for jj in jobz:\n",
    "        job_title = jj.find_element(By.CLASS_NAME, \"jobTitle\")\n",
    "        job_link = job_title.find_element(By.CSS_SELECTOR, \"a\").get_attribute(\"href\")\n",
    "        date_element = jj.find_element(By.CLASS_NAME, 'date')\n",
    "        date_text = date_element.text if date_element else \"Date information not available\"\n",
    "        \n",
    "        electrician_list.append([job_title.text, job_link, date_text])\n",
    "        \n",
    "        job_title.click()\n",
    "        sleep(randint(4, 8))\n",
    "        try:\n",
    "            electrician_list.append(driver.find_element(By.ID,\"jobDescriptionText\").text)\n",
    "        except:\n",
    "            electrician_list.append(None)\n",
    "\n",
    "driver.quit() \n",
    "end = time.time()\n",
    "\n",
    "# Check results.\n",
    "for x in range(2):\n",
    "    print(electrician_list[x][0])\n",
    "    print(electrician_list[x][1])\n",
    "    print(electrician_list[x][2])\n",
    "print('\\n')\n",
    "print(\"The total count of scraped job vacancy titles and their corresponding links:\", len(electrician_list), 'jobs')\n",
    "print(\"Action was completed  in:\", end-start, \"seconds\")\n"
   ]
  },
  {
   "cell_type": "code",
   "execution_count": null,
   "metadata": {},
   "outputs": [],
   "source": [
    "electrician_list"
   ]
  },
  {
   "cell_type": "code",
   "execution_count": null,
   "metadata": {},
   "outputs": [],
   "source": [
    "start = time.time()\n",
    "\n",
    "driver = webdriver.Chrome(service=ChromeService(ChromeDriverManager().install()), options=option)\n",
    "sleep(randint(5, 8))\n",
    "max_attempts = 20\n",
    "\n",
    "for x in range(15, 133):\n",
    "    attempts = 0\n",
    "    driver.get(electrician_list[x][1])\n",
    "    sleep(randint(5, 8))\n",
    "    \n",
    "    while attempts < max_attempts:\n",
    "        try:\n",
    "            checkbox = driver.find_element(By.ID, 'challenge-running')\n",
    "            checkbox.click()\n",
    "            WebDriverWait(driver, 20).until(EC.frame_to_be_available_and_switch_to_it((By.XPATH,\"//iframe[@title='Widget containing a Cloudflare security challenge']\")))\n",
    "            WebDriverWait(driver, 20).until(EC.element_to_be_clickable((By.XPATH, \"//label[@class='ctp-checkbox-label']\"))).click()\n",
    "            driver.refresh()\n",
    "            attempts += 1\n",
    "        except NoSuchElementException:\n",
    "            break\n",
    "    driver.refresh()\n",
    "    y = driver.find_element(By.ID,'jobDescriptionText').text\n",
    "    electrician_list[x].append(y)\n",
    "    \n",
    "driver.quit()\n",
    "end = time.time()\n",
    "print(end-start,'seconds to complete Query!')\n"
   ]
  },
  {
   "cell_type": "code",
   "execution_count": null,
   "metadata": {},
   "outputs": [],
   "source": [
    "electrician_list"
   ]
  },
  {
   "cell_type": "markdown",
   "metadata": {},
   "source": [
    "**data analyst ads**"
   ]
  },
  {
   "cell_type": "code",
   "execution_count": null,
   "metadata": {},
   "outputs": [],
   "source": [
    "# Determine how many jobs are open for a specific position and how many pages to loop through.\n",
    "start = time.time()\n",
    "job = jobs[-1]\n",
    "\n",
    "driver = webdriver.Chrome(service=ChromeService(ChromeDriverManager().install()), options=option)\n",
    "driver.get(pagination_url.format(job, 0))\n",
    "\n",
    "sleep(randint(4, 9))\n",
    "job_number = driver.find_element(By.CLASS_NAME,'jobsearch-JobCountAndSortPane-jobCount').text\n",
    "max_iter_pgs=int(job_number.split(' ')[0])//15 \n",
    "\n",
    "driver.quit() \n",
    "end = time.time()\n",
    "\n",
    "# Check results.\n",
    "print('DATA ANALYST')\n",
    "print('Total number of vacancies available in the area:', job_number)\n",
    "print('Maximum number of iterable pages for the search:', max_iter_pgs, 'pages')\n",
    "print('\\n')\n",
    "print(\"Action was completed  in:\", end-start, \"seconds\")"
   ]
  },
  {
   "cell_type": "code",
   "execution_count": null,
   "metadata": {},
   "outputs": [],
   "source": []
  },
  {
   "cell_type": "code",
   "execution_count": null,
   "metadata": {},
   "outputs": [],
   "source": []
  },
  {
   "cell_type": "code",
   "execution_count": null,
   "metadata": {},
   "outputs": [],
   "source": []
  },
  {
   "cell_type": "code",
   "execution_count": null,
   "metadata": {},
   "outputs": [],
   "source": []
  },
  {
   "cell_type": "code",
   "execution_count": null,
   "metadata": {},
   "outputs": [],
   "source": []
  },
  {
   "cell_type": "code",
   "execution_count": 17,
   "metadata": {},
   "outputs": [
    {
     "data": {
      "text/plain": [
       "[['Clinic Nurse Manager 2/ Night Manager',\n",
       "  'job_bb6b6c09943e5022',\n",
       "  'https://ie.indeed.com/rc/clk?jk=bb6b6c09943e5022&bb=zoPgR8CX0u5j0jYo3Dd_3C7qf83gufy7Itf_0aJ3eFYol4PS1OU1qpid_3F0-s4I&xkcb=SoB267M3Gn8d7HA2jz0LbzkdCdPP&fccid=d8feeffca10ac957&vjs=3']]"
      ]
     },
     "execution_count": 17,
     "metadata": {},
     "output_type": "execute_result"
    }
   ],
   "source": [
    "job_list"
   ]
  },
  {
   "cell_type": "code",
   "execution_count": 20,
   "metadata": {},
   "outputs": [],
   "source": [
    "start = time.time()\n",
    "job = jobs[0]\n",
    "job_list = []\n",
    "\n",
    "driver = webdriver.Chrome(service=ChromeService(ChromeDriverManager().install()), options=option)\n",
    "sleep(randint(4, 9))\n",
    "driver.get(pagination_url.format(job, 0))\n",
    "#driver.maximize_window()\n",
    "driver.execute_script(\"document.body.style.zoom='25%'\")\n",
    "sleep(randint(4, 9))\n",
    "\n",
    "job_page = driver.find_element(By.ID, \"mosaic-jobResults\")\n",
    "job_posts = job_page.find_elements(By.CLASS_NAME, \"job_seen_beacon\")\n",
    "\n",
    "for job_post in job_posts:\n",
    "        job_title = job_post.find_element(By.CLASS_NAME, \"jobTitle\")\n",
    "        #print(job_title.text)\n",
    "        job_id = job_title.find_element(By.CSS_SELECTOR, \"a\").get_attribute(\"id\")\n",
    "        #print(job_id)\n",
    "        job_link = job_title.find_element(By.CSS_SELECTOR, \"a\").get_attribute(\"href\")\n",
    "        #print(job_link)\n",
    "        #job_date = job_post.find_element(By.CLASS_NAME, 'date')\n",
    "        #print(job_date.text)\n",
    "        job_list.append([job_title.text, job_id, job_link, ]) #job_date.text\n",
    "'''driver.refresh()\n",
    "driver.execute_script(\"document.body.style.zoom='25%'\")\n",
    "sleep(randint(4, 9))\n",
    "job_page = driver.find_element(By.ID, \"mosaic-jobResults\")\n",
    "job_posts = job_page.find_elements(By.CLASS_NAME, \"job_seen_beacon\")\n",
    "\n",
    "for job_post in job_posts:\n",
    "        job_title.click()\n",
    "#        job_posts.click()\n",
    "#        job_title.click()\n",
    "#        sleep(5)\n",
    "#        element = job_post.find_element(By.CSS_SELECTOR, \"a\")\n",
    "#        \n",
    "#        job_title.click()\n",
    "#        sleep(4)'''\n",
    "        \n",
    "driver.quit() \n",
    "\n",
    "\n"
   ]
  },
  {
   "cell_type": "code",
   "execution_count": 21,
   "metadata": {},
   "outputs": [
    {
     "data": {
      "text/plain": [
       "[['Clinic Nurse Manager 2/ Night Manager',\n",
       "  'job_bb6b6c09943e5022',\n",
       "  'https://ie.indeed.com/rc/clk?jk=bb6b6c09943e5022&bb=X3MnDL08yb19_MftI0_YCF9r44PwtLLpDA5BUE3XqtQ0XYwovd0oTzROMn7AVfW4&xkcb=SoBr67M3Gn9iFWWzAZ0KbzkdCdPP&fccid=d8feeffca10ac957&vjs=3'],\n",
       " ['STAFF NURSE- SAOIRSE ADULT RESPITE',\n",
       "  'job_39cb94869fa7ae82',\n",
       "  'https://ie.indeed.com/rc/clk?jk=39cb94869fa7ae82&bb=zgBNeTdS12YrOkHcX9m94P2S4E2K2zDW3lGLsCnFEsqr0FKcXe1EkWdr2ml2i_hG&xkcb=SoCz67M3Gn9iFW2zAZ0JbzkdCdPP&fccid=d8feeffca10ac957&vjs=3'],\n",
       " ['Registered Psychiatric Nurse',\n",
       "  'sj_4a5f5c1b92870e22',\n",
       "  'https://ie.indeed.com/pagead/clk?mo=r&ad=-6NYlbfkN0A3xtRuSpwYY6BbrzInPQSl846lYx3Re8jPshvzr-vv4y4n7jN4194zRx80mAfYnwJc4hj22eORnVGgj5hn9h_nlm3HPy7aEUg6r7UTizNl006dh0-knMZFTZd3jApMolxYkFiDopFgVc5fLnXWmm_dM759dWyrtqlu5ue6IfMuwAGecVdSpMIXbU4WY5vIBoiOaqJusS-gPE4E2wS56ZWosSqGut6EzRkF2QiGuuhRzn00CMmmFnM4YIrWRKW7uKbh8y-kVFjtESD_CEXlnW2V6UldHFVUvVxP-pT5OlC9xguD5kaV1PdD1h9wwYE4RLHFKr_l0dK93t0w29_Vo_YdZoxPPHjDoxW1g3i9Lvqoikpza8SNjA5Lk9Gt95nvk68g-OGh3vqYFXMEK0hIo4X_uGTqOrBEJa68o6JuzWy15_1bTBULF9Hulbf0cS7JvekpgodXuAsr-WBOePCfGXVMLx0jTYcO4P7_C-nZh4Zw73-Ldd95lkVp-0b-Zeoy_1D0fzbqwyVHegm77iW5NWgorCQpec7_q1mXbeJAMf1FyjfTCQ3yEKj83Kt71VAX3JekKbuO3Qz0mVijPYtaMvuPrhisiMocnV5qjI6oZXFlo2N4ZWQfFK-yeRXHK_PqimFzlNQC-sKPiHtdAIzsyIT3e9KvtNfdy3I=&xkcb=SoBr6_M3Gn9iEKwsW50JbzkdCdPP&p=2&fvj=1&vjs=3'],\n",
       " ['Practice Nurse',\n",
       "  'job_2d333ccf4c802a5c',\n",
       "  'https://ie.indeed.com/rc/clk?jk=2d333ccf4c802a5c&bb=GljO5i_j1TZMWtrQVjVA_2bZs8UrJCI4TaBYmJSt8MhqPIdLVcgPYhEzhvOpbyVM&xkcb=SoAs67M3Gn9iFRWzAZ0LbzkdCdPP&fccid=154db6d0f93baf7c&cmp=Practice-Nurse-Recruitment&ti=Practice+Nurse&vjs=3'],\n",
       " ['Learning Disability Nurse',\n",
       "  'job_1a2efc3cae3fc2eb',\n",
       "  'https://ie.indeed.com/rc/clk?jk=1a2efc3cae3fc2eb&bb=ftCnbUk3wmt1WCSZoND_iPsci7TsSwmauYNCbQs7rhVfwfJrBVJlM6YqZMk7MwNg&xkcb=SoBp67M3Gn9iFR2zAZ0LbzkdCdPP&fccid=c12e4af4d38ba7ff&cmp=Access-Healthcare-Services-Pvt-Ltd&ti=Learning+Disability+Nurse&vjs=3'],\n",
       " ['Clinical Nurse Specialist - Hepatology (CNSp)',\n",
       "  'job_bce85566c05f6cd7',\n",
       "  'https://ie.indeed.com/rc/clk?jk=bce85566c05f6cd7&bb=ftCnbUk3wmvL3YZmRIK7pOG34bihEqzWA3PGy598o6lWXML5e1vhDVoJeG5u2pvk&xkcb=SoB667M3Gn9iFR2zAZ0PbzkdCdPP&fccid=9a7686246ce73e52&vjs=3'],\n",
       " ['Clinical Nurse Manager 2 - Medical Day Services (Infusions).',\n",
       "  'job_6182bb97ea60d129',\n",
       "  'https://ie.indeed.com/rc/clk?jk=6182bb97ea60d129&bb=ftCnbUk3wmss2-1v9zs4ija618a6ppgIizTFYt6xt-e59NOFGTDAuaMwJ18d0aKf&xkcb=SoBT67M3Gn9iFR2zAZ0NbzkdCdPP&fccid=9a7686246ce73e52&vjs=3'],\n",
       " ['Clinical Nurse Specialist - Oncology',\n",
       "  'job_e52238d345d4dda1',\n",
       "  'https://ie.indeed.com/rc/clk?jk=e52238d345d4dda1&bb=2NG16MXeBgd1hYEt8X8jX1Q1pnCU3sr_MFPvdMdOJgMhAYYyRiB4E2cONUrhx3Pp&xkcb=SoBT67M3Gn9iFQWzAZ0KbzkdCdPP&fccid=9a7686246ce73e52&vjs=3'],\n",
       " ['Clinical Nurse Specialist - Inflammatory Bowek Disease (CNSp IBD)',\n",
       "  'job_3189c1444595ef83',\n",
       "  'https://ie.indeed.com/rc/clk?jk=3189c1444595ef83&bb=2NG16MXeBgceVkCxybj55QghDlBd_j6IfjO1M8hp6HZIbRy_MhKLmGkfMfeQwipo&xkcb=SoDd67M3Gn9iFQWzAZ0NbzkdCdPP&fccid=9a7686246ce73e52&vjs=3'],\n",
       " ['Staff Nurse - Theatre',\n",
       "  'job_7cb6b3b0639d79ce',\n",
       "  'https://ie.indeed.com/rc/clk?jk=7cb6b3b0639d79ce&bb=2NG16MXeBgd6PLg3K7JylDN4xOFINjelJQCFmx_op6LaSsCs40RIErVGn27v92y5&xkcb=SoCA67M3Gn9iFQWzAZ0DbzkdCdPP&fccid=e201380b8f85775c&vjs=3'],\n",
       " ['Staff Nurse - Cath Lab',\n",
       "  'job_0ccdf6d59c71abe0',\n",
       "  'https://ie.indeed.com/rc/clk?jk=0ccdf6d59c71abe0&bb=2NG16MXeBgchV4Hi3wbTL0DV-V952P63sChCQ2CnF_Ha7pqBq91JITbD-6z_MB9q&xkcb=SoCp67M3Gn9iFQWzAZ0BbzkdCdPP&fccid=e201380b8f85775c&vjs=3'],\n",
       " ['Clinical Nurse Manager 1',\n",
       "  'job_051eccfaf34179ea',\n",
       "  'https://ie.indeed.com/rc/clk?jk=051eccfaf34179ea&bb=aUgmO4uJ1wSK80C66wTiRl4DzCJjd6ltzh4YfTES1BeiDMzoPghrssru74f6ovUz&xkcb=SoAW67M3Gn9iFQ2zAZ0KbzkdCdPP&fccid=e201380b8f85775c&vjs=3'],\n",
       " ['Clinical Nurse Specialist – Cardiology',\n",
       "  'job_5271eb8db909bf21',\n",
       "  'https://ie.indeed.com/rc/clk?jk=5271eb8db909bf21&bb=aUgmO4uJ1wRZwVSoDrI5N9cML3-8YwOwDHiO_8HdIvnPPrgVVn9tLOcVX8rz4s-Z&xkcb=SoA_67M3Gn9iFQ2zAZ0IbzkdCdPP&fccid=e201380b8f85775c&vjs=3'],\n",
       " ['Clinical Nurse Manager 1 Childrens Disability Network Team',\n",
       "  'job_eb783a464b212f09',\n",
       "  'https://ie.indeed.com/rc/clk?jk=eb783a464b212f09&bb=aUgmO4uJ1wSwn_jQdt_1R4YEEI5F9D1BsITmNeOFJfm8oUSv46VPBh524kBmkgXI&xkcb=SoAF67M3Gn9iFQ2zAZ0ObzkdCdPP&fccid=729c9ea43d23df82&vjs=3'],\n",
       " ['Clinical Nurse Specialist – Breast Centre',\n",
       "  'job_5591cd4cd02d06eb',\n",
       "  'https://ie.indeed.com/rc/clk?jk=5591cd4cd02d06eb&bb=JxIiuYVYob6hDfa8vFzGVKByQvoUHgXujtJK4VLuGc73eW5QMbAkP3qeIhaCu3Yx&xkcb=SoBP67M3Gn9iFTWzAZ0KbzkdCdPP&fccid=e201380b8f85775c&vjs=3']]"
      ]
     },
     "execution_count": 21,
     "metadata": {},
     "output_type": "execute_result"
    }
   ],
   "source": [
    "job_list\n"
   ]
  },
  {
   "cell_type": "code",
   "execution_count": null,
   "metadata": {},
   "outputs": [],
   "source": []
  },
  {
   "cell_type": "code",
   "execution_count": null,
   "metadata": {},
   "outputs": [],
   "source": []
  },
  {
   "cell_type": "code",
   "execution_count": null,
   "metadata": {},
   "outputs": [],
   "source": []
  },
  {
   "cell_type": "code",
   "execution_count": 23,
   "metadata": {},
   "outputs": [],
   "source": [
    "from webdriver_manager.chrome import ChromeDriverManager\n",
    "from selenium import webdriver"
   ]
  },
  {
   "cell_type": "code",
   "execution_count": 24,
   "metadata": {},
   "outputs": [],
   "source": [
    "chrome_driver_path = ChromeDriverManager().install()"
   ]
  },
  {
   "cell_type": "code",
   "execution_count": 29,
   "metadata": {},
   "outputs": [
    {
     "data": {
      "text/plain": [
       "'C:\\\\Users\\\\temulenbd\\\\.wdm\\\\drivers\\\\chromedriver\\\\win64\\\\120.0.6099.109\\\\chromedriver.exe'"
      ]
     },
     "execution_count": 29,
     "metadata": {},
     "output_type": "execute_result"
    }
   ],
   "source": [
    "chrome_driver_path"
   ]
  },
  {
   "cell_type": "code",
   "execution_count": 28,
   "metadata": {},
   "outputs": [
    {
     "ename": "TypeError",
     "evalue": "WebDriver.__init__() got an unexpected keyword argument 'executable_path'",
     "output_type": "error",
     "traceback": [
      "\u001b[1;31m---------------------------------------------------------------------------\u001b[0m",
      "\u001b[1;31mTypeError\u001b[0m                                 Traceback (most recent call last)",
      "Cell \u001b[1;32mIn[28], line 1\u001b[0m\n\u001b[1;32m----> 1\u001b[0m driver \u001b[38;5;241m=\u001b[39m webdriver\u001b[38;5;241m.\u001b[39mChrome(executable_path\u001b[38;5;241m=\u001b[39mchrome_driver_path)\n",
      "\u001b[1;31mTypeError\u001b[0m: WebDriver.__init__() got an unexpected keyword argument 'executable_path'"
     ]
    }
   ],
   "source": [
    "driver = webdriver.Chrome(executable_path=chrome_driver_path)"
   ]
  }
 ],
 "metadata": {
  "kernelspec": {
   "display_name": "base",
   "language": "python",
   "name": "python3"
  },
  "language_info": {
   "codemirror_mode": {
    "name": "ipython",
    "version": 3
   },
   "file_extension": ".py",
   "mimetype": "text/x-python",
   "name": "python",
   "nbconvert_exporter": "python",
   "pygments_lexer": "ipython3",
   "version": "3.11.4"
  }
 },
 "nbformat": 4,
 "nbformat_minor": 2
}
