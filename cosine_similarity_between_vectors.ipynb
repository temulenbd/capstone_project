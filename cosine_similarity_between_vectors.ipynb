{
 "cells": [
  {
   "cell_type": "code",
   "execution_count": null,
   "metadata": {},
   "outputs": [],
   "source": [
    "from sklearn.feature_extraction.text import CountVectorizer\n",
    "from sklearn.metrics.pairwise import cosine_similarity\n",
    "from sklearn.preprocessing import normalize\n",
    "\n",
    "# Example tokenized texts as strings\n",
    "text1 = \"ttm healthcare are currently recruiting a clinical nurse manager 2 theatre on behalf of an east dublin based hospital.\\nthis is a full time permanent role working 37.5 hours per week.\\n\\nthe role:\\nthe role is responsible for the provision of a quality service in line with standards of theatre nursing practice. as a key member of the senior management team, the cnm2 in theatre (general) will demonstrate managerial and leadership skills and facilitate effective communication with colleagues in the hospital. the position requires a strategic approach to the development of services and structures, embracing continuous quality improvement and the management of changes necessary to achieve organisational objectives.\\n\\nessential criteria:\\nbe registered in the general division of the register of nurses maintained by nmbi\\nhave at least five years recent relevant post-registration nursing experience (full-time or equivalent hours part-time) in an acute hospital setting and a minimum of three years nursing experience in peri-operative theatre nursing\\nhave a recognised post-registration nursing course - higher diploma or post grad course, in peri-operative theatre nursing or equivalent or be in pursuit of same\\n\\nbenefits:\\ncompetitive salary\\nup to 5% pension contribution\\nsick pay\\nmaternity benefit\\nfree parking\\nan education support programme\\ndevelopment opportunities\\nopportunities for career progression\\nsubsidised restaurant\\nemployee assistance programme\\nlife assurance\\nfree parking\\n\\na full job description is available upon request.\\nfor more information call louise on 015136740 or click apply with your most recent cv today\\n\\nttm healthcare solutions is an equal opportunities employer\"\n",
    "text2 = \"person specification: qualifications:\\nactive nmbi pin\\npostgraduate qualification in cardiology/cardiovascular nursing preferred.\\nadvanced health assessment desirable.\\n\\nrequired experience & skills:\\nadvanced cardiovascular life support certification.\\n3-5 years of cardiology nursing in the acute setting within the past 5-7 years.\\nleadership experience required.\\nproficient in speaking, reading, and writing grammatically correct english.\\neffective time management skills.\\n\\nbenefits of working with three q:\\nassistance with improving your cv.\\ninterview preparation support.\\na €250 referral campaign for recommending qualified candidates in the healthcare industry.\\na €250 training bursary to support your professional development.\\nafter-placement support ensures your continued success in the healthcare field.\"\n",
    "text3 = \"we’re looking for a registered nurse for a nursing home to care for our patients with compassion and one who can facilitate their speedy recovery. the candidate will be responsible for educating them and their families on prevention methods and healthy habits. ideally, the candidate should be a responsible, gentle and well-trained professional who can provide exceptional nursing care with minimal supervision whilst following health and safety guidelines faithfully and consistently. the goal is to promote the patient's well-being by providing high quality nursing care.\\nmonitor patient’s condition and assess their needs to provide the best possible care.\\nobserve and interpret patient’s symptoms and communicate them to physicians.\\ncollaborate with physicians and nurses to devise individualized care plans for patients.\\nperform routine procedures (blood pressure measurements, administering injections etc.) and fill in patient’s charts.\\nadjust and administer patient’s medication(s) and provide treatments according to the physician’s orders.\\ninspect the facilities and act to maintain excellent hygiene and safety (decontaminating equipment, sanitizing surfaces, preparing beds etc.).\\nprovide instant medical care in emergencies.\\nassist surgeons during operations.\\nsupervise and train lpns and nursing assistants.\\nfoster a supportive and compassionate environment to care for patients and their families.\\nexpand their knowledge and capabilities by attending educational workshops, conferences etc.\\nrequirements\\nrequirements:\\nregistered with the nmbi (nursing and midwifery board of ireland)\\nat least 6 months-1 year post-registration experience in elderly care.\\nexcellent communication and interpersonal skills.\\nstamp 4 or valid irish work permit (eligible to work in ireland)\\nproven experience as a registered nurse.\\nexcellent knowledge of nursing care methods and procedures.\\nexcellent knowledge of emergency care.\\nin-depth knowledge of health and safety guidelines and procedures (sanitation, decontamination etc.) and willingness to follow them at all times.\\na team player with excellent communication and interpersonal skills.\\nresponsible and compassionate.\\noutstanding organizational and multi-tasking skills.\\npatient with excellent problem-solving skills.\\nexperience:\\nhome health: 1 year (required)\\neducation:\\nbachelor's (required)\\nlicence:\\nnursing and midwifery board of ireland registration (required)\"\n",
    "\n",
    "# Create CountVectorizer and fit-transform the texts\n",
    "vectorizer = CountVectorizer()\n",
    "X = vectorizer.fit_transform([text1, text2, text3])\n",
    "\n",
    "# Compute cosine similarity between the vectors\n",
    "cosine_sim = cosine_similarity(X)\n",
    "\n",
    "# Normalize the vectors before computing cosine similarity\n",
    "normalized_X = normalize(X, norm='l2', axis=1)\n",
    "cosine_sim_normalized = cosine_similarity(normalized_X)\n",
    "\n",
    "print(\"Cosine Similarity Matrix:\")\n",
    "print(cosine_sim)\n",
    "print(\"\\nCosine Similarity Matrix (Normalized):\")\n",
    "print(cosine_sim_normalized)"
   ]
  }
 ],
 "metadata": {
  "language_info": {
   "name": "python"
  }
 },
 "nbformat": 4,
 "nbformat_minor": 2
}
