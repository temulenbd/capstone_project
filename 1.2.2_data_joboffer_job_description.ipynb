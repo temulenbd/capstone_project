{
 "cells": [
  {
   "cell_type": "markdown",
   "metadata": {},
   "source": [
    "# JOB OFFER'S DATA (part 2: extraction of the job description)"
   ]
  },
  {
   "cell_type": "markdown",
   "metadata": {},
   "source": [
    "### 1. Setting up for web scraping."
   ]
  },
  {
   "cell_type": "code",
   "execution_count": 1,
   "metadata": {},
   "outputs": [],
   "source": [
    "# Load nessesary libraries.\n",
    "import pandas as pd\n",
    "import time\n",
    "import os\n",
    "from time import sleep\n",
    "from random import randint\n",
    "from selenium import webdriver\n",
    "from selenium.webdriver.chrome.options import Options\n",
    "from selenium.webdriver.chrome.service import Service\n",
    "from selenium.webdriver.common.by import By\n",
    "from webdriver_manager.chrome import ChromeDriverManager"
   ]
  },
  {
   "cell_type": "code",
   "execution_count": 2,
   "metadata": {},
   "outputs": [],
   "source": [
    "# Define global variables.\n",
    "job_details = []\n",
    "csv_files = ['data_jobads_rn.csv', 'data_jobads_e.csv', 'data_jobads_da.csv']\n",
    "directory = r'C:\\Users\\temulenbd\\OneDrive\\Desktop\\learn\\github_repo\\cct\\capstone_project'\n",
    "df_name = ['df_rn', 'df_e', 'df_da']"
   ]
  },
  {
   "cell_type": "code",
   "execution_count": 3,
   "metadata": {},
   "outputs": [],
   "source": [
    "# Define a custom function to extract job details from the available hyperlinks.\n",
    "def get_job_details(csv):\n",
    "    \n",
    "    # Declare global variables.\n",
    "    global job_details\n",
    "    \n",
    "    # Set up Chrome webdriver options.\n",
    "    option=Options()\n",
    "    option.add_experimental_option('debuggerAddress', 'localhost:0820')\n",
    "    \n",
    "    # Specify the start time.\n",
    "    start = time.time()\n",
    "    \n",
    "    # Initialize Chrome driver.\n",
    "    driver = webdriver.Chrome(service=Service(ChromeDriverManager().install()), options=option)\n",
    "    \n",
    "    # Access each hyperlink, retrieve information about the job, and store it in the global variable 'job_details'.\n",
    "    df_ads = pd.read_csv(csv, index_col=None)\n",
    "    total_rows = df_ads.shape[0]\n",
    "    \n",
    "    for x in range(0, total_rows):\n",
    "        link = df_ads.iat[x, 2]\n",
    "        driver.get(link)\n",
    "        sleep(randint(2, 4))\n",
    "    \n",
    "        job_page = driver.find_element(By.ID, 'jobDescriptionText')\n",
    "        job_details.append(job_page.text)\n",
    "        sleep(randint(2, 4))\n",
    "        \n",
    "    # Specify the end time.\n",
    "    end = time.time()\n",
    "    \n",
    "    # Check results.\n",
    "    print(f'Total number of extracted data: {len(job_details)}.\\n')\n",
    "    print('EXAMPLE:')\n",
    "    print(job_details[randint(0, total_rows)], '\\n')\n",
    "    print(f'The extraction was completed in: {(end - start) // 60} minutes and {(end - start) % 60} seconds.')"
   ]
  },
  {
   "cell_type": "code",
   "execution_count": 4,
   "metadata": {},
   "outputs": [],
   "source": [
    "# Define a costum function to rewrite extracted information into existing csv files.\n",
    "def df_create_export_csv(new_df, csv):\n",
    "\n",
    "    # Declare global variables.\n",
    "    global job_details\n",
    "    global directory\n",
    "    \n",
    "    # Create a new pandas Dataframe using the ads csv file.\n",
    "    new_df = pd.read_csv(csv, index_col=None)\n",
    "    new_df['job_description'] = job_details\n",
    "    \n",
    "    # Create the file path for CSV export.\n",
    "    file_path = os.path.join(directory, csv)\n",
    "    \n",
    "    # Export the DataFrame to CSV file.\n",
    "    new_df.to_csv(file_path, index=False)\n",
    "    \n",
    "    print(f\"The raw data was  rewritten to existing file and successfully exported as {file_path}.\")"
   ]
  },
  {
   "cell_type": "markdown",
   "metadata": {},
   "source": [
    "### 2. Web scraping\n",
    "**registered nurse ads job details**"
   ]
  },
  {
   "cell_type": "code",
   "execution_count": 5,
   "metadata": {},
   "outputs": [
    {
     "name": "stdout",
     "output_type": "stream",
     "text": [
      "Total number of extracted data: 564.\n",
      "\n",
      "EXAMPLE:\n",
      "We are now hiring Nurses in Dublin\n",
      "Allied and Clinical are now Recruiting Nurses (all grades welcome) for Agency shifts in Tallaght Hospital.\n",
      "Excellent opportunity for Nurses looking for a better work life balance, career change or extra shifts.\n",
      "At Allied and Clinical, our healthcare professionals come first. We strive to treat each applicant as a person with their own career path and ambitions by being professional, warm, and approachable.\n",
      "Why Choose Allied and Clinical?\n",
      "-Choose your own working schedule.\n",
      "-Competitive rates of pay in line with pay scales (€16.67-€57.00 per hour)\n",
      "-Choice of different healthcare facilities.\n",
      "-Gain experience in private/public healthcare facilities.\n",
      "-One to One consultancy.\n",
      "-Refer a friend bonus scheme\n",
      "-Free Uniform.\n",
      "-Free mandatory training.\n",
      "-Free Life support training.\n",
      "-Free Fit to work\n",
      "Schedule:\n",
      "Day Shift\n",
      "Night Shift\n",
      "12 HR Shift\n",
      "8 HR Shift\n",
      "Experience\n",
      "-Registered on the Irish live register (NMBI). Must have active PIN.\n",
      "-Strong Listening and communication skills.\n",
      "-Compassionate and empathetic, experience in providing person centred care\n",
      "Salary: €33,943-€53,280 per year\n",
      "Job Types: Full-time, Part-time\n",
      "Salary: €33,943.00-€50,135.00 per year\n",
      "Benefits:\n",
      "Flexitime\n",
      "Schedule:\n",
      "Day shift\n",
      "Monday to Friday\n",
      "Night shift\n",
      "Weekend availability\n",
      "Licence/Certification:\n",
      "Nursing and Midwifery Board of Ireland registration (required)\n",
      "Work Location: In person \n",
      "\n",
      "The extraction was completed in: 61.0 minutes and 36.95956468582153 seconds.\n"
     ]
    }
   ],
   "source": [
    "# Scrape the job details.\n",
    "get_job_details(csv_files[0])"
   ]
  },
  {
   "cell_type": "code",
   "execution_count": 6,
   "metadata": {},
   "outputs": [
    {
     "name": "stdout",
     "output_type": "stream",
     "text": [
      "The raw data was  rewritten to existing file and successfully exported as C:\\Users\\temulenbd\\OneDrive\\Desktop\\learn\\github_repo\\cct\\capstone_project\\data_jobads_rn.csv.\n"
     ]
    }
   ],
   "source": [
    "# Update the extracted data and save the changes.\n",
    "df_create_export_csv(df_name[0], csv_files[0])"
   ]
  },
  {
   "cell_type": "code",
   "execution_count": 7,
   "metadata": {},
   "outputs": [],
   "source": [
    "# Reset variable.\n",
    "job_details = []"
   ]
  },
  {
   "cell_type": "markdown",
   "metadata": {},
   "source": [
    "**electrician ads job details**"
   ]
  },
  {
   "cell_type": "code",
   "execution_count": 8,
   "metadata": {},
   "outputs": [
    {
     "name": "stdout",
     "output_type": "stream",
     "text": [
      "Total number of extracted data: 155.\n",
      "\n",
      "EXAMPLE:\n",
      "General information\n",
      "Organisation\n",
      "Egis is an international player active in the consulting, construction engineering and mobility service sectors.\n",
      "We design and operate intelligent infrastructure and buildings capable of responding to the climate emergency and helping to achieve more balanced, sustainable and resilient territorial development.\n",
      "With operations in 120 countries, Egis places the expertise of its 18,000 employees at the disposal of its clients and develops cutting-edge innovation accessible to all projects.\n",
      "Improving people's quality of life and supporting communities in their social and economic development, whilst drastically reducing carbon emissions and achieving vital 2050 net zero targets, that's our purpose.\n",
      "Reference\n",
      "2023-9904\n",
      "Position description\n",
      "Job title\n",
      "Maintenance Technician M/F\n",
      "Contract type\n",
      "Permanent contract\n",
      "Business Line specific context\n",
      "POSITION:\n",
      "Maintenance Technician\n",
      "\n",
      "COMPANY:\n",
      "Egis Road & Tunnel Operation\n",
      "\n",
      "PROJECT:\n",
      "Egis Road and Tunnel Operation Ireland (ERTO) is an Irish company established in 2005 and is part of Egis Projects Ireland. We manage Dublin Tunnel, Jack Lynch Tunnel in Cork and the Motorway Traffic Control Centre (MTCC) for Transport Infrastructure Ireland (TII).\n",
      "ERTO's responsibility is to manage all processes associated with the Operation and Maintenance of the Dublin Tunnel, Jack Lynch Tunnel and the MTCC. This includes Toll Collection, Traffic Management, Tunnel Safety Management, Emergency and Contingency Planning, Equipment and Infrastructure Inspection and Maintenance. We are located in the Dublin Tunnel Control Building on East Wall Road, Dublin 3.\n",
      "Job description\n",
      "This role is responsible for all mechanical and electrical systems throughout the Dublin Tunnel affected property. Reporting to the M&E Technical Manager. The role will also involve aspects of civil engineering as required.\n",
      "\n",
      "RESPONSIBILITIES & MAIN ACTIVITIES, INCLUDING BUT NOT LIMITED TO:\n",
      "\n",
      "Maintenance of predominately Electrical and Mechanical Systems.\n",
      "Manage records and documentation of all maintenance activities in the Maintenance Management System.\n",
      "Ensure day to day preventive and corrective maintenance work orders are completed in a timely and cost effective manner.\n",
      "Attendance, supervision and management of scheduled & other tunnel closures.\n",
      "Flexibility to attend and manage contractors during maintenance operations including tunnel closure works.\n",
      "Assist in the implementation of equipment and system upgrade projects (CAPEX).\n",
      "Manage and support projects to improve equipment reliability, performance and availability.\n",
      "Develop, manage and supervise projects undertaken by the Maintenance Department.\n",
      "Provide on-call cover for out of hours Maintenance activities undertaken as part of a roster.\n",
      "System owner of complete systems e.g. ventilation, MV, LV, power etc, inclusive of the management of related Contractors/Suppliers.\n",
      "MV experience is desirable.\n",
      "Prepare and review Method Statement Risk Assessments (MSRA).\n",
      "Assistance during accidents/incidents inclusive of witness statements and report writing.\n",
      "Assistance during recovery of vehicles inclusive of report writing.\n",
      "Civil/structural/environmental inspections as deemed necessary.\n",
      "\n",
      "Profile\n",
      "QUALIFICATIONS, SKILLS & EXPERIENCE:\n",
      "3 years’ experience as a maintenance technician\n",
      "Fully qualified electrician is an essential criteria for the role.\n",
      "Computer literacy – Microsoft Word / Excel / Outlook in particular - please be aware that this role is 50% hands on and 50% desk based.\n",
      "Full clean drivers license and own transport.\n",
      "Must live within 45 minutes driving distance from ERTO when on call.\n",
      "Position location\n",
      "Job location\n",
      "Europe, Ireland\n",
      "City\n",
      "Dublin\n",
      "Candidate criteria\n",
      "Minimum level of education required\n",
      "3-Diploma of Higher Education / Associate’s Degree / BTEC Higher National Diploma\n",
      "Minimum level of experience required\n",
      "2-5 years\n",
      "Languages\n",
      "English (5- Proficiency) \n",
      "\n",
      "The extraction was completed in: 16.0 minutes and 17.172507762908936 seconds.\n"
     ]
    }
   ],
   "source": [
    "# Scrape the job details.\n",
    "get_job_details(csv_files[1])"
   ]
  },
  {
   "cell_type": "code",
   "execution_count": 9,
   "metadata": {},
   "outputs": [
    {
     "name": "stdout",
     "output_type": "stream",
     "text": [
      "The raw data was  rewritten to existing file and successfully exported as C:\\Users\\temulenbd\\OneDrive\\Desktop\\learn\\github_repo\\cct\\capstone_project\\data_jobads_e.csv.\n"
     ]
    }
   ],
   "source": [
    "# Update the extracted data and save the changes.\n",
    "df_create_export_csv(df_name[1], csv_files[1])"
   ]
  },
  {
   "cell_type": "code",
   "execution_count": 10,
   "metadata": {},
   "outputs": [],
   "source": [
    "# Reset variable.\n",
    "job_details = []"
   ]
  },
  {
   "cell_type": "markdown",
   "metadata": {},
   "source": [
    "**data analyst ads job details**"
   ]
  },
  {
   "cell_type": "code",
   "execution_count": 11,
   "metadata": {},
   "outputs": [
    {
     "name": "stdout",
     "output_type": "stream",
     "text": [
      "Total number of extracted data: 315.\n",
      "\n",
      "EXAMPLE:\n",
      "As a member of the Accounting Operations team, you will be responsible for assisting day-to-day operations and continuous improvement initiatives for the Accounting department. Your main tasks will include gathering data, performing analysis, and supporting projects and initiatives as needed.\n",
      "\n",
      "A typical day might include the following:\n",
      "Perform ad hoc requests related to reporting and data analysis to assist other team members, management, and audit requests.\n",
      "Support the analysis and implementation of accounting operation functions relating to new technology projects throughout the organization.\n",
      "Ensure quality control over the financial transactions and financial reporting.\n",
      "Demonstrating knowledge of technical accounting standards under IFRS and US GAAP, and its application to tasks at hand.\n",
      "Support month-end and year-end close processes.\n",
      "Prepare documentation and Standard Operating Procedures (SOPs) for processes, enhancements and projects as needed.\n",
      "Responsible for preparation of various schedules impacting the month-end close and reporting.\n",
      "Posting of accruals, prepayments any other adjustments in order to complete monthly management accounts within deadlines.\n",
      "Assist team with the execution of test scripts for various projects.\n",
      "Participating in process improvement initiatives\n",
      "Support the development of key internal controls and procedures, and ensuring internal controls are designed and operating effectively in compliance with the provisions of the Sarbanes-Oxley Act\n",
      "Demonstrating excellent verbal and written communication skills, including effective presentation skills\n",
      "High proficiency with Microsoft applications is required.\n",
      "\n",
      "This role might be for you if:\n",
      "You have worked in an accounting function for 3 - 5 years and/or hold a BS/BA in Accounting or are recently qualified ACA/ACCA\n",
      "You are proactive and analytical problem solver with the ability to think outside of the box.\n",
      "You have the willingness to learn new processes and technologies and can work in a collaborative and fast paced environment.\n",
      "You can communicate effectively with colleagues and peers both verbally and non-verbally.\n",
      "You are coachable, committed to change, and open to embrace new ideas and perspectives.\n",
      "You are dependable, have strong organizational abilities, pay attention to details, and most importantly enjoy your work and have fun while doing it.\n",
      "Experience with ERP financial applications, Oracle applications a distinct advantage.\n",
      "High proficiency with Microsoft applications, Advanced Microsoft Excel knowledge a necessity.\n",
      "Does this sound like you? Apply now to take your first steps toward living the Regeneron Way! We have an inclusive and diverse culture that provides comprehensive benefits including health and wellness programs, fitness centers and equity awards, annual bonuses, and paid time off for eligible employees at all levels!\n",
      "\n",
      "Regeneron is an equal opportunity employer and all qualified applicants will receive consideration for employment without regard to race, color, religion or belief (or lack thereof), sex, nationality, national or ethnic origin, civil status, age, citizenship status, membership of the Traveler community, sexual orientation, disability, genetic information, familial status, marital or registered civil partnership status, pregnancy or parental status, gender identity, gender reassignment, military or veteran status, or any other protected characteristic in accordance with applicable laws and regulations. We will ensure that individuals with disabilities are provided reasonable accommodations to participate in the job application process. Please contact us to discuss any accommodations you think you may need.\n",
      "\n",
      "The salary ranges provided are shown in accordance with U.S. law and apply to U.S. based positions, where the hired candidate will be located in the U.S. If you are outside the U.S, please speak with your recruiter about salaries and benefits in your location. \n",
      "\n",
      "The extraction was completed in: 35.0 minutes and 25.416138172149658 seconds.\n"
     ]
    }
   ],
   "source": [
    "# Scrape the job details.\n",
    "get_job_details(csv_files[2])"
   ]
  },
  {
   "cell_type": "code",
   "execution_count": 12,
   "metadata": {},
   "outputs": [
    {
     "name": "stdout",
     "output_type": "stream",
     "text": [
      "The raw data was  rewritten to existing file and successfully exported as C:\\Users\\temulenbd\\OneDrive\\Desktop\\learn\\github_repo\\cct\\capstone_project\\data_jobads_da.csv.\n"
     ]
    }
   ],
   "source": [
    "# Update the extracted data and save the changes.\n",
    "df_create_export_csv(df_name[2], csv_files[2])"
   ]
  },
  {
   "cell_type": "code",
   "execution_count": null,
   "metadata": {},
   "outputs": [],
   "source": []
  }
 ],
 "metadata": {
  "kernelspec": {
   "display_name": "base",
   "language": "python",
   "name": "python3"
  },
  "language_info": {
   "codemirror_mode": {
    "name": "ipython",
    "version": 3
   },
   "file_extension": ".py",
   "mimetype": "text/x-python",
   "name": "python",
   "nbconvert_exporter": "python",
   "pygments_lexer": "ipython3",
   "version": "3.11.4"
  }
 },
 "nbformat": 4,
 "nbformat_minor": 2
}
