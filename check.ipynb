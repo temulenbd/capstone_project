{
 "cells": [
  {
   "cell_type": "markdown",
   "metadata": {},
   "source": [
    "To address these potential issues, it's common to normalize the vectors before calculating cosine similarity by dividing each vector by its magnitude (length). This normalization step ensures that the cosine similarity score is not biased by the text's length or vector sparsity."
   ]
  },
  {
   "cell_type": "code",
   "execution_count": null,
   "metadata": {},
   "outputs": [
    {
     "data": {
      "text/html": [
       "<div>\n",
       "<style scoped>\n",
       "    .dataframe tbody tr th:only-of-type {\n",
       "        vertical-align: middle;\n",
       "    }\n",
       "\n",
       "    .dataframe tbody tr th {\n",
       "        vertical-align: top;\n",
       "    }\n",
       "\n",
       "    .dataframe thead th {\n",
       "        text-align: right;\n",
       "    }\n",
       "</style>\n",
       "<table border=\"1\" class=\"dataframe\">\n",
       "  <thead>\n",
       "    <tr style=\"text-align: right;\">\n",
       "      <th></th>\n",
       "      <th>title</th>\n",
       "      <th>id</th>\n",
       "      <th>link</th>\n",
       "      <th>date</th>\n",
       "      <th>job_description</th>\n",
       "      <th>label</th>\n",
       "      <th>word_count</th>\n",
       "      <th>cosine_user1</th>\n",
       "    </tr>\n",
       "  </thead>\n",
       "  <tbody>\n",
       "    <tr>\n",
       "      <th>0</th>\n",
       "      <td>assistant director of nursing</td>\n",
       "      <td>sj_3c7e64c7996bb9d6</td>\n",
       "      <td>https://ie.indeed.com/pagead/clk?mo=r&amp;ad=-6NYl...</td>\n",
       "      <td>January 10, 2024</td>\n",
       "      <td>silver stream healthcare group offer great emp...</td>\n",
       "      <td>registered_nurse</td>\n",
       "      <td>502</td>\n",
       "      <td>0.724006</td>\n",
       "    </tr>\n",
       "  </tbody>\n",
       "</table>\n",
       "</div>"
      ],
      "text/plain": [
       "                           title                   id  \\\n",
       "0  assistant director of nursing  sj_3c7e64c7996bb9d6   \n",
       "\n",
       "                                                link              date  \\\n",
       "0  https://ie.indeed.com/pagead/clk?mo=r&ad=-6NYl...  January 10, 2024   \n",
       "\n",
       "                                     job_description             label  \\\n",
       "0  silver stream healthcare group offer great emp...  registered_nurse   \n",
       "\n",
       "   word_count  cosine_user1  \n",
       "0         502      0.724006  "
      ]
     },
     "metadata": {},
     "output_type": "display_data"
    }
   ],
   "source": [
    "df_jobads.head(1)"
   ]
  },
  {
   "cell_type": "code",
   "execution_count": null,
   "metadata": {},
   "outputs": [],
   "source": [
    "df_new = df_jobads.iloc[[0]]"
   ]
  },
  {
   "cell_type": "code",
   "execution_count": null,
   "metadata": {},
   "outputs": [
    {
     "data": {
      "text/html": [
       "<div>\n",
       "<style scoped>\n",
       "    .dataframe tbody tr th:only-of-type {\n",
       "        vertical-align: middle;\n",
       "    }\n",
       "\n",
       "    .dataframe tbody tr th {\n",
       "        vertical-align: top;\n",
       "    }\n",
       "\n",
       "    .dataframe thead th {\n",
       "        text-align: right;\n",
       "    }\n",
       "</style>\n",
       "<table border=\"1\" class=\"dataframe\">\n",
       "  <thead>\n",
       "    <tr style=\"text-align: right;\">\n",
       "      <th></th>\n",
       "      <th>title</th>\n",
       "      <th>id</th>\n",
       "      <th>link</th>\n",
       "      <th>date</th>\n",
       "      <th>job_description</th>\n",
       "      <th>label</th>\n",
       "      <th>word_count</th>\n",
       "      <th>cosine_user1</th>\n",
       "    </tr>\n",
       "  </thead>\n",
       "  <tbody>\n",
       "    <tr>\n",
       "      <th>0</th>\n",
       "      <td>assistant director of nursing</td>\n",
       "      <td>sj_3c7e64c7996bb9d6</td>\n",
       "      <td>https://ie.indeed.com/pagead/clk?mo=r&amp;ad=-6NYl...</td>\n",
       "      <td>January 10, 2024</td>\n",
       "      <td>silver stream healthcare group offer great emp...</td>\n",
       "      <td>registered_nurse</td>\n",
       "      <td>502</td>\n",
       "      <td>0.724006</td>\n",
       "    </tr>\n",
       "  </tbody>\n",
       "</table>\n",
       "</div>"
      ],
      "text/plain": [
       "                           title                   id  \\\n",
       "0  assistant director of nursing  sj_3c7e64c7996bb9d6   \n",
       "\n",
       "                                                link              date  \\\n",
       "0  https://ie.indeed.com/pagead/clk?mo=r&ad=-6NYl...  January 10, 2024   \n",
       "\n",
       "                                     job_description             label  \\\n",
       "0  silver stream healthcare group offer great emp...  registered_nurse   \n",
       "\n",
       "   word_count  cosine_user1  \n",
       "0         502      0.724006  "
      ]
     },
     "metadata": {},
     "output_type": "display_data"
    }
   ],
   "source": [
    "df_new"
   ]
  },
  {
   "cell_type": "code",
   "execution_count": null,
   "metadata": {},
   "outputs": [
    {
     "name": "stderr",
     "output_type": "stream",
     "text": [
      "C:\\Users\\temulenbd\\AppData\\Local\\Temp\\ipykernel_23628\\779395186.py:1: SettingWithCopyWarning:\n",
      "\n",
      "\n",
      "A value is trying to be set on a copy of a slice from a DataFrame.\n",
      "Try using .loc[row_indexer,col_indexer] = value instead\n",
      "\n",
      "See the caveats in the documentation: https://pandas.pydata.org/pandas-docs/stable/user_guide/indexing.html#returning-a-view-versus-a-copy\n",
      "\n"
     ]
    }
   ],
   "source": [
    "df_new['embedded_job_descriptions'] = df_new['job_description'].apply(lambda x: embed_text_with_bert_gpu([x])[0])"
   ]
  },
  {
   "cell_type": "code",
   "execution_count": null,
   "metadata": {},
   "outputs": [],
   "source": [
    "tensorrr2 = df_new.iat[0, -1]"
   ]
  },
  {
   "cell_type": "code",
   "execution_count": null,
   "metadata": {},
   "outputs": [
    {
     "data": {
      "text/plain": [
       "tensor([[[ 1.1675, -0.2930,  1.1019,  ..., -0.1997, -0.1452,  0.9723],\n",
       "         [ 1.0922,  0.0060,  0.8255,  ..., -0.0950, -0.0742,  0.5525],\n",
       "         [ 1.0327, -0.2483,  0.9769,  ..., -0.2493, -0.2093,  0.4546],\n",
       "         ...,\n",
       "         [ 0.7858, -0.4055,  0.8485,  ...,  0.2169,  0.1360,  1.1505],\n",
       "         [ 0.6305,  0.2808,  0.7732,  ...,  0.2455, -0.3459,  0.6443],\n",
       "         [ 1.3295, -0.0883,  0.8348,  ...,  0.4321,  0.0147,  0.1967]]])"
      ]
     },
     "metadata": {},
     "output_type": "display_data"
    }
   ],
   "source": [
    "tensorrr2"
   ]
  },
  {
   "cell_type": "code",
   "execution_count": null,
   "metadata": {},
   "outputs": [
    {
     "name": "stdout",
     "output_type": "stream",
     "text": [
      "Original Tensor Size: torch.Size([1, 617, 768])\n",
      "Normalized Tensor Size: torch.Size([1, 617, 768])\n"
     ]
    }
   ],
   "source": [
    "# Calculate the magnitude (length) along the last two dimensions (1024, 768)\n",
    "magnitude = torch.norm(tensorrr2, p=2, dim=(-2, -1), keepdim=True)\n",
    "\n",
    "# Divide the entire tensor by the magnitude\n",
    "normalized_tensor2 = tensorrr2 / magnitude\n",
    "\n",
    "print(\"Original Tensor Size:\", tensorrr2.size())\n",
    "print(\"Normalized Tensor Size:\", normalized_tensor2.size())"
   ]
  },
  {
   "cell_type": "code",
   "execution_count": null,
   "metadata": {},
   "outputs": [
    {
     "data": {
      "text/plain": [
       "tensor([[[ 2.7309e-03, -6.8543e-04,  2.5774e-03,  ..., -4.6714e-04,\n",
       "          -3.3955e-04,  2.2743e-03],\n",
       "         [ 2.5547e-03,  1.3922e-05,  1.9310e-03,  ..., -2.2211e-04,\n",
       "          -1.7354e-04,  1.2924e-03],\n",
       "         [ 2.4155e-03, -5.8079e-04,  2.2850e-03,  ..., -5.8306e-04,\n",
       "          -4.8960e-04,  1.0634e-03],\n",
       "         ...,\n",
       "         [ 1.8380e-03, -9.4858e-04,  1.9846e-03,  ...,  5.0745e-04,\n",
       "           3.1805e-04,  2.6911e-03],\n",
       "         [ 1.4749e-03,  6.5693e-04,  1.8086e-03,  ...,  5.7429e-04,\n",
       "          -8.0901e-04,  1.5072e-03],\n",
       "         [ 3.1097e-03, -2.0643e-04,  1.9527e-03,  ...,  1.0107e-03,\n",
       "           3.4299e-05,  4.6015e-04]]])"
      ]
     },
     "metadata": {},
     "output_type": "display_data"
    }
   ],
   "source": [
    "normalized_tensor2"
   ]
  },
  {
   "cell_type": "code",
   "execution_count": null,
   "metadata": {},
   "outputs": [],
   "source": [
    "tensorrrr1 = df_jobseeker.iat[0, -2]"
   ]
  },
  {
   "cell_type": "code",
   "execution_count": null,
   "metadata": {},
   "outputs": [
    {
     "data": {
      "text/plain": [
       "tensor([[[ 1.1255, -0.5105,  1.0606,  ..., -0.0646, -0.0972,  1.0354],\n",
       "         [ 1.0868, -0.3361,  0.5461,  ...,  0.2573,  0.0850,  0.3742],\n",
       "         [ 1.1630, -0.3186,  0.6489,  ...,  0.5629, -0.3385,  0.0202],\n",
       "         ...,\n",
       "         [ 0.7319,  0.4765,  1.3012,  ...,  0.1161, -0.2846,  0.3979],\n",
       "         [ 0.0818, -0.5454,  0.5450,  ...,  0.7430, -0.1035,  0.1977],\n",
       "         [ 1.1113, -0.2863,  0.7475,  ...,  0.5620, -0.3865,  0.0853]]])"
      ]
     },
     "metadata": {},
     "output_type": "display_data"
    }
   ],
   "source": [
    "tensorrrr1"
   ]
  },
  {
   "cell_type": "code",
   "execution_count": null,
   "metadata": {},
   "outputs": [
    {
     "name": "stdout",
     "output_type": "stream",
     "text": [
      "Original Tensor Size: torch.Size([1, 44, 768])\n",
      "Normalized Tensor Size: torch.Size([1, 44, 768])\n"
     ]
    }
   ],
   "source": [
    "# Calculate the magnitude (length) along the last two dimensions (1024, 768)\n",
    "magnitude = torch.norm(tensorrrr1, p=2, dim=(-2, -1), keepdim=True)\n",
    "\n",
    "# Divide the entire tensor by the magnitude\n",
    "normalized_tensor1 = tensorrrr1 / magnitude\n",
    "\n",
    "print(\"Original Tensor Size:\", tensorrrr1.size())\n",
    "print(\"Normalized Tensor Size:\", normalized_tensor1.size())"
   ]
  },
  {
   "cell_type": "code",
   "execution_count": null,
   "metadata": {},
   "outputs": [],
   "source": [
    "tensorrrr1 = normalized_tensor1\n",
    "tensorrr2 = normalized_tensor2"
   ]
  },
  {
   "cell_type": "code",
   "execution_count": null,
   "metadata": {},
   "outputs": [
    {
     "data": {
      "text/plain": [
       "tensor([[[ 2.7309e-03, -6.8543e-04,  2.5774e-03,  ..., -4.6714e-04,\n",
       "          -3.3955e-04,  2.2743e-03],\n",
       "         [ 2.5547e-03,  1.3922e-05,  1.9310e-03,  ..., -2.2211e-04,\n",
       "          -1.7354e-04,  1.2924e-03],\n",
       "         [ 2.4155e-03, -5.8079e-04,  2.2850e-03,  ..., -5.8306e-04,\n",
       "          -4.8960e-04,  1.0634e-03],\n",
       "         ...,\n",
       "         [ 1.8380e-03, -9.4858e-04,  1.9846e-03,  ...,  5.0745e-04,\n",
       "           3.1805e-04,  2.6911e-03],\n",
       "         [ 1.4749e-03,  6.5693e-04,  1.8086e-03,  ...,  5.7429e-04,\n",
       "          -8.0901e-04,  1.5072e-03],\n",
       "         [ 3.1097e-03, -2.0643e-04,  1.9527e-03,  ...,  1.0107e-03,\n",
       "           3.4299e-05,  4.6015e-04]]])"
      ]
     },
     "metadata": {},
     "output_type": "display_data"
    }
   ],
   "source": [
    "tensorrr2"
   ]
  },
  {
   "cell_type": "code",
   "execution_count": null,
   "metadata": {},
   "outputs": [
    {
     "name": "stdout",
     "output_type": "stream",
     "text": [
      "Average Cosine Similarity: 0.7240063548088074\n"
     ]
    }
   ],
   "source": [
    "import torch\n",
    "import torch.nn.functional as F\n",
    "\n",
    "tensor_user = tensorrrr1.squeeze(0) if tensorrrr1.dim() == 3 else tensorrrr1\n",
    "tensor_ad = tensorrr2.squeeze(0) if tensorrr2.dim() == 3 else tensorrr2\n",
    "\n",
    "similarity_matrix = torch.zeros(tensor_user.size(0), tensor_ad.size(0))\n",
    "for i in range(tensor_user.size(0)):\n",
    "    for j in range(tensor_ad.size(0)):\n",
    "        similarity_matrix[i, j] = F.cosine_similarity(tensor_user[i].unsqueeze(0), tensor_ad[j].unsqueeze(0))\n",
    "\n",
    "average_similarity = torch.mean(similarity_matrix).item()\n",
    "\n",
    "print(\"Average Cosine Similarity:\", average_similarity)"
   ]
  }
 ],
 "metadata": {
  "kernelspec": {
   "display_name": "base",
   "language": "python",
   "name": "python3"
  },
  "language_info": {
   "codemirror_mode": {
    "name": "ipython",
    "version": 3
   },
   "file_extension": ".py",
   "mimetype": "text/x-python",
   "name": "python",
   "nbconvert_exporter": "python",
   "pygments_lexer": "ipython3",
   "version": "3.11.4"
  }
 },
 "nbformat": 4,
 "nbformat_minor": 2
}
