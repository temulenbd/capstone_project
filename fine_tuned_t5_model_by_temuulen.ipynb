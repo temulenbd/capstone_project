{
 "cells": [
  {
   "cell_type": "markdown",
   "metadata": {},
   "source": [
    "# Training T5 model for text summarization"
   ]
  },
  {
   "cell_type": "code",
   "execution_count": 1,
   "metadata": {},
   "outputs": [
    {
     "name": "stdout",
     "output_type": "stream",
     "text": [
      "WARNING:tensorflow:From c:\\Users\\temulenbd\\anaconda3\\Lib\\site-packages\\keras\\src\\losses.py:2976: The name tf.losses.sparse_softmax_cross_entropy is deprecated. Please use tf.compat.v1.losses.sparse_softmax_cross_entropy instead.\n",
      "\n"
     ]
    }
   ],
   "source": [
    "from datasets import load_dataset\n",
    "from transformers import AutoTokenizer\n",
    "from transformers import DataCollatorForSeq2Seq\n",
    "import evaluate\n",
    "import numpy as np\n",
    "from transformers import AutoModelForSeq2SeqLM, Seq2SeqTrainingArguments, Seq2SeqTrainer"
   ]
  },
  {
   "cell_type": "code",
   "execution_count": 2,
   "metadata": {},
   "outputs": [
    {
     "data": {
      "text/plain": [
       "{'text': 'The people of the State of California do enact as follows:\\n\\n\\nSECTION 1.\\nSection 13651 of the Business and Professions Code is amended to read:\\n13651.\\n(a) (1) Every service station in this state shall provide during operating hours, and make available at no cost to customers who purchase motor vehicle fuel, water, compressed air, and a gauge for measuring air pressure to the public for use in servicing any passenger vehicle, as defined in Section 465 of the Vehicle Code, or any commercial vehicle, as defined in Section 260 of the Vehicle Code, with an unladen weight of 6,000 pounds or less.\\n(2) Every service station in this state shall display, at a conspicuous place on, at, or near the dispensing apparatus at least one clearly visible sign that shall read as follows: “CALIFORNIA LAW REQUIRES THIS STATION TO PROVIDE FREE AIR AND WATER FOR AUTOMOTIVE PURPOSES TO ITS CUSTOMERS WHO PURCHASE MOTOR VEHICLE FUEL. IF YOU HAVE A COMPLAINT NOTIFY THE STATION ATTENDANT AND/OR CALL THIS TOLL-FREE TELEPHONE NUMBER: 1 (800) ___ ____.” This sign shall meet the requirements of Sections 13473 and 13474 with regard to letter size and contrast. As used in this paragraph, automotive purposes does not include the washing of vehicles.\\n(b) (1) Every service station in this state located within 660 feet of an accessible right-of-way of an interstate or primary highway, as defined in Sections 5215 and 5220, shall provide during business hours public restrooms for use by its customers. Service stations shall not charge customers separately for the use of restroom facilities.\\n(2) The public restroom shall not be temporary or portable but shall be permanent and shall include separate facilities for men and women, each with toilets and sinks suitable for use by disabled persons in accordance with Section 19955.5 of the Health and Safety Code and Title 24 of the California Code of Regulations. However, a service station not located along an interstate highway and in a rural area, as defined by Section 101 of Title 23 of the United States Code, and where the annualized average daily traffic count is 2,500 vehicles or less, is only required to provide a single restroom to be used by both men and women unless the local legislative body or, upon designation by the local legislative body, the local building official determines and finds, based upon traffic studies and local or seasonal tourist patterns, that a single restroom would be inadequate to serve the public. In that event, the single restroom exemption shall not apply. The single restroom shall contain a toilet, urinal, and sink suitable for use by disabled persons as required by the federal Americans With Disabilities Act of 1990 (42 U.S.C. Sec. 12101 et seq.) and Title 24 of the California Code of Regulations. The single restroom shall be equipped with a locking mechanism to be operated by the user of the restroom and the restroom shall be maintained in a clean and sanitary manner.\\n(3) This subdivision does not apply to service stations that are operational prior to January 1, 1990, and that would be obligated to construct permanent restroom facilities to comply with this subdivision.\\n(4) For purposes of this subdivision, “customer” means a person who purchases any product available for sale on the premises of the service station, including items not related to the repairing or servicing of a motor vehicle.\\n(c) (1) Every service station in this state shall display at a conspicuous place on, at, or near the dispensing apparatus, or at or near the point of sale, at least one clearly visible sign showing a list of applicable state and federal fuel taxes per gallon of motor vehicle fuel sold from the dispensing apparatus. The sign may display the federal excise tax rate as “up to $.184.”\\n(2) The sign described in paragraph (1) also shall display the average per-gallon cost of gasoline and diesel fuel, as annually calculated by the State Energy Resources Conservation and Development\\nCommission,\\nCommission in consultation with the Legislative Analyst’s Office,\\nacross the industry of refiners producing transportation fuels as a result of their compliance with a market-based compliance mechanism adopted by the State Air Resources Board pursuant to Section 38570 of the Health and Safety Code.\\n(d) (1) The Division of Measurement Standards of the Department of Food and Agriculture shall, no later than January 1, 2001, establish a toll-free customer complaint telephone number. The toll-free telephone number thereby established shall be printed on the sign required pursuant to paragraph (2) of subdivision (a).\\n(2) Notwithstanding any other law, employees of the Division of Measurement Standards, upon inspection, or upon notice of a complaint forwarded pursuant to this section, are empowered to investigate a complaint against a service station for lack of free air and water and issue a citation to the station, and to collect a fine of two hundred fifty dollars ($250) per valid complaint, unless the citation is challenged in court. A citation shall not be issued if the air and water equipment is in good working order upon initial inspection, or if they are repaired to the satisfaction of the inspecting entity within 10 working days of the initial inspection. In addition, no citation based on nonfunctional air and water equipment shall be issued if the service station can establish that the equipment has been the target of repeated vandalism, substantiated by three or more police reports within six months detailing the vandalism.\\nSEC. 2.\\nNo reimbursement is required by this act pursuant to Section 6 of Article XIII\\u2009B of the California Constitution because the only costs that may be incurred by a local agency or school district will be incurred because this act creates a new crime or infraction, eliminates a crime or infraction, or changes the penalty for a crime or infraction, within the meaning of Section 17556 of the Government Code, or changes the definition of a crime within the meaning of Section 6 of Article XIII\\u2009B of the California Constitution.',\n",
       " 'summary': 'Existing law requires every service station in this state to display at a conspicuous place on, at, or near the dispensing apparatus, or at or near the point of sale, at least one clearly visible sign showing a list of applicable state and federal fuel taxes per gallon of motor vehicle fuel sold from the dispensing apparatus. A violation of this provision is an infraction.\\nExisting law establishes the State Energy Resources Conservation and Development Commission in the Natural Resources Agency, and specifies the powers and duties of the commission with respect to energy resources in the state. Under existing law, various provisions regulate petroleum supply and pricing.\\nThe California Global Warming Solutions Act of 2006 designates the State Air Resources Board as the state agency charged with monitoring and regulating sources of emissions of greenhouse gases. The act authorizes the state board to include the use of market-based compliance mechanisms.\\nThis bill would require every service station to also display the average per-gallon cost of gasoline and diesel fuel, as annually calculated by the\\ncommission,\\ncommission in consultation with the Legislative Analyst’s Office,\\nacross the industry of refiners producing transportation fuels as a result of their compliance with a market-based compliance mechanism. Because a violation of this requirement would be a crime, this bill would impose a state-mandated local program.\\nThe California Constitution requires the state to reimburse local agencies and school districts for certain costs mandated by the state. Statutory provisions establish procedures for making that reimbursement.\\nThis bill would provide that no reimbursement is required by this act for a specified reason.',\n",
       " 'title': 'An act to amend Section 13651 of the Business and Professions Code, relating to service stations.'}"
      ]
     },
     "execution_count": 2,
     "metadata": {},
     "output_type": "execute_result"
    }
   ],
   "source": [
    "# Load public-free fine tuning dataset from Datasets library.\n",
    "billsum = load_dataset('billsum', split='ca_test')\n",
    "\n",
    "# Split the dataset to test and train set.\n",
    "billsum = billsum.train_test_split(test_size=0.2, seed=1)\n",
    "\n",
    "# Check the train test values.\n",
    "billsum['train'][0]\n",
    "billsum['test'][0]"
   ]
  },
  {
   "cell_type": "code",
   "execution_count": 5,
   "metadata": {},
   "outputs": [
    {
     "data": {
      "text/plain": [
       "datasets.dataset_dict.DatasetDict"
      ]
     },
     "execution_count": 5,
     "metadata": {},
     "output_type": "execute_result"
    }
   ],
   "source": [
    "type(billsum)"
   ]
  },
  {
   "cell_type": "code",
   "execution_count": 3,
   "metadata": {},
   "outputs": [
    {
     "data": {
      "application/vnd.jupyter.widget-view+json": {
       "model_id": "63a252db69144b73bb5a54a5cf34895a",
       "version_major": 2,
       "version_minor": 0
      },
      "text/plain": [
       "Map:   0%|          | 0/248 [00:00<?, ? examples/s]"
      ]
     },
     "metadata": {},
     "output_type": "display_data"
    }
   ],
   "source": [
    "# Load t5 cokenizer to process text and summary.\n",
    "checkpoint = 't5-small'\n",
    "tokenizer = AutoTokenizer.from_pretrained(checkpoint)\n",
    "\n",
    "prefix = \"summarize: \"\n",
    "\n",
    "\n",
    "def preprocess_function(examples):\n",
    "    inputs = [prefix + doc for doc in examples[\"text\"]]\n",
    "    model_inputs = tokenizer(inputs, max_length=1024, truncation=True)\n",
    "\n",
    "    labels = tokenizer(text_target=examples[\"summary\"], max_length=128, truncation=True)\n",
    "\n",
    "    model_inputs[\"labels\"] = labels[\"input_ids\"]\n",
    "    return model_inputs\n",
    "\n",
    "tokenized_billsum = billsum.map(preprocess_function, batched=True)"
   ]
  },
  {
   "cell_type": "code",
   "execution_count": 4,
   "metadata": {},
   "outputs": [
    {
     "data": {
      "text/plain": [
       "DatasetDict({\n",
       "    train: Dataset({\n",
       "        features: ['text', 'summary', 'title', 'input_ids', 'attention_mask', 'labels'],\n",
       "        num_rows: 989\n",
       "    })\n",
       "    test: Dataset({\n",
       "        features: ['text', 'summary', 'title', 'input_ids', 'attention_mask', 'labels'],\n",
       "        num_rows: 248\n",
       "    })\n",
       "})"
      ]
     },
     "execution_count": 4,
     "metadata": {},
     "output_type": "execute_result"
    }
   ],
   "source": [
    "tokenized_billsum"
   ]
  },
  {
   "cell_type": "code",
   "execution_count": 6,
   "metadata": {},
   "outputs": [],
   "source": [
    "# Create a DataCollatorForSeq2Seq instance for sequence-to-sequence tasks.\n",
    "data_collator = DataCollatorForSeq2Seq(tokenizer=tokenizer, model=checkpoint)"
   ]
  },
  {
   "cell_type": "code",
   "execution_count": 7,
   "metadata": {},
   "outputs": [],
   "source": [
    "# Load the ROUGE evaluation metric using the `evaluate` module.\n",
    "rouge = evaluate.load(\"rouge\")\n",
    "\n",
    "# Define a custom function that passes predictions and labels to compute to calculate the ROUGE metric.\n",
    "def compute_metrics(eval_pred):\n",
    "    predictions, labels = eval_pred\n",
    "    decoded_preds = tokenizer.batch_decode(predictions, skip_special_tokens=True)\n",
    "    labels = np.where(labels != -100, labels, tokenizer.pad_token_id)\n",
    "    decoded_labels = tokenizer.batch_decode(labels, skip_special_tokens=True)\n",
    "\n",
    "    result = rouge.compute(predictions=decoded_preds, references=decoded_labels, use_stemmer=True)\n",
    "\n",
    "    prediction_lens = [np.count_nonzero(pred != tokenizer.pad_token_id) for pred in predictions]\n",
    "    result[\"gen_len\"] = np.mean(prediction_lens)\n",
    "\n",
    "    return {k: round(v, 4) for k, v in result.items()}"
   ]
  },
  {
   "cell_type": "code",
   "execution_count": 8,
   "metadata": {},
   "outputs": [
    {
     "data": {
      "application/vnd.jupyter.widget-view+json": {
       "model_id": "c8ec7df09bdd49c1ac843694748f5b20",
       "version_major": 2,
       "version_minor": 0
      },
      "text/plain": [
       "  0%|          | 0/62 [00:00<?, ?it/s]"
      ]
     },
     "metadata": {},
     "output_type": "display_data"
    },
    {
     "ename": "",
     "evalue": "",
     "output_type": "error",
     "traceback": [
      "\u001b[1;31mThe Kernel crashed while executing code in the the current cell or a previous cell. Please review the code in the cell(s) to identify a possible cause of the failure. Click <a href='https://aka.ms/vscodeJupyterKernelCrash'>here</a> for more info. View Jupyter <a href='command:jupyter.viewOutput'>log</a> for further details."
     ]
    }
   ],
   "source": [
    "model = AutoModelForSeq2SeqLM.from_pretrained(checkpoint)\n",
    "\n",
    "training_args = Seq2SeqTrainingArguments(\n",
    "    output_dir=\"./Seq2SeqTraining\",\n",
    "    evaluation_strategy=\"epoch\",\n",
    "    learning_rate=2e-5,\n",
    "    per_device_train_batch_size=16,\n",
    "    per_device_eval_batch_size=16,\n",
    "    weight_decay=0.01,\n",
    "    save_total_limit=3,\n",
    "    num_train_epochs=1,\n",
    "    predict_with_generate=True,\n",
    ")\n",
    "\n",
    "trainer = Seq2SeqTrainer(\n",
    "    model=model,\n",
    "    args=training_args,\n",
    "    train_dataset=tokenized_billsum[\"train\"],\n",
    "    eval_dataset=tokenized_billsum[\"test\"],\n",
    "    tokenizer=tokenizer,\n",
    "    data_collator=data_collator,\n",
    "    compute_metrics=compute_metrics,\n",
    ")\n",
    "\n",
    "trainer.train()"
   ]
  },
  {
   "cell_type": "code",
   "execution_count": null,
   "metadata": {},
   "outputs": [],
   "source": [
    "trainer.save_model('fine_tuned_t5_model_by_temuulen')"
   ]
  },
  {
   "cell_type": "code",
   "execution_count": null,
   "metadata": {},
   "outputs": [],
   "source": [
    "results = trainer.evaluate()"
   ]
  },
  {
   "cell_type": "code",
   "execution_count": null,
   "metadata": {},
   "outputs": [],
   "source": [
    "metrics = results\n",
    "print(\"Metrics:\", metrics)"
   ]
  },
  {
   "cell_type": "code",
   "execution_count": null,
   "metadata": {},
   "outputs": [],
   "source": [
    "text = 'ttm healthcare are currently recruiting a clinical nurse manager 2 theatre on behalf of an east dublin based hospital.\\nthis is a full time permanent role working 37.5 hours per week.\\n\\nthe role:\\nthe role is responsible for the provision of a quality service in line with standards of theatre nursing practice. as a key member of the senior management team, the cnm2 in theatre (general) will demonstrate managerial and leadership skills and facilitate effective communication with colleagues in the hospital. the position requires a strategic approach to the development of services and structures, embracing continuous quality improvement and the management of changes necessary to achieve organisational objectives.\\n\\nessential criteria:\\nbe registered in the general division of the register of nurses maintained by nmbi\\nhave at least five years recent relevant post-registration nursing experience (full-time or equivalent hours part-time) in an acute hospital setting and a minimum of three years nursing experience in peri-operative theatre nursing\\nhave a recognised post-registration nursing course - higher diploma or post grad course, in peri-operative theatre nursing or equivalent or be in pursuit of same\\n\\nbenefits:\\ncompetitive salary\\nup to 5% pension contribution\\nsick pay\\nmaternity benefit\\nfree parking\\nan education support programme\\ndevelopment opportunities\\nopportunities for career progression\\nsubsidised restaurant\\nemployee assistance programme\\nlife assurance\\nfree parking\\n\\na full job description is available upon request.\\nfor more information call louise on 015136740 or click apply with your most recent cv today\\n\\nttm healthcare solutions is an equal opportunities employer'"
   ]
  },
  {
   "cell_type": "code",
   "execution_count": null,
   "metadata": {},
   "outputs": [],
   "source": [
    "from transformers import pipeline\n",
    "\n",
    "summarizer = pipeline(\"summarization\", model=\"fine_tuned_t5_model_by_temuulen\")\n",
    "\n",
    "summary = summarizer(text, max_length=500, min_length=400, length_penalty=2.0, num_beams=4)[0]['summary_text']\n",
    "\n",
    "print(summary)"
   ]
  },
  {
   "cell_type": "code",
   "execution_count": null,
   "metadata": {},
   "outputs": [],
   "source": [
    "summarizer = pipeline(\"summarization\", model=\"t5-small\")\n",
    "\n",
    "summary = summarizer(text, max_length=500, min_length=400, length_penalty=2.0, num_beams=4)[0]['summary_text']\n",
    "print(summary)"
   ]
  }
 ],
 "metadata": {
  "kernelspec": {
   "display_name": "base",
   "language": "python",
   "name": "python3"
  },
  "language_info": {
   "codemirror_mode": {
    "name": "ipython",
    "version": 3
   },
   "file_extension": ".py",
   "mimetype": "text/x-python",
   "name": "python",
   "nbconvert_exporter": "python",
   "pygments_lexer": "ipython3",
   "version": "3.11.4"
  }
 },
 "nbformat": 4,
 "nbformat_minor": 2
}
