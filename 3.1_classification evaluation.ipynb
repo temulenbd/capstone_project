{
 "cells": [
  {
   "cell_type": "code",
   "execution_count": 46,
   "metadata": {},
   "outputs": [],
   "source": [
    "\n",
    "from transformers import BertModel, BertTokenizer\n",
    "import torch\n",
    "import pandas as pd\n",
    "import re"
   ]
  },
  {
   "cell_type": "code",
   "execution_count": 26,
   "metadata": {},
   "outputs": [],
   "source": [
    "df = pd.read_csv('data_jobads_rn.csv', index_col=None)"
   ]
  },
  {
   "cell_type": "code",
   "execution_count": 40,
   "metadata": {},
   "outputs": [
    {
     "data": {
      "text/html": [
       "<div>\n",
       "<style scoped>\n",
       "    .dataframe tbody tr th:only-of-type {\n",
       "        vertical-align: middle;\n",
       "    }\n",
       "\n",
       "    .dataframe tbody tr th {\n",
       "        vertical-align: top;\n",
       "    }\n",
       "\n",
       "    .dataframe thead th {\n",
       "        text-align: right;\n",
       "    }\n",
       "</style>\n",
       "<table border=\"1\" class=\"dataframe\">\n",
       "  <thead>\n",
       "    <tr style=\"text-align: right;\">\n",
       "      <th></th>\n",
       "      <th>title</th>\n",
       "      <th>id</th>\n",
       "      <th>link</th>\n",
       "      <th>date</th>\n",
       "      <th>job_description</th>\n",
       "    </tr>\n",
       "  </thead>\n",
       "  <tbody>\n",
       "    <tr>\n",
       "      <th>0</th>\n",
       "      <td>assistant director of nursing</td>\n",
       "      <td>sj_3c7e64c7996bb9d6</td>\n",
       "      <td>https://ie.indeed.com/pagead/clk?mo=r&amp;ad=-6NYl...</td>\n",
       "      <td>Just posted</td>\n",
       "      <td>Silver Stream Healthcare Group offer great emp...</td>\n",
       "    </tr>\n",
       "    <tr>\n",
       "      <th>1</th>\n",
       "      <td>clinical nurse manager (cnm)</td>\n",
       "      <td>sj_358f1f68cde928c4</td>\n",
       "      <td>https://ie.indeed.com/pagead/clk?mo=r&amp;ad=-6NYl...</td>\n",
       "      <td>Hiring ongoing</td>\n",
       "      <td>Create A Better Future For Yourself !!\\nRecrui...</td>\n",
       "    </tr>\n",
       "    <tr>\n",
       "      <th>2</th>\n",
       "      <td>registered nurse</td>\n",
       "      <td>job_4e16e9830b072344</td>\n",
       "      <td>https://ie.indeed.com/rc/clk?jk=4e16e9830b0723...</td>\n",
       "      <td>Just posted</td>\n",
       "      <td>Access Healthcare, one of Ireland’s leading He...</td>\n",
       "    </tr>\n",
       "    <tr>\n",
       "      <th>3</th>\n",
       "      <td>staff nurse</td>\n",
       "      <td>job_25a417a6373967b4</td>\n",
       "      <td>https://ie.indeed.com/rc/clk?jk=25a417a6373967...</td>\n",
       "      <td>Just posted</td>\n",
       "      <td>Are you a dedicated and compassionate Staff Nu...</td>\n",
       "    </tr>\n",
       "    <tr>\n",
       "      <th>4</th>\n",
       "      <td>clinical research nurse - cardiology (cnm2)</td>\n",
       "      <td>job_303eee71cce63f3d</td>\n",
       "      <td>https://ie.indeed.com/rc/clk?jk=303eee71cce63f...</td>\n",
       "      <td>Just posted</td>\n",
       "      <td>Clinical Research Nurse - Cardiology (CNM2)\\n\\...</td>\n",
       "    </tr>\n",
       "    <tr>\n",
       "      <th>...</th>\n",
       "      <td>...</td>\n",
       "      <td>...</td>\n",
       "      <td>...</td>\n",
       "      <td>...</td>\n",
       "      <td>...</td>\n",
       "    </tr>\n",
       "    <tr>\n",
       "      <th>559</th>\n",
       "      <td>staff nurse</td>\n",
       "      <td>job_4780b48f19c05dc4</td>\n",
       "      <td>https://ie.indeed.com/rc/clk?jk=4780b48f19c05d...</td>\n",
       "      <td>Posted 30+ days ago</td>\n",
       "      <td>Overview:\\nPost Title: Staff Nurse\\nPost Statu...</td>\n",
       "    </tr>\n",
       "    <tr>\n",
       "      <th>560</th>\n",
       "      <td>assistant director of nursing</td>\n",
       "      <td>job_fb98c2758e8f83d9</td>\n",
       "      <td>https://ie.indeed.com/rc/clk?jk=fb98c2758e8f83...</td>\n",
       "      <td>Posted 30+ days ago</td>\n",
       "      <td>The Grace Healthcare Group are an established ...</td>\n",
       "    </tr>\n",
       "    <tr>\n",
       "      <th>561</th>\n",
       "      <td>staff nurse</td>\n",
       "      <td>job_e7284f609fe9a0ec</td>\n",
       "      <td>https://ie.indeed.com/rc/clk?jk=e7284f609fe9a0...</td>\n",
       "      <td>Posted 30+ days ago</td>\n",
       "      <td>At Grace Healthcare the dignity, comfort and c...</td>\n",
       "    </tr>\n",
       "    <tr>\n",
       "      <th>562</th>\n",
       "      <td>staff nurse</td>\n",
       "      <td>job_3836f4e2da5f81a1</td>\n",
       "      <td>https://ie.indeed.com/rc/clk?jk=3836f4e2da5f81...</td>\n",
       "      <td>Employer\\nActive 5 days ago</td>\n",
       "      <td>A Little Bit About Us\\nEstablished in 1917, Le...</td>\n",
       "    </tr>\n",
       "    <tr>\n",
       "      <th>563</th>\n",
       "      <td>full pin staff nurse</td>\n",
       "      <td>sj_e37186d28df50e47</td>\n",
       "      <td>https://ie.indeed.com/pagead/clk?mo=r&amp;ad=-6NYl...</td>\n",
       "      <td>not available</td>\n",
       "      <td>We’re looking for a Registered Nurse for a Nur...</td>\n",
       "    </tr>\n",
       "  </tbody>\n",
       "</table>\n",
       "<p>564 rows × 5 columns</p>\n",
       "</div>"
      ],
      "text/plain": [
       "                                           title                    id  \\\n",
       "0                  assistant director of nursing   sj_3c7e64c7996bb9d6   \n",
       "1                   clinical nurse manager (cnm)   sj_358f1f68cde928c4   \n",
       "2                               registered nurse  job_4e16e9830b072344   \n",
       "3                                    staff nurse  job_25a417a6373967b4   \n",
       "4    clinical research nurse - cardiology (cnm2)  job_303eee71cce63f3d   \n",
       "..                                           ...                   ...   \n",
       "559                                  staff nurse  job_4780b48f19c05dc4   \n",
       "560                assistant director of nursing  job_fb98c2758e8f83d9   \n",
       "561                                  staff nurse  job_e7284f609fe9a0ec   \n",
       "562                                  staff nurse  job_3836f4e2da5f81a1   \n",
       "563                         full pin staff nurse   sj_e37186d28df50e47   \n",
       "\n",
       "                                                  link  \\\n",
       "0    https://ie.indeed.com/pagead/clk?mo=r&ad=-6NYl...   \n",
       "1    https://ie.indeed.com/pagead/clk?mo=r&ad=-6NYl...   \n",
       "2    https://ie.indeed.com/rc/clk?jk=4e16e9830b0723...   \n",
       "3    https://ie.indeed.com/rc/clk?jk=25a417a6373967...   \n",
       "4    https://ie.indeed.com/rc/clk?jk=303eee71cce63f...   \n",
       "..                                                 ...   \n",
       "559  https://ie.indeed.com/rc/clk?jk=4780b48f19c05d...   \n",
       "560  https://ie.indeed.com/rc/clk?jk=fb98c2758e8f83...   \n",
       "561  https://ie.indeed.com/rc/clk?jk=e7284f609fe9a0...   \n",
       "562  https://ie.indeed.com/rc/clk?jk=3836f4e2da5f81...   \n",
       "563  https://ie.indeed.com/pagead/clk?mo=r&ad=-6NYl...   \n",
       "\n",
       "                            date  \\\n",
       "0                    Just posted   \n",
       "1                 Hiring ongoing   \n",
       "2                    Just posted   \n",
       "3                    Just posted   \n",
       "4                    Just posted   \n",
       "..                           ...   \n",
       "559          Posted 30+ days ago   \n",
       "560          Posted 30+ days ago   \n",
       "561          Posted 30+ days ago   \n",
       "562  Employer\\nActive 5 days ago   \n",
       "563                not available   \n",
       "\n",
       "                                       job_description  \n",
       "0    Silver Stream Healthcare Group offer great emp...  \n",
       "1    Create A Better Future For Yourself !!\\nRecrui...  \n",
       "2    Access Healthcare, one of Ireland’s leading He...  \n",
       "3    Are you a dedicated and compassionate Staff Nu...  \n",
       "4    Clinical Research Nurse - Cardiology (CNM2)\\n\\...  \n",
       "..                                                 ...  \n",
       "559  Overview:\\nPost Title: Staff Nurse\\nPost Statu...  \n",
       "560  The Grace Healthcare Group are an established ...  \n",
       "561  At Grace Healthcare the dignity, comfort and c...  \n",
       "562  A Little Bit About Us\\nEstablished in 1917, Le...  \n",
       "563  We’re looking for a Registered Nurse for a Nur...  \n",
       "\n",
       "[564 rows x 5 columns]"
      ]
     },
     "execution_count": 40,
     "metadata": {},
     "output_type": "execute_result"
    }
   ],
   "source": [
    "df"
   ]
  },
  {
   "cell_type": "code",
   "execution_count": 49,
   "metadata": {},
   "outputs": [
    {
     "name": "stdout",
     "output_type": "stream",
     "text": [
      "                                           title                    id  \\\n",
      "0                  assistant director of nursing   sj_3c7e64c7996bb9d6   \n",
      "1                   clinical nurse manager (cnm)   sj_358f1f68cde928c4   \n",
      "2                               registered nurse  job_4e16e9830b072344   \n",
      "3                                    staff nurse  job_25a417a6373967b4   \n",
      "4    clinical research nurse - cardiology (cnm2)  job_303eee71cce63f3d   \n",
      "..                                           ...                   ...   \n",
      "559                                  staff nurse  job_4780b48f19c05dc4   \n",
      "560                assistant director of nursing  job_fb98c2758e8f83d9   \n",
      "561                                  staff nurse  job_e7284f609fe9a0ec   \n",
      "562                                  staff nurse  job_3836f4e2da5f81a1   \n",
      "563                         full pin staff nurse   sj_e37186d28df50e47   \n",
      "\n",
      "                                                  link  \\\n",
      "0    https://ie.indeed.com/pagead/clk?mo=r&ad=-6NYl...   \n",
      "1    https://ie.indeed.com/pagead/clk?mo=r&ad=-6NYl...   \n",
      "2    https://ie.indeed.com/rc/clk?jk=4e16e9830b0723...   \n",
      "3    https://ie.indeed.com/rc/clk?jk=25a417a6373967...   \n",
      "4    https://ie.indeed.com/rc/clk?jk=303eee71cce63f...   \n",
      "..                                                 ...   \n",
      "559  https://ie.indeed.com/rc/clk?jk=4780b48f19c05d...   \n",
      "560  https://ie.indeed.com/rc/clk?jk=fb98c2758e8f83...   \n",
      "561  https://ie.indeed.com/rc/clk?jk=e7284f609fe9a0...   \n",
      "562  https://ie.indeed.com/rc/clk?jk=3836f4e2da5f81...   \n",
      "563  https://ie.indeed.com/pagead/clk?mo=r&ad=-6NYl...   \n",
      "\n",
      "                            date  \\\n",
      "0                    Just posted   \n",
      "1                 Hiring ongoing   \n",
      "2                    Just posted   \n",
      "3                    Just posted   \n",
      "4                    Just posted   \n",
      "..                           ...   \n",
      "559          Posted 30+ days ago   \n",
      "560          Posted 30+ days ago   \n",
      "561          Posted 30+ days ago   \n",
      "562  Employer\\nActive 5 days ago   \n",
      "563                not available   \n",
      "\n",
      "                                       job_description  \\\n",
      "0    Silver Stream Healthcare Group offer great emp...   \n",
      "1    Create A Better Future For Yourself !!\\nRecrui...   \n",
      "2    Access Healthcare, one of Ireland’s leading He...   \n",
      "3    Are you a dedicated and compassionate Staff Nu...   \n",
      "4    Clinical Research Nurse - Cardiology (CNM2)\\n\\...   \n",
      "..                                                 ...   \n",
      "559  Overview:\\nPost Title: Staff Nurse\\nPost Statu...   \n",
      "560  The Grace Healthcare Group are an established ...   \n",
      "561  At Grace Healthcare the dignity, comfort and c...   \n",
      "562  A Little Bit About Us\\nEstablished in 1917, Le...   \n",
      "563  We’re looking for a Registered Nurse for a Nur...   \n",
      "\n",
      "                                              new_list  word_count  \n",
      "0    [Silver Stream Healthcare Group offer great em...         563  \n",
      "1    [Create A Better Future For Yourself !!, Recru...         307  \n",
      "2    [Access Healthcare, one of Ireland’s leading H...         314  \n",
      "3    [Are you a dedicated and compassionate Staff N...         260  \n",
      "4    [Clinical Research Nurse - Cardiology (CNM2), ...         196  \n",
      "..                                                 ...         ...  \n",
      "559  [Overview:, Post Title: Staff Nurse, Post Stat...         495  \n",
      "560  [The Grace Healthcare Group are an established...         862  \n",
      "561  [At Grace Healthcare the dignity, comfort and ...         502  \n",
      "562  [A Little Bit About Us, Established in 1917, L...        1648  \n",
      "563  [We’re looking for a Registered Nurse for a Nu...         328  \n",
      "\n",
      "[564 rows x 7 columns]\n"
     ]
    }
   ],
   "source": [
    "# Function to count words in a given text.\n",
    "def count_words(text):\n",
    "    return len(str(text).split())\n",
    "\n",
    "# Create a new column 'wordCount' based on the 'job_description'.\n",
    "df['word_count'] = df['job_description'].apply(lambda x: count_words(x))\n",
    "\n",
    "# Display the DataFrame with the new column\n",
    "print(df)"
   ]
  },
  {
   "cell_type": "code",
   "execution_count": 57,
   "metadata": {},
   "outputs": [],
   "source": [
    "filtered_df = df[df['word_count'] > 512]"
   ]
  },
  {
   "cell_type": "code",
   "execution_count": 58,
   "metadata": {},
   "outputs": [
    {
     "data": {
      "text/html": [
       "<div>\n",
       "<style scoped>\n",
       "    .dataframe tbody tr th:only-of-type {\n",
       "        vertical-align: middle;\n",
       "    }\n",
       "\n",
       "    .dataframe tbody tr th {\n",
       "        vertical-align: top;\n",
       "    }\n",
       "\n",
       "    .dataframe thead th {\n",
       "        text-align: right;\n",
       "    }\n",
       "</style>\n",
       "<table border=\"1\" class=\"dataframe\">\n",
       "  <thead>\n",
       "    <tr style=\"text-align: right;\">\n",
       "      <th></th>\n",
       "      <th>title</th>\n",
       "      <th>id</th>\n",
       "      <th>link</th>\n",
       "      <th>date</th>\n",
       "      <th>job_description</th>\n",
       "      <th>new_list</th>\n",
       "      <th>word_count</th>\n",
       "    </tr>\n",
       "  </thead>\n",
       "  <tbody>\n",
       "    <tr>\n",
       "      <th>0</th>\n",
       "      <td>assistant director of nursing</td>\n",
       "      <td>sj_3c7e64c7996bb9d6</td>\n",
       "      <td>https://ie.indeed.com/pagead/clk?mo=r&amp;ad=-6NYl...</td>\n",
       "      <td>Just posted</td>\n",
       "      <td>Silver Stream Healthcare Group offer great emp...</td>\n",
       "      <td>[Silver Stream Healthcare Group offer great em...</td>\n",
       "      <td>563</td>\n",
       "    </tr>\n",
       "    <tr>\n",
       "      <th>5</th>\n",
       "      <td>clinical nurse specialist - chest pain</td>\n",
       "      <td>job_4c3a97c49465fb6b</td>\n",
       "      <td>https://ie.indeed.com/rc/clk?jk=4c3a97c49465fb...</td>\n",
       "      <td>Just posted</td>\n",
       "      <td>JOB DESCRIPTION\\n\\nClinical Nurse Specialist -...</td>\n",
       "      <td>[JOB DESCRIPTION, , Clinical Nurse Specialist ...</td>\n",
       "      <td>3089</td>\n",
       "    </tr>\n",
       "    <tr>\n",
       "      <th>19</th>\n",
       "      <td>NaN</td>\n",
       "      <td>job_c5cbfcd84dd36e5b</td>\n",
       "      <td>https://ie.indeed.com/rc/clk?jk=c5cbfcd84dd36e...</td>\n",
       "      <td>NaN</td>\n",
       "      <td>Are you looking to broaden your nursing skills...</td>\n",
       "      <td>[Are you looking to broaden your nursing skill...</td>\n",
       "      <td>550</td>\n",
       "    </tr>\n",
       "    <tr>\n",
       "      <th>20</th>\n",
       "      <td>NaN</td>\n",
       "      <td>job_30234f2c064764c3</td>\n",
       "      <td>https://ie.indeed.com/rc/clk?jk=30234f2c064764...</td>\n",
       "      <td>NaN</td>\n",
       "      <td>Location: Lucena Clinic, Child &amp; Adolescent Me...</td>\n",
       "      <td>[Location: Lucena Clinic, Child &amp; Adolescent M...</td>\n",
       "      <td>643</td>\n",
       "    </tr>\n",
       "    <tr>\n",
       "      <th>21</th>\n",
       "      <td>NaN</td>\n",
       "      <td>job_395a52d19c0403a3</td>\n",
       "      <td>https://ie.indeed.com/rc/clk?jk=395a52d19c0403...</td>\n",
       "      <td>NaN</td>\n",
       "      <td>Role of Subject Matter Expert\\nThe Subject Mat...</td>\n",
       "      <td>[Role of Subject Matter Expert, The Subject Ma...</td>\n",
       "      <td>1148</td>\n",
       "    </tr>\n",
       "    <tr>\n",
       "      <th>...</th>\n",
       "      <td>...</td>\n",
       "      <td>...</td>\n",
       "      <td>...</td>\n",
       "      <td>...</td>\n",
       "      <td>...</td>\n",
       "      <td>...</td>\n",
       "      <td>...</td>\n",
       "    </tr>\n",
       "    <tr>\n",
       "      <th>550</th>\n",
       "      <td>staff nurse - theatre; anaesthetics and pacu</td>\n",
       "      <td>job_8d6f8c127c0c6ad0</td>\n",
       "      <td>https://ie.indeed.com/rc/clk?jk=8d6f8c127c0c6a...</td>\n",
       "      <td>Posted 30+ days ago</td>\n",
       "      <td>Job Title; Staff Nurse\\nDepartment; Theatre, A...</td>\n",
       "      <td>[Job Title; Staff Nurse, Department; Theatre, ...</td>\n",
       "      <td>859</td>\n",
       "    </tr>\n",
       "    <tr>\n",
       "      <th>557</th>\n",
       "      <td>staff nurse - cath lab</td>\n",
       "      <td>job_761d49f6acdcf175</td>\n",
       "      <td>https://ie.indeed.com/rc/clk?jk=761d49f6acdcf1...</td>\n",
       "      <td>Posted 30+ days ago</td>\n",
       "      <td>Job Title: Staff Nurse\\nDepartment: Cardiac Ca...</td>\n",
       "      <td>[Job Title: Staff Nurse, Department: Cardiac C...</td>\n",
       "      <td>997</td>\n",
       "    </tr>\n",
       "    <tr>\n",
       "      <th>558</th>\n",
       "      <td>icu staff nurse</td>\n",
       "      <td>job_479ffde2569d7ab3</td>\n",
       "      <td>https://ie.indeed.com/rc/clk?jk=479ffde2569d7a...</td>\n",
       "      <td>Posted 30+ days ago</td>\n",
       "      <td>Overview:\\nPost Title: Staff Nurse ICU\\n\\nLoca...</td>\n",
       "      <td>[Overview:, Post Title: Staff Nurse ICU, , Loc...</td>\n",
       "      <td>943</td>\n",
       "    </tr>\n",
       "    <tr>\n",
       "      <th>560</th>\n",
       "      <td>assistant director of nursing</td>\n",
       "      <td>job_fb98c2758e8f83d9</td>\n",
       "      <td>https://ie.indeed.com/rc/clk?jk=fb98c2758e8f83...</td>\n",
       "      <td>Posted 30+ days ago</td>\n",
       "      <td>The Grace Healthcare Group are an established ...</td>\n",
       "      <td>[The Grace Healthcare Group are an established...</td>\n",
       "      <td>862</td>\n",
       "    </tr>\n",
       "    <tr>\n",
       "      <th>562</th>\n",
       "      <td>staff nurse</td>\n",
       "      <td>job_3836f4e2da5f81a1</td>\n",
       "      <td>https://ie.indeed.com/rc/clk?jk=3836f4e2da5f81...</td>\n",
       "      <td>Employer\\nActive 5 days ago</td>\n",
       "      <td>A Little Bit About Us\\nEstablished in 1917, Le...</td>\n",
       "      <td>[A Little Bit About Us, Established in 1917, L...</td>\n",
       "      <td>1648</td>\n",
       "    </tr>\n",
       "  </tbody>\n",
       "</table>\n",
       "<p>106 rows × 7 columns</p>\n",
       "</div>"
      ],
      "text/plain": [
       "                                            title                    id  \\\n",
       "0                   assistant director of nursing   sj_3c7e64c7996bb9d6   \n",
       "5          clinical nurse specialist - chest pain  job_4c3a97c49465fb6b   \n",
       "19                                            NaN  job_c5cbfcd84dd36e5b   \n",
       "20                                            NaN  job_30234f2c064764c3   \n",
       "21                                            NaN  job_395a52d19c0403a3   \n",
       "..                                            ...                   ...   \n",
       "550  staff nurse - theatre; anaesthetics and pacu  job_8d6f8c127c0c6ad0   \n",
       "557                        staff nurse - cath lab  job_761d49f6acdcf175   \n",
       "558                               icu staff nurse  job_479ffde2569d7ab3   \n",
       "560                 assistant director of nursing  job_fb98c2758e8f83d9   \n",
       "562                                   staff nurse  job_3836f4e2da5f81a1   \n",
       "\n",
       "                                                  link  \\\n",
       "0    https://ie.indeed.com/pagead/clk?mo=r&ad=-6NYl...   \n",
       "5    https://ie.indeed.com/rc/clk?jk=4c3a97c49465fb...   \n",
       "19   https://ie.indeed.com/rc/clk?jk=c5cbfcd84dd36e...   \n",
       "20   https://ie.indeed.com/rc/clk?jk=30234f2c064764...   \n",
       "21   https://ie.indeed.com/rc/clk?jk=395a52d19c0403...   \n",
       "..                                                 ...   \n",
       "550  https://ie.indeed.com/rc/clk?jk=8d6f8c127c0c6a...   \n",
       "557  https://ie.indeed.com/rc/clk?jk=761d49f6acdcf1...   \n",
       "558  https://ie.indeed.com/rc/clk?jk=479ffde2569d7a...   \n",
       "560  https://ie.indeed.com/rc/clk?jk=fb98c2758e8f83...   \n",
       "562  https://ie.indeed.com/rc/clk?jk=3836f4e2da5f81...   \n",
       "\n",
       "                            date  \\\n",
       "0                    Just posted   \n",
       "5                    Just posted   \n",
       "19                           NaN   \n",
       "20                           NaN   \n",
       "21                           NaN   \n",
       "..                           ...   \n",
       "550          Posted 30+ days ago   \n",
       "557          Posted 30+ days ago   \n",
       "558          Posted 30+ days ago   \n",
       "560          Posted 30+ days ago   \n",
       "562  Employer\\nActive 5 days ago   \n",
       "\n",
       "                                       job_description  \\\n",
       "0    Silver Stream Healthcare Group offer great emp...   \n",
       "5    JOB DESCRIPTION\\n\\nClinical Nurse Specialist -...   \n",
       "19   Are you looking to broaden your nursing skills...   \n",
       "20   Location: Lucena Clinic, Child & Adolescent Me...   \n",
       "21   Role of Subject Matter Expert\\nThe Subject Mat...   \n",
       "..                                                 ...   \n",
       "550  Job Title; Staff Nurse\\nDepartment; Theatre, A...   \n",
       "557  Job Title: Staff Nurse\\nDepartment: Cardiac Ca...   \n",
       "558  Overview:\\nPost Title: Staff Nurse ICU\\n\\nLoca...   \n",
       "560  The Grace Healthcare Group are an established ...   \n",
       "562  A Little Bit About Us\\nEstablished in 1917, Le...   \n",
       "\n",
       "                                              new_list  word_count  \n",
       "0    [Silver Stream Healthcare Group offer great em...         563  \n",
       "5    [JOB DESCRIPTION, , Clinical Nurse Specialist ...        3089  \n",
       "19   [Are you looking to broaden your nursing skill...         550  \n",
       "20   [Location: Lucena Clinic, Child & Adolescent M...         643  \n",
       "21   [Role of Subject Matter Expert, The Subject Ma...        1148  \n",
       "..                                                 ...         ...  \n",
       "550  [Job Title; Staff Nurse, Department; Theatre, ...         859  \n",
       "557  [Job Title: Staff Nurse, Department: Cardiac C...         997  \n",
       "558  [Overview:, Post Title: Staff Nurse ICU, , Loc...         943  \n",
       "560  [The Grace Healthcare Group are an established...         862  \n",
       "562  [A Little Bit About Us, Established in 1917, L...        1648  \n",
       "\n",
       "[106 rows x 7 columns]"
      ]
     },
     "execution_count": 58,
     "metadata": {},
     "output_type": "execute_result"
    }
   ],
   "source": [
    "filtered_df"
   ]
  },
  {
   "cell_type": "code",
   "execution_count": 61,
   "metadata": {},
   "outputs": [
    {
     "name": "stdout",
     "output_type": "stream",
     "text": [
      "['Grace Healthcare are currently recruiting for a Staff Nurse position for Tara Winthrop Private Clinic in Swords, north Co. Dublin. This is an excellent opportunity for an RGN to work in a progressive environment and further your career within the healthcare industry.', 'All successful candidates must ensure that the highest standards of person centered care is delivered.', 'Shifts are rostered Monday-Sunday and may include night duties.', 'Main Duties and Responsibilities:', 'Utilises assessment skills and techniques to determine patient needs on admission.', 'Completes and documents the nursing admission assessment in an accurate and thorough manner.', 'Assesses patient condition on an ongoing basis.', 'Assesses the need for patient/family instruction.', 'Develops and documents a plan of care based on patient needs', 'Updates the written plan of care based on patient needs.', 'Collaborates with other health team members in planning care.', 'Provides safe, comprehensive nursing care to our patients within the guidelines laid out by An Bord Altranais.', 'You must have a detailed up to date knowledge of all An Bord Altranais Guidelines for Nurses documents and be aware of the policies, procedures and legal requirements outlined in these documents.', 'Establishes care priorities based on nursing/medical patient problems.', 'Performs procedures accurately, completely and safely.', 'Provides care with minimal supervision in a timely manner.', 'Maintains a safe environment for patients.', 'Respects the dignity and confidentiality of patients, serving as an advocate as necessary.', 'Must be able to quickly and effectively work in an emergency situation.', 'You must be able to adapt to changing workload.', 'You must be able to deal with incidents and accidents in accordance with the Clinic’s policy and accurately record and report details.', 'The Ideal Candidate:', 'Must have Nursing Qualification and VALID ABA PIN', 'Previous experience working as a staff nurse in a nursing home setting', 'All successful candidates will be Garda vetted', 'Good knowledge of HIQA Standards', 'Must have fluent level of English, both written and oral', 'Permitted to work full-time in Ireland', 'The many benefits of working for Grace Healthcare', 'You will have access to:', 'Substantial Pharmacy Staff Discount.', \"Incentive Bonus for introducing new staff of €500 (T&C's apply).\", 'Free nutritious meals', 'Employee Assistance Program.', 'PRSA Pension Fund.', 'Cycle to Work Scheme.', 'Tax Saver Commuter Scheme', 'Mobile access to rosters on-line - Rosters issued in advance.', 'Availability to swaps: Creating a flexible work environment.', 'Roles on offer include part-time & full-time.', 'Opportunities to progress your career.', 'Monthly Staff Newsletter.', 'Our comprehensive benefits package means we offer more than just competitive rates of pay.', 'Available benefits:', 'Competitive Rates of Pay.', 'Free Uniform.', 'Paid Induction Training and In-House Mandatory Training.', 'Access to Online Education Platform.', 'Access to Convenient Mobile App to accept extra shifts across the Group.', 'Career Progression Opportunities.', 'An attractive remuneration package is available for the right candidate.', 'Please apply with your CV for more information, and to enquire about vacancies in our other Nursing Homes throughout Dublin.', 'Candidates must be residing in Ireland in order to be considered for the position.', 'Job Type: Full-time', 'Benefits:', 'Bike to work scheme', 'On-site parking', 'Schedule:', 'Day shift', 'Night shift', 'Application question(s):', 'Do you currently live in Ireland?', 'Do you have a current and valid ABA PIN for 2024?', 'Work Location: In person']\n",
      "----------------------------------\n",
      "['Bloomfield Hospital has an exciting internal opportunity for a Clinical Nurse Manager 1 to lead and develop a team of Registered Nurses and Healthcare Assistants, to play an integral role in a committed multi-disciplinary team, and to make a significant contribution in the area of psychiatric nurse management.', '', 'Work Location: Stocking Lane, Rathfarnham, Dublin 16', 'Period of Contract: 6 months', 'Reports to: CNM 2', '', 'About Bloomfield:', '', \"Bloomfield Hospital provides a spectrum of neuropsychiatric services to adults with a range of serious and enduring mental health needs such as Alzheimer`s, Parkinson`s, and Huntington`s Diseases, as well as individuals with early onset dementias, schizophrenia and mood disorders. We are the only facility in Ireland that provides a high level of specialized care for people with Huntington's disease. We also provide specialist palliative care to individuals with mental health needs.\", '', 'In Bloomfield Hospital there is a focus on creating a therapeutic environment by using recovery-oriented clinical practices and therapeutic interventions which are evidence-based to enable and support patients to achieve their highest level of functioning and quality of life. This care is delivered through a Multi-disciplinary Team including colleagues in Psychiatry, Psychology, Nursing, Pharmacy, Social Work, Occupational Therapy, Speech and Language, Dietetics, Physiotherapy, and General Practice. Bloomfield Hospital is a 123-bed in-patient mental health service, registered as an approved centre with the Mental Health Commission.', '', 'Our ethos is rooted in the principle of honoring the dignity of every person who comes through our doors.', '', 'Responsibilities will include:', 'Support the Clinical Nurse Management team in the strategic and operational development, coordination, and management of the service following national and regulatory standards and with regard to best practice.', 'Manage patient care to ensure the highest professional standards using an evidence-based, care planning approach.', 'Ensure that our residents and others are treated with dignity and respect, and encourage our residents to be as independent as possible in their activities of daily living.', 'Support the delivery of strategic and operational change programmes in our service.', 'Ensure that all practices, procedures, and policies conform with the service and strategic plans of the organization.', 'Provide safe, comprehensive nursing care to our residents within the guidelines laid out by An Bord Altranais.', 'Provide a high level of professional and clinical leadership and ensure that the nursing and healthcare service provision is delivered to the highest standard of treatment and care and that safety standards are maintained.', 'Ensure the highest standard of compliance with regulatory programmes including Clinical Governance, Health & Safety, and Risk Management standards.', 'Responsible for the coordination, assessment, planning, delivery, and review of patient/residential care by all staff in their designated area.', 'Work as part of a multi-disciplinary team, and participate in teams, meetings, and/or committees as appropriate, communicating and working collaboratively.', \"Coordinate all activities with Bloomfield's Medical Staff in respect of doctors' visits, including all follow-up action required.\", 'Collaborate with our residents, their families, carers, and other staff in treatment/care planning and the provision of support and advice.', 'Communicate verbally and/or in writing, the results of assessments, treatment/care programmes, and recommendations to the team and relevant others per service policy.', 'Plan discharge or transfer of the resident between services as appropriate.', '', 'The successful candidate will meet the following requirements:', 'A registered Psychiatric Nurse qualification is desirable.', \"Possess 3 years post-registration nursing experience consisting of at least 1 year's experience working in adult mental health services.\", 'Flexibility in covering night shift/bank holidays/weekends.', 'Experience in a healthcare/hospital setting, including acute mental health care.', 'Clinical experience in medical conditions and in palliative care.', 'Possess the requisite knowledge and ability including a high standard of clinical, managerial, and administrative competencies.', 'Extensive experience in managing staff, budgets, and workforce planning.', 'Possess an in-depth knowledge of the Mental Health Commission requirements, leadership, and governance.', 'Energetic individual with solid clinical experience in working with a team of diverse clinicians and strong knowledge of the concepts and operations of Clinical Governance.', 'Strong ability to lead, teach, manage, participate, and play a key role in the practice education of students, and to promote and engage in the teaching/training/support of others as appropriate.', 'Have a good knowledge and experience of health, safety, and other statutory regulations affecting a healthcare organization.', 'Demonstrate evidence of continuing professional development.', '', 'For further details, please call 01 4950021 or email careers@bloomfield.ie']\n",
      "----------------------------------\n",
      "['POSITION; SENIOR STAFF NURSE.', 'Purpose of Position:', 'To support the Nurse Manager & Deputy Nurse Manager in their roles and to deputise for them in their absence. To understand her role and responsibilities and to ensure that all of her instructions are carried out in the best interest of the resident.', 'To promote through high standards of professional practice, a caring environment which is conducive to the physical, emotional, social and spiritual needs of the residents.', 'To promote the ethos of person centred care.', 'To ensure that everything we do reflects the privacy, dignity and respect of our residents and underpins all the basic values that contribute to an excellent quality of life.', 'To ensure that all residents receive care appropriate to their individual needs.', 'To provide leadership to the homes staff thus improving standards and maintaining a high moral amongst the team.', 'To lead and educate all grades of staff in the home in the best interest of the residents.', 'RESPONSIBLE TO; General Manager, Nurse Manager & Deputy Nurse Manager.', 'About The Role', 'PRINCIPAL DUTIES AND RESPONSIBILITIES;', 'MANAGEMENT;', 'To deputise for the NM & DNM in their absence', 'To support the NM in her role and to take on such responsibilities and tasks as agreed in advance', 'To stay up to date with clinical and management topics and to take an active interest in the NM sector nationally and internationally.', 'To be the senior nurse on duty and to lead the other nurses and all support staff by effective leadership and inclusive management techniques.', 'To advocate for the residents of the home', 'RESIDENTS;', 'Adheres to the An Board Altranais code of professional conduct for nurses, midwifes and health visitors, maintaining professionalism at all times. Using as guidelines for practice An Board Altranais advisory documents.', 'Adhere to the policies as laid down by Arbour Care Group in the best interest of residents and staff. Compulsory attendance at movement and handling, first aid, fire lectures and fire drills as organised by Arbour Care Group. Also to support carers and provide toolbox training.', 'To be responsible for the prescription and supervision of the delivery of nursing care to residents within the nursing home, ensuring at all times an optimum standard of care.', 'To identify residents specific problems, prescribe nursing intervention using an appropriate model of care e.g.: Roper, Logan & Tierney & Orems model of care and to evaluate care on a regular basis e.g.: monthly and amend care plans accordingly. Also to check the cares activities of daily living (blue book) on a weekly basis to ensure they are completed correctly', 'To participate in the induction of other staff as required and contribute to on going training programmes within the nursing home, demonstrating procedures, imparting knowledge and supervising RN’s Carers and Ancillary staff on a daily basis.', 'Participate in the assessment on admission of patients, planning and evaluation of individualised Care plans (using appropriate model of nursing care) ensuring an optimum standard of care is maintained for each patient.', 'Administer medications as prescribed and record same order medications as prescribed (monthly, record delivery, store safely as per policy). To Check the MDA recordingbook is correct and to check the MARS and kardex’s are correct on a weekly basis. To complete the medication management audit on a quarterly basis.', 'Take bloods as requested by GP and record transfer to lab. Record results when returned in nursing notes and file results in patients/GP’s file.', 'Perform all nursing procedures as per best practice and company policy.', 'Develop good communication channels with the Nurse Manager, with relatives of patients, all other visiting health care professionals e.g. GP’s in the interest of the residents well being.', 'Is economic with the utilisation of resources in order that the optimum standard of care can be achieved for each patient and encourages other staff to be equally economic with resources.', 'Provides written reports on untoward incidents and complaints at the request of the Nurse Manager, secretary or general manager.', 'Ensures that a ‘home-like’ environment and atmosphere is maintained where the resident is seen as the central figure in all decision making, ensuring that their right to individuality, privacy, dignity, independence and choice is updated at all times.', 'Participates in announced/unannounced visits from the care management team and inspectors from the registration and inspector unit. Environment health, fire authority, HSA and mental health commission if applicable etc. Provide nursing notes, registration book, accident/incident book storage of Dr’s and nursing notes. Respond to questions on all related issues- Drugs D.D.A.s drug recording sheets/prescription sheets.', 'To comply with any reasonable request from the Nurse Manager in the best interest of the residents and the company.', '', 'Legislation: To be familiar with:', 'HIQA National Standards for Residential Care Settings for Older People in Ireland', 'Health Act 2007 (care and Welfare of Residents In Designated Centres For Older People) & Regulations 2009', 'C.O.S.H.H Regulations- Control of substances hazardous to health', 'Health & Safety at Work 2005', 'HACCP-Hazard Analysis Critical Control Point. Risk assessment', '', 'This job description is intended to give the post holder an appreciation of the role envisaged for the Staff Nurse and the range of duties. Given the nature of the work involved, it must be stressed that maximum flexibility is required to work in the nursing home environment e.g. changes in duty/rotation of shifts etc. It does not attempt to detail every activity. Specific tasks and objectives will be agreed with the post holder periodically by the Nurse Manager.', '', 'Required Criteria', '', 'Skills Needed', 'About The Company', 'Evergreen Care offers a fresh perspective in nursing home care in the heart of Ireland’s communities. We currently have 9 homes in our group – all centered on creating a kind, caring and happy community for every resident in our care.', 'We offer many different types of care depending on individual needs – whether it’s a short stay to recover from an illness or a more long-term decision to make a new home with us.', 'We understand the decision to move from your own home is an important one for you and your loved ones. Our specialist', 'care team are here to offer guidance and support to make the transition a smooth and happy one.', 'Company Culture', 'To deliver our level of excellence in care, we need amazing people. From managers, nurses and carers to administration, housekeeping and catering, each person plays a vital role in our Evergreen Care community.', 'It’s not just their specialist skills, experience and extraordinary commitment that makes our people special but also their kind and compassionate nature.', 'More than a job, a career with Evergreen Care means you', 'become part of a special community where you can make a real difference to the lives of our residents every day.', 'Company Benefits', 'Flexible schedule, Employee development programs, Free parking, Referral bonus, Open office, Competitive salary', 'Salary', '€5.00 per hour']\n",
      "----------------------------------\n",
      "['Registered Psychiatric Nurse – Home Based Treatment Team', 'Highfield Healthcare is a modern mental health service offering a full range of care and treatment to people experiencing mental health difficulties and mental health illnesses. Highfield Healthcare has a long-established history of providing care that is values driven and underpinned by person-centredness and quality. We offer a supportive and team-based approach for all healthcare professionals, and we are open to promoting developmental opportunities for our staff.', 'A full multidisciplinary healthcare team is in place to deliver treatment and therapeutic interventions to all our service users. The current service provided consists of an acute inpatient unit, specialist rehabilitation units, and psychiatry of later life services. Two general adult acute day hospitals are located on-site.', 'Purpose of the Post', 'The post appointment is to the Highfield healthcare Mental Health Service. The appointee will work as a member of the multidisciplinary team and deliver professional nursing expertise on an individual basis in the person’s home. This will involve assessing, planning, implementing, and evaluating care to the highest professional and ethical standards within the model of nursing care practiced in the clinical care setting.', 'Reporting Relationship: Clinical Nurse Manager/ Assistant Director of Nursing', 'Principal Duties', '-*_Professional Responsibilities*_', '· Practice Nursing according to:', 'ù the Professional Code of Practice as laid down by the Nursing Board (Nursing & Midwifery Board Ireland)', 'ù Professional Clinical Guidelines and contemporary best evidence practice', 'ù Highfield Healthcare’s local policies, protocols, and guidelines', 'ù Current legislationas it applies to the role in particular Mental Health Act 2001, Health & Safety Legislation, fire Safety Legislation. This is not an exhaustive list.', '· Implement the care philosophy, objectives, and goals of their unit / department / organisation to deliver appropriate high quality service user care.', '· Participate as an interdisciplinary team member in all aspects of service user care.', '· Demonstrate a high degree of motivation and assume responsibility for their own professional development and contribute to the development of others.', '· Promote good interpersonal relationships with service users, their family / social network supports, and the interdisciplinary care team in accordance with ethical standards.', '· Demonstrate flexibility by assisting in other areas of the service as required.', '· Participate in regular performance / clinical reviews with their line manager, identifying key performance objectives and appropriate plans/measures to achieve areas for improvement and appropriate plans/measures to achieve them in a supportive environment.', '· Respect and maintain the privacy, dignity, and confidentiality of the patient/client, in relation to all hospital activities.', '· Professional Expectations: The nurse must comply with the Code of Professional Conduct as laid down by the Nursing Board Midwifery Board Ireland. The nursing profession demands a high standard of professional behaviour from its members and each registered nurse is accountable for his or her practice. The nurse must work within his / her scope of practice and must take measures to develop and maintain the competence necessary for professional practice. The nurse must be aware of ethical policies and procedures which pertain to his/her area of practice. Patient/client confidentiality must be always maintained.', 'CLINICAL ROLE', 'The Staff Nurse will:', '· Manage the nursing care of a caseload of patients as required.', '· Assess, plan, implement and evaluate individualized patient/client care programs within an agreed framework, in accordance with best practice at all stages of the process.', '· Ensure clinical risk assessments are completed as required.', '· Collaborate with the patient/client, their family, and the interdisciplinary team to facilitate the development and review of an appropriate care plan/discharge plan to ensure continuity of care.', '· Participate in Multidisciplinary, Team, and Clinical meetings.', '· Observe, report, and take appropriate action on any matter which may be detrimental to patient/client care or wellbeing or inhibit the efficient operation of the centre, unit or assignment.', '· Act as an advocate for patients/service users as required and provide relevant information on advocacy support.', '· Maintain appropriate and accurate written records and reports regarding patient/client care in accordance with the Nursing & Midwifery Board Ireland guidelines, Mental Health Act 2001 legislation, and other relevant legislative and legal requirements.', '· Participate in innovation and change in the approach to patient/client care delivery, and contribute to the service planning process, based on best practice and under the direction of nursing management, particularly in relation to new research findings and advances in treatment.', '· Ensure that current legal requirements for the safe administration and storage of medicines are adhered to in accordance with best practices.', '· Have a sound knowledge of clinical standards and participate in patient/client care audits.', '· Ensure that nursing care is carried out, using an evidence-based approach, to a high standard in a safe environment maintaining the confidentiality and dignity of the patient/client at all times.', '· Promote positive mental health concepts with patients and colleagues.', 'MANAGEMENT', 'The Staff Nurse will:', '· Be required to take managerial responsibility for the ward /unit/ clinical area in the absence of the Clinical Nurse Manager', '· Take responsibility in conjunction with the Clinical Nurse Manager for the efficient coordination and control of resources and administrative procedures within the identified area.', '· Prepare reports, and incident reports and undertake the auditing process as necessary and participate in system reviews where necessary.', '· Ensure compliance with health and safety, infection control and risk management procedures and participate in their development, comply with statutory obligations.', '· Supervise the work of other grades of staff within the remit of their role.', '· Accurately record and report all complaints to appropriate personnel according to local service policy.', 'EDUCATION', 'The Staff Nurse will:', '· Participate in the planning and implementation of orientation and teaching programmes both for students and other health care staff in the clinical setting.', '· Act as a mentor, preceptor or clinical assessor for staff in the clinical environment', '· Participate in the induction of new staff in the clinical area.', '· Participate in training as required to meet the ongoing needs for the care of the patient in order to comply with standards of care.', '· Take responsibility for own learning and development needs and actively contribute to the learning and development of the interdisciplinary team.', '· May be assigned to hospital and / or community-based duties as required to meet the needs of the service.', 'Eligibility Criteria - Qualifications and/ or experience', 'Required', 'Be registered on the Psychiatric Division of the Nursing and Midwifery Board of Ireland (NMBI).', 'Be flexible in relation to work pattern.', 'Have a clear, open and friendly communication style with the ability to respond quickly and appropriately across a variety of situations.', 'Have excellent communication and organizational skills.', 'Have a clear commitment to person-centered care and strong interpersonal skills.', 'Have fluent spoken and written English.', 'Full Clean Drivers license and own transport', 'Desirable', 'Have completed Mental Health Act Training.', 'Be very familiar with the Judgement Support Framework (JSF), MHC.', 'Job Type: Full-time', 'Salary: €33,943.00-€51,628.00 per year', 'Benefits:', 'Employee assistance program', 'Schedule:', 'Day shift', 'Monday to Friday', 'Ability to Commute:', 'Dublin 9, CO. Dublin (required)', 'Work Location: In person']\n",
      "----------------------------------\n",
      "['Job Title: Paediatric Staff Nurse', 'Department: Paediatrics', 'Reports to: CNM2 Paediatrics', 'Date: 2024', '', 'Overall Purpose of Job', 'The purpose of the staff nurse, Paediatric Ambulatory Care is to provide exceptional patient care in an environment where quality, respect, caring and compassion are at the centre of all we do.', '', 'Key Responsibilities and Deliverables', 'Excellent Communication and clinical judgement skills to enhance the referral process from General Practitioners (GPs)/Multidisciplinary Team Members to Paediatrics Ambulatory Service.', 'Become competent in the assessment/triage of children for review by appointment by appropriate Consultant as required.', 'Assist GPs in the appropriate triage of children to ensure appropriate referrals to service.', 'Analyze workloads and skill requirements to meet patient/family care needs.', 'Deputize for the Clinical Coordinator in their absence', 'Serves as a resource person for other staff, family and patients attending the Service.', 'Assists with the assessment, planning, implementation and evaluation of patient care as required.', 'Provides direct care to assigned paediatric patients and adult patients.', 'This role requires the post holder to be competent to take charge at night.', 'Takes the nursing history, summarises data, and states nursing diagnoses or patient care needs.', 'Observes and records signs, symptoms, and behaviours, including the physiological status of patients; presents the assessment of changes, the proposed revision of interventions, and desired outcomes.', 'Follows policy for activating an individualised plan of care for newly admitted patients.', 'Delivers designated nursing interventions to assigned patients that are consistent with the stated medical plan of care.', \"Performs admission, discharge and transfer procedures, and assists others with patient's activities and care.\", \"Executes consultants' orders for all assigned patients; safely and properly administers medications and treatments.\", \"Notifies appropriate nursing and medical staff to changes in the patient's status.\", 'Independently performs duties and assumes responsibility for care of assigned patients.', 'Performs techniques and routines in the specialty service area.', 'Performs or assists others to perform proper aseptic techniques, isolation procedures, and infection control measures.', 'Documents nursing care in all assigned patient records.', \"Maintains patient's privacy and confidentiality of information and records at all times.\", 'Evaluates care given including the patient response.', 'Reassesses and documents the proposed revision of interventions and desired outcomes.', \"Demonstrates ability to assess patient's understanding of and compliance with instructions and health care teaching.\", 'Reviews documentation of instructions, teaching topics, and patient response with the Head Nurse or designee.', 'Adheres to internal controls established for department.', 'Performs ad hoc duties as required.', '', 'Clinical Responsibilities:', 'The post holder will be familiar with and adhere to nursing guidance provided by the Nursing & Midwifery Board of Ireland (NMBI, 2015, 2014, 2000).', '', \"Become competent in the nursing assessment/triage of children prior to review by the Consultant. This includes physical assessment of the child's weight, height, circumferences, vital signs & urinalysis and investigations as required.\", '', 'The post holder will ensure:', \"The patients' needs are individually assessed.\", 'A care plan and evaluation process is planned and implemented.', \"The patient's families or significant others are involved as appropriate.\", 'Patients are cared for in the optimum clinical environment, adhering to all nursing and hospital wide policies and guidelines.', \"Full nursing participation in and supervision of patient's meal and special dietary requirements.\", 'Visiting time policies are adhered to.', 'Delegation is appropriate to the skill level and knowledge of the individual to whom the task is delegated.', 'Documentation is recorded in a professional, legible and timely fashion.', '', 'The post holder will partake in the Total Quality Management processes thereby contributing to:', 'The identification of quality/policy/guidelines required and to develop same.', 'The evaluation of current practices to achieve best practice.', 'Participate in the evaluation of care provided by contributing to the process of satisfaction surveys and follow-up calls as required.', 'The setting of standards utilising structure, process and outcome.', \"All hospital, regional and national audit processes relating to KPI's and clinical need.\", 'The Hospital Wide Accreditation Cycle.', 'Health Promotion initiatives such as Asthma Care, auto inject use etc.', '', 'Managerial Responsibilities:', 'Manage direct enquiries from GPs about children requiring appointments.', 'Manage and plan for the safety needs of children attending the service and ensuring safe transfer of children under direct supervision of a parent/guardian between other departments.', 'Become competent in the assessment/triage of patients for review by appointment with relevant Consultant.', 'Demonstrate knowledge and competence in all relevant hospital policies and guidelines.', 'Efficient recording of all necessary documentation.', 'Participate in relevant organizational meetings regarding the Paediatric Ambulatory Service.', 'Ensure follow-up care of the child/family are arranged following consultation, communicate is communicated as required i.e. Dietician, Physiotherapy or Speech & Language.', \"Ensure effective communication of any follow-up care and results are communicated to the child's parent/guardian in an appropriate manner and within the nurse's scope of practice.\", '', 'Personal/Professional Responsibilities:', 'The post holder is expected to', 'Become competent in the nursing assessment/triage of children prior to review by Consultant.', 'Attend in a timely manner all mandatory education sessions.', 'Maintain a professional portfolio.', 'Ensure their professional and personal persona positively reflects the profession of nursing and Beacon Hospital.', 'Identify potential and beneficial topics for nursing research.', 'Utilise all practical opportunities to educate the patient and their families.', 'Be a preceptor and or supervisor to students/newly appointed staff.', 'Participate in their performance review with their Nurse Manager.', '', 'Other Duties and Responsibilities', 'Utilise effective time management skills.', 'Maintain professional appearance and dress code.', 'Comply with guidelines for absence or tardiness.', 'Attend unit staff meetings, read email and other postings.', 'Attend all required in-services.', 'Wear Identification badge.', '', 'Interrelationships', 'Maintain good working relationships with other departments and with physicians, patients, families and outside agencies i.e. General Practitioners.', 'Communicate effectively with Nurse Managers.', 'Work closely and effectively with Consultants to deliver safe and evidence based care.', 'Communicate with children and their parent/guardian in an appropriate and sensitive manner especially if follow-up/results maybe a sensitive issue.', 'Demonstrate the ability to delegate tasks and responsibilities.', 'Participate in ongoing consultation and collaboration with physicians and other care.', 'Provide care to maximize patient outcomes and unit specific goals.', 'Participate in unit-based and interdepartmental QI activities.', 'Demonstrate willingness to assist co-workers ensuring activities within current scope of nursing practice.', 'Liaise with diagnostic services (phlebotomy, radiology, pulmonary function tests, skin prick testing)', 'Be open and adapt to a changing clinical environment', '', 'Person Specification', 'Qualification', \"NMBI Children's registration\", 'NMBI General registration desirable', 'Current PALS or willing to undertake within 12 months.', '', 'Experience', 'Paediatric nursing experience preferred.', 'Must demonstrate multi-tasking ability.', 'Must have achieved English fluency in all manners of communication.', 'Use effective time management skills.', 'Good computer skills', '', 'Job Specific Competencies and Knowledge', 'Teamwork', 'Ability to work as part of a multi-disciplinary team.', 'Motivated and an innovative approach to job.', 'Communication & Interpersonal Skills', 'Effective communication skills including the ability to present information in a clear and concise manner.', 'Have an understanding of change management.', 'Planning & Organising', 'Demonstrate evidence of effective planning, organizing and time management skills.', 'Have flexible approach to working hours in order to meet service demands.', 'Knowledge', 'Demonstrate evidence of recent and relevant experience in paediatrics.', 'Knowledge of new developments in specialized area.', 'Knowledge of national strategies where appropriate to nursing care.', 'Patient/Customer Focus', 'Focus on quality.', 'Demonstrate empathy when dealing with children, family/guardians and maintain dignity and respect at all times.', '', 'Personal Competencies', 'All posts in Beacon Hospital require a high level of flexibility to ensure the delivery of an effective and efficient service. Therefore, the post holder will be required to demonstrate flexibility as and when required by their manager or hospital management.', 'This job description is intended to be an outline of the areas of responsibility and deliverables at the time of its writing. As the Hospital and the post holder develop, this job description may be subject to review in light of the changing needs of the Hospital.']\n",
      "----------------------------------\n"
     ]
    }
   ],
   "source": [
    "for x in range(10, 15):\n",
    "    print(filtered_df.iat[x, 5])\n",
    "    print('----------------------------------')"
   ]
  },
  {
   "cell_type": "code",
   "execution_count": 67,
   "metadata": {},
   "outputs": [],
   "source": [
    "a = filtered_df.iat[x, 4]"
   ]
  },
  {
   "cell_type": "code",
   "execution_count": 69,
   "metadata": {},
   "outputs": [],
   "source": [
    "from summarizer import Summarizer"
   ]
  },
  {
   "cell_type": "code",
   "execution_count": 70,
   "metadata": {},
   "outputs": [
    {
     "data": {
      "application/vnd.jupyter.widget-view+json": {
       "model_id": "d03b37479728426ab9e160e4679f36c9",
       "version_major": 2,
       "version_minor": 0
      },
      "text/plain": [
       "config.json:   0%|          | 0.00/571 [00:00<?, ?B/s]"
      ]
     },
     "metadata": {},
     "output_type": "display_data"
    },
    {
     "name": "stderr",
     "output_type": "stream",
     "text": [
      "c:\\Users\\temulenbd\\anaconda3\\Lib\\site-packages\\huggingface_hub\\file_download.py:149: UserWarning: `huggingface_hub` cache-system uses symlinks by default to efficiently store duplicated files but your machine does not support them in C:\\Users\\temulenbd\\.cache\\huggingface\\hub\\models--bert-large-uncased. Caching files will still work but in a degraded version that might require more space on your disk. This warning can be disabled by setting the `HF_HUB_DISABLE_SYMLINKS_WARNING` environment variable. For more details, see https://huggingface.co/docs/huggingface_hub/how-to-cache#limitations.\n",
      "To support symlinks on Windows, you either need to activate Developer Mode or to run Python as an administrator. In order to see activate developer mode, see this article: https://docs.microsoft.com/en-us/windows/apps/get-started/enable-your-device-for-development\n",
      "  warnings.warn(message)\n"
     ]
    },
    {
     "data": {
      "application/vnd.jupyter.widget-view+json": {
       "model_id": "5ec6b721a0d8464a8e7648a8e911c81d",
       "version_major": 2,
       "version_minor": 0
      },
      "text/plain": [
       "model.safetensors:   0%|          | 0.00/1.34G [00:00<?, ?B/s]"
      ]
     },
     "metadata": {},
     "output_type": "display_data"
    },
    {
     "data": {
      "application/vnd.jupyter.widget-view+json": {
       "model_id": "d67eba4d74e84000990a5a5bba7a3fd3",
       "version_major": 2,
       "version_minor": 0
      },
      "text/plain": [
       "tokenizer_config.json:   0%|          | 0.00/28.0 [00:00<?, ?B/s]"
      ]
     },
     "metadata": {},
     "output_type": "display_data"
    },
    {
     "data": {
      "application/vnd.jupyter.widget-view+json": {
       "model_id": "ff26e7d5ea1f4b1aaa3aadb8f78116c3",
       "version_major": 2,
       "version_minor": 0
      },
      "text/plain": [
       "vocab.txt:   0%|          | 0.00/232k [00:00<?, ?B/s]"
      ]
     },
     "metadata": {},
     "output_type": "display_data"
    },
    {
     "data": {
      "application/vnd.jupyter.widget-view+json": {
       "model_id": "d8db3c7f14e44844b604785447977a6c",
       "version_major": 2,
       "version_minor": 0
      },
      "text/plain": [
       "tokenizer.json:   0%|          | 0.00/466k [00:00<?, ?B/s]"
      ]
     },
     "metadata": {},
     "output_type": "display_data"
    }
   ],
   "source": [
    "summarizer = Summarizer()"
   ]
  },
  {
   "cell_type": "code",
   "execution_count": 71,
   "metadata": {},
   "outputs": [
    {
     "name": "stderr",
     "output_type": "stream",
     "text": [
      "c:\\Users\\temulenbd\\anaconda3\\Lib\\site-packages\\sklearn\\cluster\\_kmeans.py:1412: FutureWarning: The default value of `n_init` will change from 10 to 'auto' in 1.4. Set the value of `n_init` explicitly to suppress the warning\n",
      "  super()._check_params_vs_input(X, default_n_init=10)\n",
      "c:\\Users\\temulenbd\\anaconda3\\Lib\\site-packages\\sklearn\\cluster\\_kmeans.py:1436: UserWarning: KMeans is known to have a memory leak on Windows with MKL, when there are less chunks than available threads. You can avoid it by setting the environment variable OMP_NUM_THREADS=1.\n",
      "  warnings.warn(\n"
     ]
    }
   ],
   "source": [
    "summury = summarizer(a)"
   ]
  },
  {
   "cell_type": "code",
   "execution_count": 72,
   "metadata": {},
   "outputs": [
    {
     "name": "stdout",
     "output_type": "stream",
     "text": [
      "Job Title: Paediatric Staff Nurse\n",
      "Department: Paediatrics\n",
      "Reports to: CNM2 Paediatrics\n",
      "Date: 2024\n",
      "\n",
      "Overall Purpose of Job\n",
      "The purpose of the staff nurse, Paediatric Ambulatory Care is to provide exceptional patient care in an environment where quality, respect, caring and compassion are at the centre of all we do. Key Responsibilities and Deliverables\n",
      "Excellent Communication and clinical judgement skills to enhance the referral process from General Practitioners (GPs)/Multidisciplinary Team Members to Paediatrics Ambulatory Service. Analyze workloads and skill requirements to meet patient/family care needs. Deputize for the Clinical Coordinator in their absence\n",
      "Serves as a resource person for other staff, family and patients attending the Service. Assists with the assessment, planning, implementation and evaluation of patient care as required. Performs techniques and routines in the specialty service area. Documents nursing care in all assigned patient records. Reassesses and documents the proposed revision of interventions and desired outcomes. This includes physical assessment of the child's weight, height, circumferences, vital signs & urinalysis and investigations as required. Delegation is appropriate to the skill level and knowledge of the individual to whom the task is delegated. Participate in the evaluation of care provided by contributing to the process of satisfaction surveys and follow-up calls as required. All hospital, regional and national audit processes relating to KPI's and clinical need. Health Promotion initiatives such as Asthma Care, auto inject use etc. Demonstrate knowledge and competence in all relevant hospital policies and guidelines. Comply with guidelines for absence or tardiness. Communicate with children and their parent/guardian in an appropriate and sensitive manner especially if follow-up/results maybe a sensitive issue. Participate in ongoing consultation and collaboration with physicians and other care. Have flexible approach to working hours in order to meet service demands.\n"
     ]
    }
   ],
   "source": [
    "print(summury)"
   ]
  },
  {
   "cell_type": "markdown",
   "metadata": {},
   "source": []
  },
  {
   "cell_type": "code",
   "execution_count": null,
   "metadata": {},
   "outputs": [],
   "source": []
  },
  {
   "cell_type": "code",
   "execution_count": 5,
   "metadata": {},
   "outputs": [
    {
     "data": {
      "application/vnd.jupyter.widget-view+json": {
       "model_id": "dd757b944e3e45128310ce3c967ac24a",
       "version_major": 2,
       "version_minor": 0
      },
      "text/plain": [
       "config.json:   0%|          | 0.00/570 [00:00<?, ?B/s]"
      ]
     },
     "metadata": {},
     "output_type": "display_data"
    },
    {
     "name": "stderr",
     "output_type": "stream",
     "text": [
      "c:\\Users\\temulenbd\\anaconda3\\Lib\\site-packages\\huggingface_hub\\file_download.py:149: UserWarning: `huggingface_hub` cache-system uses symlinks by default to efficiently store duplicated files but your machine does not support them in C:\\Users\\temulenbd\\.cache\\huggingface\\hub\\models--bert-base-uncased. Caching files will still work but in a degraded version that might require more space on your disk. This warning can be disabled by setting the `HF_HUB_DISABLE_SYMLINKS_WARNING` environment variable. For more details, see https://huggingface.co/docs/huggingface_hub/how-to-cache#limitations.\n",
      "To support symlinks on Windows, you either need to activate Developer Mode or to run Python as an administrator. In order to see activate developer mode, see this article: https://docs.microsoft.com/en-us/windows/apps/get-started/enable-your-device-for-development\n",
      "  warnings.warn(message)\n"
     ]
    },
    {
     "data": {
      "application/vnd.jupyter.widget-view+json": {
       "model_id": "4e5601597b254b2688b84ca0924e20df",
       "version_major": 2,
       "version_minor": 0
      },
      "text/plain": [
       "model.safetensors:   0%|          | 0.00/440M [00:00<?, ?B/s]"
      ]
     },
     "metadata": {},
     "output_type": "display_data"
    }
   ],
   "source": [
    "model = BertModel.from_pretrained('bert-base-uncased')"
   ]
  },
  {
   "cell_type": "code",
   "execution_count": 8,
   "metadata": {},
   "outputs": [],
   "source": []
  },
  {
   "cell_type": "code",
   "execution_count": 20,
   "metadata": {},
   "outputs": [],
   "source": [
    "text_1st = df.iat[0, 4]"
   ]
  },
  {
   "cell_type": "code",
   "execution_count": 21,
   "metadata": {},
   "outputs": [
    {
     "data": {
      "text/plain": [
       "'Silver Stream Healthcare Group offer great employment and training opportunities. We are committed to attracting and retaining professional and dedicated staff to help us provide the highest level of care possible to our residents and a peace of mind to their families.\\nOur Assistant Director of Nursing will carry out a range of duties to ensure that the care and well-being of residents is met satisfactorily, including assisting in future planning, supervision and control of all staff and deputising for Director of Nursing in their absence at our Leeson Park Nursing Home (10 Leeson Park, Dublin 6, D06 TC65).\\nPrincipal Responsibilities:\\nSupervising, and monitoring all staff in the course of their duties. Complete staff weekly allocation sheets.\\nSupervising and controlling arrangements for resident’s admissions/discharges. Carry out home viewings as required. Welcome new residents to the home. Meet with families as required.\\nResponsible for ensuring correct infection control procedures are adhered to and completing the monthly audit and send to Clinical Governance Manager.\\nEnsure next of kin contact numbers are kept up to date.\\nCarry out weekly home reviews and weekly cleaning audits. Send reports to Clinical Governance Manager.\\nSupervise Staff Nurses to ensure that care plans are updated regularly and that the accurately reflect the residents’ current needs.\\nResponsible for the weekly care indicator report – send to Clinical Governance Manager every Monday.\\nObserve and monitor the physical and mental well-being of residents and ensure that appropriate action is taken as required. Encourage residents in taking decisions which affect their lifestyle physically, socially and their religious requirements.\\nEnsuring that the provision of care includes, where required, contact and services from the appropriate GP and community nursing services and allied healthcare professionals and that instructions are carried out and administered. Each Wednesday following the Tuesday GP round ensure instructions are followed and document in care plans where required.\\nTo report complaints by residents, their relative or agent and staff to D.O.N.\\nTo report any allegations or suspicions of abuse to D.O.N. Comply with the Company’s policy on abuse and whistleblowing.\\nEnsure that adequate stock levels of bedding, Inco wear, etc, are held to meet residents’ requirements reporting any shortages to D.O.N.\\nLiaise with residents’ relatives or agents as required and document in care plan.\\nAssist D.O.N. with the implementation of regular fire drills.\\nRespond to emergency situations and direct and control residents and staff.\\nDeputise for D.O.N. in her absence.\\nRequirements:\\nCurrent registration with NMBI.\\nManagement / Leadership qualification.\\nMinimum 3 years experience in elderly care, excellent clinical skills as well as knowledge of HIQA standards and regulations.\\nMin 2+ years experience as a CNM or 1 year as an ADON within elderly care setting\\nYou will be of good character, enjoy a challenge and take pride in achieved results\\nExcellent computer skills and record keeping\\nExperience in leading, motivating and supporting an effective and efficient team.\\nProven clinical competence and passionate about delivering outstanding care to older\\nBenefits of working with us\\nCompetitive Salary\\nRefer a Friend scheme\\nOpportunities for career progression\\nPaid training\\nEducation support\\nPaid Garda Vetting\\nHoliday entitlements\\nEmployee Assistance Programme\\nUniforms provided\\nOnsite Parking\\nMeals provided\\nJob Type: Full-time\\nSalary: €26.00-€30.00 per hour\\nJob Types: Full-time, Permanent\\nSalary: €26.00-€30.00 per hour\\nWork authorisation:\\nIreland (required)\\nAbility to Commute:\\nDublin 6 D06 TC65 (required)\\nAbility to Relocate:\\nDublin 6 D06 TC65: Relocate before starting work (required)\\nWork Location: In person'"
      ]
     },
     "execution_count": 21,
     "metadata": {},
     "output_type": "execute_result"
    }
   ],
   "source": [
    "text_1st"
   ]
  },
  {
   "cell_type": "code",
   "execution_count": 22,
   "metadata": {},
   "outputs": [],
   "source": [
    "tokenizer = BertTokenizer.from_pretrained('bert-base-uncased')"
   ]
  },
  {
   "cell_type": "code",
   "execution_count": 23,
   "metadata": {},
   "outputs": [],
   "source": [
    "tokens = tokenizer.tokenize(text_1st)"
   ]
  },
  {
   "cell_type": "code",
   "execution_count": 25,
   "metadata": {},
   "outputs": [
    {
     "data": {
      "text/plain": [
       "728"
      ]
     },
     "execution_count": 25,
     "metadata": {},
     "output_type": "execute_result"
    }
   ],
   "source": [
    "len(tokens)"
   ]
  },
  {
   "cell_type": "code",
   "execution_count": null,
   "metadata": {},
   "outputs": [],
   "source": []
  }
 ],
 "metadata": {
  "kernelspec": {
   "display_name": "base",
   "language": "python",
   "name": "python3"
  },
  "language_info": {
   "codemirror_mode": {
    "name": "ipython",
    "version": 3
   },
   "file_extension": ".py",
   "mimetype": "text/x-python",
   "name": "python",
   "nbconvert_exporter": "python",
   "pygments_lexer": "ipython3",
   "version": "3.11.4"
  }
 },
 "nbformat": 4,
 "nbformat_minor": 2
}
