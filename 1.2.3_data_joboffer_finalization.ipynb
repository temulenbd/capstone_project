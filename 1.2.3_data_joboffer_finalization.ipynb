{
 "cells": [
  {
   "cell_type": "markdown",
   "metadata": {},
   "source": [
    "# JOB OFFER'S DATA (part 3: merging and cleaning)"
   ]
  },
  {
   "cell_type": "code",
   "execution_count": 1,
   "metadata": {},
   "outputs": [],
   "source": [
    "# Load nessesary libraries.\n",
    "import pandas as pd\n",
    "import re\n",
    "from random import randint\n",
    "from datetime import datetime, timedelta"
   ]
  },
  {
   "cell_type": "code",
   "execution_count": 2,
   "metadata": {},
   "outputs": [],
   "source": [
    "# Define global variables.\n",
    "label_value = ['registered_nurse', 'electrician', 'data_analyst']\n",
    "csv_file_name = ['data_jobads_rn.csv', 'data_jobads_e.csv', 'data_jobads_da.csv']\n",
    "data_frame = ['df1', 'df2', 'df3']\n",
    "to_remove = ['salary', 'schedule', 'benefits', 'location', 'job type', 'office']\n",
    "date_of_download = \"January 10, 2024\"\n",
    "before_30_days = 'before December 11, 2023'"
   ]
  },
  {
   "cell_type": "code",
   "execution_count": 3,
   "metadata": {},
   "outputs": [],
   "source": [
    "# Define a custom function to import a CSV file, add a label column, and return the DataFrame.\n",
    "def import_and_label(csv, data_f, value):\n",
    "    \n",
    "    # Read the CSV file into a DataFrame.\n",
    "    data_f = pd.read_csv(csv, index_col=None)\n",
    "    \n",
    "    # Add a new column 'label' with the specified value.\n",
    "    data_f['label'] = value\n",
    "    \n",
    "    # eturn the modified DataFrame\n",
    "    return data_f"
   ]
  },
  {
   "cell_type": "code",
   "execution_count": 4,
   "metadata": {},
   "outputs": [
    {
     "name": "stdout",
     "output_type": "stream",
     "text": [
      "(1034, 6)\n"
     ]
    },
    {
     "data": {
      "text/html": [
       "<div>\n",
       "<style scoped>\n",
       "    .dataframe tbody tr th:only-of-type {\n",
       "        vertical-align: middle;\n",
       "    }\n",
       "\n",
       "    .dataframe tbody tr th {\n",
       "        vertical-align: top;\n",
       "    }\n",
       "\n",
       "    .dataframe thead th {\n",
       "        text-align: right;\n",
       "    }\n",
       "</style>\n",
       "<table border=\"1\" class=\"dataframe\">\n",
       "  <thead>\n",
       "    <tr style=\"text-align: right;\">\n",
       "      <th></th>\n",
       "      <th>title</th>\n",
       "      <th>id</th>\n",
       "      <th>link</th>\n",
       "      <th>date</th>\n",
       "      <th>job_description</th>\n",
       "      <th>label</th>\n",
       "    </tr>\n",
       "  </thead>\n",
       "  <tbody>\n",
       "    <tr>\n",
       "      <th>0</th>\n",
       "      <td>assistant director of nursing</td>\n",
       "      <td>sj_3c7e64c7996bb9d6</td>\n",
       "      <td>https://ie.indeed.com/pagead/clk?mo=r&amp;ad=-6NYl...</td>\n",
       "      <td>Just posted</td>\n",
       "      <td>Silver Stream Healthcare Group offer great emp...</td>\n",
       "      <td>registered_nurse</td>\n",
       "    </tr>\n",
       "    <tr>\n",
       "      <th>1</th>\n",
       "      <td>clinical nurse manager (cnm)</td>\n",
       "      <td>sj_358f1f68cde928c4</td>\n",
       "      <td>https://ie.indeed.com/pagead/clk?mo=r&amp;ad=-6NYl...</td>\n",
       "      <td>Hiring ongoing</td>\n",
       "      <td>Create A Better Future For Yourself !!\\nRecrui...</td>\n",
       "      <td>registered_nurse</td>\n",
       "    </tr>\n",
       "  </tbody>\n",
       "</table>\n",
       "</div>"
      ],
      "text/plain": [
       "                           title                   id  \\\n",
       "0  assistant director of nursing  sj_3c7e64c7996bb9d6   \n",
       "1   clinical nurse manager (cnm)  sj_358f1f68cde928c4   \n",
       "\n",
       "                                                link            date  \\\n",
       "0  https://ie.indeed.com/pagead/clk?mo=r&ad=-6NYl...     Just posted   \n",
       "1  https://ie.indeed.com/pagead/clk?mo=r&ad=-6NYl...  Hiring ongoing   \n",
       "\n",
       "                                     job_description             label  \n",
       "0  Silver Stream Healthcare Group offer great emp...  registered_nurse  \n",
       "1  Create A Better Future For Yourself !!\\nRecrui...  registered_nurse  "
      ]
     },
     "execution_count": 4,
     "metadata": {},
     "output_type": "execute_result"
    }
   ],
   "source": [
    "# Call the import_and_label function for the each CSV file.\n",
    "df1 = import_and_label(csv_file_name[0], data_frame[0], label_value[0])\n",
    "df2 = import_and_label(csv_file_name[1], data_frame[1], label_value[1])\n",
    "df3 = import_and_label(csv_file_name[2], data_frame[2], label_value[2])\n",
    "\n",
    "# Concatenate the three DataFrames along the rows (axis=0) and reset the index.\n",
    "df = pd.concat([df1, df2, df3], ignore_index=True)\n",
    "\n",
    "# Check the DataFrame.\n",
    "print(df.shape)\n",
    "df.head(2)"
   ]
  },
  {
   "cell_type": "markdown",
   "metadata": {},
   "source": [
    "**'date' column**"
   ]
  },
  {
   "cell_type": "code",
   "execution_count": 5,
   "metadata": {},
   "outputs": [],
   "source": [
    "# Define a custom function to replace 'Just posted' or 'Today' with 'January 10, 2024'.\n",
    "def replace_just_posted_today(date):\n",
    "    global date_of_download\n",
    "    return date_of_download if 'Just posted' in str(date) or 'Today' in str(date) else date\n",
    "\n",
    "# Define a custom function extract and replace with relevant information.\n",
    "def remove_elements_with_colon(date):\n",
    "    date = replace_just_posted_today(date)\n",
    "    \n",
    "    if date and ('day' in str(date) or 'days' in str(date)):\n",
    "        days_ago = int(re.search(r'(\\d+) (?:day|days) ago', str(date)).group(1))\n",
    "        new_date = datetime.strptime('January 10, 2024', '%B %d, %Y') - timedelta(days=days_ago)\n",
    "        return new_date.strftime('%B %d, %Y')\n",
    "    else:\n",
    "        return date"
   ]
  },
  {
   "cell_type": "code",
   "execution_count": 6,
   "metadata": {},
   "outputs": [
    {
     "name": "stdout",
     "output_type": "stream",
     "text": [
      "before December 11, 2023    511\n",
      "unknown                      84\n",
      "January 08, 2024             71\n",
      "December 20, 2023            46\n",
      "January 05, 2024             45\n",
      "December 22, 2023            37\n",
      "January 10, 2024             30\n",
      "January 03, 2024             30\n",
      "January 09, 2024             28\n",
      "January 04, 2024             25\n",
      "January 06, 2024             18\n",
      "December 13, 2023            14\n",
      "December 19, 2023            12\n",
      "December 14, 2023            11\n",
      "December 12, 2023            10\n",
      "December 21, 2023            10\n",
      "December 23, 2023             8\n",
      "December 16, 2023             7\n",
      "December 30, 2023             6\n",
      "January 02, 2024              6\n",
      "December 15, 2023             5\n",
      "January 07, 2024              5\n",
      "December 29, 2023             3\n",
      "December 18, 2023             2\n",
      "January 01, 2024              2\n",
      "December 28, 2023             2\n",
      "December 26, 2023             2\n",
      "December 31, 2023             1\n",
      "December 11, 2023             1\n",
      "December 24, 2023             1\n",
      "December 27, 2023             1\n",
      "Name: date, dtype: int64\n"
     ]
    }
   ],
   "source": [
    "# Apply changes.\n",
    "df['date'] = df['date'].apply(replace_just_posted_today)\n",
    "df['date'] = df['date'].replace(['not available', 'Hiring ongoing', None], 'unknown')\n",
    "df['date'] = df['date'].replace(['Posted 30+ days ago'], before_30_days)\n",
    "df['date'] = df['date'].apply(remove_elements_with_colon)\n",
    "\n",
    "# Assuming df is your DataFrame and 'date' is the column\n",
    "date_counts = df['date'].value_counts()\n",
    "\n",
    "# Print the counts for each unique value in the 'date' column\n",
    "print(date_counts)"
   ]
  },
  {
   "cell_type": "markdown",
   "metadata": {},
   "source": [
    "**'job_description' column**"
   ]
  },
  {
   "cell_type": "code",
   "execution_count": 7,
   "metadata": {},
   "outputs": [],
   "source": [
    "# Define the costum function to find and remove unnecessary or private information.\n",
    "def remove_elements_with_colon(column_value, remove_value):\n",
    "        \n",
    "    # Convert the value to lowercase.\n",
    "    column_value = column_value.lower()\n",
    "    \n",
    "    # Split each value of the column into a list using '\\n' as a separator.\n",
    "    elements = column_value.split('\\n')\n",
    "    \n",
    "    # Find the index of the element containing given value.\n",
    "    index_of_element = next((i for i, elements in enumerate(elements) if remove_value in elements and ':' in elements), None)\n",
    "    \n",
    "    # Check if the first conditions are present in the text.\n",
    "    if index_of_element is not None:\n",
    "        next_colon_index = next((j for j in range(index_of_element + 1, len(elements)) if ':' in elements[j]), None)\n",
    "        \n",
    "        # Add an extra condition to check the second conditions are present in the text.\n",
    "        if next_colon_index is not None:\n",
    "            del elements[index_of_element:next_colon_index]\n",
    "            return '\\n'.join(elements)\n",
    "        else:\n",
    "            return column_value\n",
    "        \n",
    "    else:\n",
    "        return column_value"
   ]
  },
  {
   "cell_type": "code",
   "execution_count": 8,
   "metadata": {},
   "outputs": [
    {
     "name": "stdout",
     "output_type": "stream",
     "text": [
      "clarity are currently recruiting for a staff nurse - theatre, pacu & anaesthetics for a prestigious hospital in south dublin\n",
      "\n",
      "the ideal candidate must be/have:\n",
      "be active on the live nmbi register -\n",
      "decision letters will not be accepted\n",
      "bls & acls certifications\n",
      "minimum of 1 year post registration acute experience - preferably in anaesthetics\n",
      "management course completion desirable\n",
      "the ability to demonstrate evidence of recent and relevant experience in the specialised area and in an acute hospital setting\n",
      "have a high level of flexibility as required by the hospital\n",
      "for further information or to make an application, contact laura at: laura.mulchrone@clarityrecruitment.ie\n",
      "is this role not for you? feel free to reach out today to discuss other nurse vacancies available.\n",
      "---------\n",
      "assistant director of nursing (permanent) dublin city north\n",
      "may suit cnm3 looing to progress their career.\n",
      "general nursing\n",
      "purpose of the role\n",
      "the post holder is primarily responsible for the provision of a high quality and safe nursing service across the hospital. this will involve professional leadership to nursing staff at all levels, providing professional advice, contributing to the development and implementation of nursing policy and strategy, ensuring achievement of its objectives and proactively developing nursing roles in accordance with the needs of the patients. he/she will operationalise the core values of nursing by ensuring the patient experience in wards/departments/units is of the highest possible standard at all times with particular emphasis on dignity, kindness and compassion.\n",
      "the philosophy guiding the position is to promote and preserve the mission, values and ethos in the management responsibility of the hospital in your role as assistant director of nursing.\n",
      "key duties and responsibilities\n",
      "the post holder will be responsible for the provision of the highest standard of nursing care to patients, working closely with the director of nursing, hospital ceo, and assistant director of nursing colleagues and hospital management team.\n",
      "criteria:\n",
      "qualifications: registered general nurse with the nursing & midwifery board of ireland (nmbi), or eligible to register with nmbi\n",
      "experience; 7 years post-registration experience in an acute hospital setting within the last 9 years\n",
      "minimum of 4 years management experience at cnm ii level within the last 7 years\n",
      "completed a management programme or commitment to undertake a relevant management qualification following appointment\n",
      "competencies; behavioral competencies, leadership , management , quality service , problem solving & decision making , change & innovation\n",
      "organisational knowledge , technical/clinical competencies , basic it skills , personal & professional development , knowledge of quality, patient safety & risk\n",
      "desirable: msc in nursing/management/ leadership\n",
      "other factors which are essential to the role:\n",
      "commitment to the overall aims of the hospital, vision and values\n",
      "a flexible, positive attitude to performing a wide range of duties to meet the needs of the service\n",
      "ability to commute:\n",
      "dublin, co. dublin (required)\n",
      "ability to relocate:\n",
      "dublin, co. dublin: relocate before starting work (required)\n",
      "work location: in person\n"
     ]
    }
   ],
   "source": [
    "# Apply the function to the column.\n",
    "for val_rem in to_remove:\n",
    "    df['job_description'] = df['job_description'].apply(lambda x: remove_elements_with_colon(x, val_rem))\n",
    "\n",
    "# Print the modified DataFrame.\n",
    "print(df.iat[randint(0, 1034), 4])\n",
    "print('---------')\n",
    "print(df.iat[randint(0, 1034), 4])"
   ]
  }
 ],
 "metadata": {
  "kernelspec": {
   "display_name": "base",
   "language": "python",
   "name": "python3"
  },
  "language_info": {
   "codemirror_mode": {
    "name": "ipython",
    "version": 3
   },
   "file_extension": ".py",
   "mimetype": "text/x-python",
   "name": "python",
   "nbconvert_exporter": "python",
   "pygments_lexer": "ipython3",
   "version": "3.11.4"
  }
 },
 "nbformat": 4,
 "nbformat_minor": 2
}
