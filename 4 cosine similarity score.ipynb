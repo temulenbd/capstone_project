{
 "cells": [
  {
   "cell_type": "markdown",
   "metadata": {},
   "source": [
    "# PART IV: CALCULATION OF COSINE SIMILARITY"
   ]
  },
  {
   "cell_type": "markdown",
   "metadata": {},
   "source": [
    "### 1. Setting up"
   ]
  },
  {
   "cell_type": "code",
   "execution_count": 1,
   "metadata": {},
   "outputs": [],
   "source": [
    "# Load nessesary libraries.\n",
    "from transformers import pipeline, BertForSequenceClassification, AutoTokenizer\n",
    "import pandas as pd\n",
    "import torch\n",
    "import torch.nn.functional as F\n",
    "import time\n",
    "import warnings\n",
    "warnings.filterwarnings('ignore')"
   ]
  },
  {
   "cell_type": "code",
   "execution_count": 2,
   "metadata": {},
   "outputs": [
    {
     "name": "stdout",
     "output_type": "stream",
     "text": [
      "CUDA was successfully installed and compiled on my device.\n",
      "CUDA device name is: NVIDIA GeForce GTX 1650\n"
     ]
    }
   ],
   "source": [
    "# Check whether CUDA is accessible.\n",
    "cuda_available = torch.cuda.is_available()\n",
    "cuda_device= torch.cuda.get_device_name(0)\n",
    "\n",
    "if cuda_available == True:\n",
    "    device = torch.device('cuda')\n",
    "    print('CUDA was successfully installed and compiled on my device.')\n",
    "    print('CUDA device name is:', cuda_device)\n",
    "else:\n",
    "    print('Cuda in not available')"
   ]
  },
  {
   "cell_type": "markdown",
   "metadata": {},
   "source": [
    "### 2. Testing model and its embedding."
   ]
  },
  {
   "cell_type": "code",
   "execution_count": 3,
   "metadata": {},
   "outputs": [],
   "source": [
    "# Initialize a text classification pipeline.\n",
    "classifier = pipeline('text-classification', model='ft_bert_temuulen2', tokenizer='ft_bert_temuulen_tokenizer2')"
   ]
  },
  {
   "cell_type": "code",
   "execution_count": 4,
   "metadata": {},
   "outputs": [
    {
     "name": "stdout",
     "output_type": "stream",
     "text": [
      "[{'label': 'registered_nurse', 'score': 0.937727689743042}] = I promote health and help people who is sick\n",
      "[{'label': 'electrician', 'score': 0.9387080669403076}] = If your outlet isn't working and you don't have a light, you can ask me to fix it.\n",
      "[{'label': 'electrician', 'score': 0.5676064491271973}] = All day, I'm sitting in front of the screen, solving problems with my mouse and keyboard\n",
      "[{'label': 'registered_nurse', 'score': 0.966539204120636}] = I am familiar with the process of providing injections to individuals.\n",
      "[{'label': 'electrician', 'score': 0.954904317855835}] = If the streetlights fail, I can replace them with new ones.\n",
      "[{'label': 'data_analyst', 'score': 0.8386629819869995}] = I am familiar with both Python and R, and I use these tools for my work.\n"
     ]
    }
   ],
   "source": [
    "# Testing model with random text samples.\n",
    "random_text = [\"I promote health and help people who is sick\", \n",
    "               \"If your outlet isn't working and you don't have a light, you can ask me to fix it.\", \n",
    "               \"All day, I'm sitting in front of the screen, solving problems with my mouse and keyboard\", \n",
    "               \"I am familiar with the process of providing injections to individuals.\",\n",
    "               \"If the streetlights fail, I can replace them with new ones.\",\n",
    "               \"I am familiar with both Python and R, and I use these tools for my work.\"]\n",
    "\n",
    "for x in range(len(random_text)):\n",
    "    print(classifier(random_text[x]), '=', random_text[x])"
   ]
  },
  {
   "cell_type": "code",
   "execution_count": 5,
   "metadata": {},
   "outputs": [
    {
     "name": "stdout",
     "output_type": "stream",
     "text": [
      "[{'label': 'registered_nurse', 'score': 0.9979069232940674}] = bachelor's degree: critical care nursing. patient care, wound care, medical procedures, adult nursing, infection control, diagnostic, time management, communication skills, attention to detail. registered nurse: 3 years.\n",
      "[{'label': 'electrician', 'score': 0.9958240985870361}] = high school diploma, vocational electrician certification, construction safety certification. circuit testing, blueprint reading, fault finding, electrical wiring, troubleshooting, equipment inspection, installation, organization, maintenance, diagnostic, independent worker, safety knowledge. residential electrician's helper: 1 year.\n",
      "[{'label': 'data_analyst', 'score': 0.996567964553833}] = degree: master of science in data analytics, bachelor of science in business administration; certifications: microsoft certified - azure data scientist associate, google data analytics certificate. python, data mining and extraction, data analytics and visualization, etl pipeline, data reporting, database management systems, sql and nosql, machine learning, a/b testing, data governance. entry level data analyst: 1 year; data coordinator: 2 years.\n"
     ]
    }
   ],
   "source": [
    "# Testing model using data from experiment participants.\n",
    "df_jobseeker = pd.read_csv('data_jobseeker.csv', index_col=None)\n",
    "df_jobseeker['professional_qualifications'] = df_jobseeker.education + \". \" + df_jobseeker.skill + \". \" + df_jobseeker.experience + '.'\n",
    "df_jobseeker.drop(['education', 'skill', 'experience'], axis=1, inplace=True)\n",
    "\n",
    "for x in range(3):\n",
    "    print(classifier(df_jobseeker.iat[x, -1]), '=', df_jobseeker.iat[x, -1])"
   ]
  },
  {
   "cell_type": "code",
   "execution_count": 6,
   "metadata": {},
   "outputs": [],
   "source": [
    "# Load a tokenizer used for the fine-tuned model.\n",
    "tokenizer = AutoTokenizer.from_pretrained('ft_bert_temuulen_tokenizer2')\n",
    "\n",
    "# Load a fine-tuned model with the hidden state output enabled.\n",
    "model = BertForSequenceClassification.from_pretrained('ft_bert_temuulen2', output_hidden_states=True)"
   ]
  },
  {
   "cell_type": "code",
   "execution_count": 7,
   "metadata": {},
   "outputs": [
    {
     "name": "stdout",
     "output_type": "stream",
     "text": [
      "torch.Size([1, 44, 768]) \n",
      "\n",
      "tensor([[[ 1.0482, -0.5065,  0.3688,  ..., -0.7035, -1.5218, -0.0639],\n",
      "         [ 1.1028, -0.3971,  0.3137,  ..., -0.4876, -0.9391, -0.4248],\n",
      "         [ 1.3280,  0.2820,  0.2279,  ..., -0.5051, -1.3504,  0.0178],\n",
      "         ...,\n",
      "         [ 0.6896,  0.7037,  0.8631,  ..., -0.7715, -1.0878, -0.6608],\n",
      "         [ 0.2062, -0.3984,  0.5171,  ...,  0.1593, -1.0404, -0.6125],\n",
      "         [ 1.2090,  0.1183,  0.2903,  ..., -0.3679, -1.5123, -0.0687]]])\n"
     ]
    }
   ],
   "source": [
    "# Assign to a new variable text for testing.\n",
    "input_text = df_jobseeker.iat[0, -1]\n",
    "\n",
    "# Tokenize the input text and convert it to PyTorch tensors.\n",
    "inputs = tokenizer(input_text, return_tensors='pt')\n",
    "\n",
    "# Perform a forward pass through the model to get the hidden states.\n",
    "with torch.no_grad():\n",
    "    outputs = model(**inputs)\n",
    "\n",
    "# Extract the last hidden states from the model outputs.\n",
    "last_hidden_states = outputs.hidden_states[-1]\n",
    "\n",
    "print(last_hidden_states.shape, '\\n')\n",
    "print(last_hidden_states)"
   ]
  },
  {
   "cell_type": "markdown",
   "metadata": {},
   "source": [
    "### 3. Ebedding"
   ]
  },
  {
   "cell_type": "markdown",
   "metadata": {},
   "source": [
    "**job seeker**"
   ]
  },
  {
   "cell_type": "code",
   "execution_count": 8,
   "metadata": {},
   "outputs": [],
   "source": [
    "# Define a custom function to get embedding for job seekers' data.\n",
    "def process_text(text):\n",
    "    \n",
    "    inputs = tokenizer(text, return_tensors='pt')\n",
    "    \n",
    "    with torch.no_grad():\n",
    "        outputs = model(**inputs)\n",
    "    last_hidden_states = outputs.hidden_states[-1]\n",
    "    \n",
    "    return last_hidden_states"
   ]
  },
  {
   "cell_type": "code",
   "execution_count": 9,
   "metadata": {},
   "outputs": [
    {
     "name": "stdout",
     "output_type": "stream",
     "text": [
      "torch.Size([1, 44, 768]) \n",
      "\n",
      "tensor([[[ 1.0482, -0.5065,  0.3688,  ..., -0.7035, -1.5218, -0.0639],\n",
      "         [ 1.1028, -0.3971,  0.3137,  ..., -0.4876, -0.9391, -0.4248],\n",
      "         [ 1.3280,  0.2820,  0.2279,  ..., -0.5051, -1.3504,  0.0178],\n",
      "         ...,\n",
      "         [ 0.6896,  0.7037,  0.8631,  ..., -0.7715, -1.0878, -0.6608],\n",
      "         [ 0.2062, -0.3984,  0.5171,  ...,  0.1593, -1.0404, -0.6125],\n",
      "         [ 1.2090,  0.1183,  0.2903,  ..., -0.3679, -1.5123, -0.0687]]])\n"
     ]
    }
   ],
   "source": [
    "# Apply function and create a new column with the extracted results.\n",
    "df_jobseeker['last_layer'] = df_jobseeker.iloc[:, -1].apply(process_text)\n",
    "\n",
    "print(df_jobseeker.iat[0, -1].shape, '\\n')\n",
    "print(df_jobseeker.iat[0, -1])"
   ]
  },
  {
   "cell_type": "code",
   "execution_count": 10,
   "metadata": {},
   "outputs": [
    {
     "data": {
      "text/html": [
       "<div>\n",
       "<style scoped>\n",
       "    .dataframe tbody tr th:only-of-type {\n",
       "        vertical-align: middle;\n",
       "    }\n",
       "\n",
       "    .dataframe tbody tr th {\n",
       "        vertical-align: top;\n",
       "    }\n",
       "\n",
       "    .dataframe thead th {\n",
       "        text-align: right;\n",
       "    }\n",
       "</style>\n",
       "<table border=\"1\" class=\"dataframe\">\n",
       "  <thead>\n",
       "    <tr style=\"text-align: right;\">\n",
       "      <th></th>\n",
       "      <th>participant</th>\n",
       "      <th>data_collection</th>\n",
       "      <th>date</th>\n",
       "      <th>location</th>\n",
       "      <th>preferred_position</th>\n",
       "      <th>professional_qualifications</th>\n",
       "      <th>last_layer</th>\n",
       "    </tr>\n",
       "  </thead>\n",
       "  <tbody>\n",
       "    <tr>\n",
       "      <th>0</th>\n",
       "      <td>user_1</td>\n",
       "      <td>voice call</td>\n",
       "      <td>2023-12-17 15:30:00</td>\n",
       "      <td>dublin, ireland</td>\n",
       "      <td>registered nurse</td>\n",
       "      <td>bachelor's degree: critical care nursing. pati...</td>\n",
       "      <td>[[[tensor(1.0482), tensor(-0.5065), tensor(0.3...</td>\n",
       "    </tr>\n",
       "    <tr>\n",
       "      <th>1</th>\n",
       "      <td>user_2</td>\n",
       "      <td>voice call</td>\n",
       "      <td>2023-12-27 11:50:00</td>\n",
       "      <td>dublin, ireland</td>\n",
       "      <td>electrician</td>\n",
       "      <td>high school diploma, vocational electrician ce...</td>\n",
       "      <td>[[[tensor(-0.9116), tensor(0.3615), tensor(0.1...</td>\n",
       "    </tr>\n",
       "    <tr>\n",
       "      <th>2</th>\n",
       "      <td>user_3</td>\n",
       "      <td>google form</td>\n",
       "      <td>2023-12-31 13:39:00</td>\n",
       "      <td>dublin, ireland</td>\n",
       "      <td>data analyst</td>\n",
       "      <td>degree: master of science in data analytics, b...</td>\n",
       "      <td>[[[tensor(-0.8659), tensor(-0.2938), tensor(0....</td>\n",
       "    </tr>\n",
       "  </tbody>\n",
       "</table>\n",
       "</div>"
      ],
      "text/plain": [
       "  participant data_collection                 date         location  \\\n",
       "0      user_1      voice call  2023-12-17 15:30:00  dublin, ireland   \n",
       "1      user_2      voice call  2023-12-27 11:50:00  dublin, ireland   \n",
       "2      user_3     google form  2023-12-31 13:39:00  dublin, ireland   \n",
       "\n",
       "  preferred_position                        professional_qualifications  \\\n",
       "0   registered nurse  bachelor's degree: critical care nursing. pati...   \n",
       "1        electrician  high school diploma, vocational electrician ce...   \n",
       "2       data analyst  degree: master of science in data analytics, b...   \n",
       "\n",
       "                                          last_layer  \n",
       "0  [[[tensor(1.0482), tensor(-0.5065), tensor(0.3...  \n",
       "1  [[[tensor(-0.9116), tensor(0.3615), tensor(0.1...  \n",
       "2  [[[tensor(-0.8659), tensor(-0.2938), tensor(0....  "
      ]
     },
     "execution_count": 10,
     "metadata": {},
     "output_type": "execute_result"
    }
   ],
   "source": [
    "# Check the results.\n",
    "df_jobseeker"
   ]
  },
  {
   "cell_type": "markdown",
   "metadata": {},
   "source": [
    "**job ad**"
   ]
  },
  {
   "cell_type": "code",
   "execution_count": 50,
   "metadata": {},
   "outputs": [
    {
     "data": {
      "text/html": [
       "<div>\n",
       "<style scoped>\n",
       "    .dataframe tbody tr th:only-of-type {\n",
       "        vertical-align: middle;\n",
       "    }\n",
       "\n",
       "    .dataframe tbody tr th {\n",
       "        vertical-align: top;\n",
       "    }\n",
       "\n",
       "    .dataframe thead th {\n",
       "        text-align: right;\n",
       "    }\n",
       "</style>\n",
       "<table border=\"1\" class=\"dataframe\">\n",
       "  <thead>\n",
       "    <tr style=\"text-align: right;\">\n",
       "      <th></th>\n",
       "      <th>title</th>\n",
       "      <th>id</th>\n",
       "      <th>link</th>\n",
       "      <th>date</th>\n",
       "      <th>job_description</th>\n",
       "      <th>label</th>\n",
       "    </tr>\n",
       "  </thead>\n",
       "  <tbody>\n",
       "    <tr>\n",
       "      <th>0</th>\n",
       "      <td>assistant director of nursing</td>\n",
       "      <td>sj_3c7e64c7996bb9d6</td>\n",
       "      <td>https://ie.indeed.com/pagead/clk?mo=r&amp;ad=-6NYl...</td>\n",
       "      <td>January 10, 2024</td>\n",
       "      <td>silver stream healthcare group offer great emp...</td>\n",
       "      <td>registered_nurse</td>\n",
       "    </tr>\n",
       "    <tr>\n",
       "      <th>1</th>\n",
       "      <td>clinical nurse manager (cnm)</td>\n",
       "      <td>sj_358f1f68cde928c4</td>\n",
       "      <td>https://ie.indeed.com/pagead/clk?mo=r&amp;ad=-6NYl...</td>\n",
       "      <td>unknown</td>\n",
       "      <td>create a better future for yourself  recruitne...</td>\n",
       "      <td>registered_nurse</td>\n",
       "    </tr>\n",
       "  </tbody>\n",
       "</table>\n",
       "</div>"
      ],
      "text/plain": [
       "                           title                   id  \\\n",
       "0  assistant director of nursing  sj_3c7e64c7996bb9d6   \n",
       "1   clinical nurse manager (cnm)  sj_358f1f68cde928c4   \n",
       "\n",
       "                                                link              date  \\\n",
       "0  https://ie.indeed.com/pagead/clk?mo=r&ad=-6NYl...  January 10, 2024   \n",
       "1  https://ie.indeed.com/pagead/clk?mo=r&ad=-6NYl...           unknown   \n",
       "\n",
       "                                     job_description             label  \n",
       "0  silver stream healthcare group offer great emp...  registered_nurse  \n",
       "1  create a better future for yourself  recruitne...  registered_nurse  "
      ]
     },
     "execution_count": 50,
     "metadata": {},
     "output_type": "execute_result"
    }
   ],
   "source": [
    "# Read job ads' dataset.\n",
    "df_jobads = pd.read_csv('data_jobads_final.csv', index_col=None)\n",
    "\n",
    "# Apply some data cleaning and preprocessing steps.\n",
    "df_jobads['job_description'] = df_jobads['job_description'].str.replace('\\n', ' ')\n",
    "df_jobads = df_jobads.dropna()\n",
    "df_jobads = df_jobads.reset_index(drop=True)\n",
    "\n",
    "df_jobads.head(2)"
   ]
  },
  {
   "cell_type": "code",
   "execution_count": 51,
   "metadata": {},
   "outputs": [],
   "source": [
    "df_jobads = df_jobads[:2]"
   ]
  },
  {
   "cell_type": "code",
   "execution_count": 37,
   "metadata": {},
   "outputs": [
    {
     "name": "stdout",
     "output_type": "stream",
     "text": [
      "The total number of rows with a word count over 510 is: 0\n"
     ]
    },
    {
     "ename": "IndexError",
     "evalue": "index 303 is out of bounds for axis 0 with size 2",
     "output_type": "error",
     "traceback": [
      "\u001b[1;31m---------------------------------------------------------------------------\u001b[0m",
      "\u001b[1;31mIndexError\u001b[0m                                Traceback (most recent call last)",
      "Cell \u001b[1;32mIn[37], line 5\u001b[0m\n\u001b[0;32m      2\u001b[0m df_jobads[\u001b[38;5;124m'\u001b[39m\u001b[38;5;124mword_count\u001b[39m\u001b[38;5;124m'\u001b[39m] \u001b[38;5;241m=\u001b[39m df_jobads[\u001b[38;5;124m'\u001b[39m\u001b[38;5;124mjob_description\u001b[39m\u001b[38;5;124m'\u001b[39m]\u001b[38;5;241m.\u001b[39mapply(\u001b[38;5;28;01mlambda\u001b[39;00m x: \u001b[38;5;28mlen\u001b[39m(x\u001b[38;5;241m.\u001b[39msplit()))\n\u001b[0;32m      4\u001b[0m \u001b[38;5;28mprint\u001b[39m(\u001b[38;5;124m'\u001b[39m\u001b[38;5;124mThe total number of rows with a word count over 510 is:\u001b[39m\u001b[38;5;124m'\u001b[39m, df_jobads[df_jobads[\u001b[38;5;124m'\u001b[39m\u001b[38;5;124mword_count\u001b[39m\u001b[38;5;124m'\u001b[39m] \u001b[38;5;241m>\u001b[39m \u001b[38;5;241m510\u001b[39m]\u001b[38;5;241m.\u001b[39mshape[\u001b[38;5;241m0\u001b[39m])\n\u001b[1;32m----> 5\u001b[0m \u001b[38;5;28mprint\u001b[39m(\u001b[38;5;124m'\u001b[39m\u001b[38;5;124mThe word count for the longest text is:\u001b[39m\u001b[38;5;124m'\u001b[39m, df_jobads\u001b[38;5;241m.\u001b[39miat[\u001b[38;5;241m303\u001b[39m, \u001b[38;5;241m-\u001b[39m\u001b[38;5;241m1\u001b[39m])\n\u001b[0;32m      7\u001b[0m df_jobads\u001b[38;5;241m.\u001b[39mhead(\u001b[38;5;241m2\u001b[39m)\n",
      "File \u001b[1;32mc:\\Users\\temulenbd\\anaconda3\\Lib\\site-packages\\pandas\\core\\indexing.py:2382\u001b[0m, in \u001b[0;36m_ScalarAccessIndexer.__getitem__\u001b[1;34m(self, key)\u001b[0m\n\u001b[0;32m   2379\u001b[0m         \u001b[38;5;28;01mraise\u001b[39;00m \u001b[38;5;167;01mValueError\u001b[39;00m(\u001b[38;5;124m\"\u001b[39m\u001b[38;5;124mInvalid call for scalar access (getting)!\u001b[39m\u001b[38;5;124m\"\u001b[39m)\n\u001b[0;32m   2381\u001b[0m key \u001b[38;5;241m=\u001b[39m \u001b[38;5;28mself\u001b[39m\u001b[38;5;241m.\u001b[39m_convert_key(key)\n\u001b[1;32m-> 2382\u001b[0m \u001b[38;5;28;01mreturn\u001b[39;00m \u001b[38;5;28mself\u001b[39m\u001b[38;5;241m.\u001b[39mobj\u001b[38;5;241m.\u001b[39m_get_value(\u001b[38;5;241m*\u001b[39mkey, takeable\u001b[38;5;241m=\u001b[39m\u001b[38;5;28mself\u001b[39m\u001b[38;5;241m.\u001b[39m_takeable)\n",
      "File \u001b[1;32mc:\\Users\\temulenbd\\anaconda3\\Lib\\site-packages\\pandas\\core\\frame.py:3915\u001b[0m, in \u001b[0;36mDataFrame._get_value\u001b[1;34m(self, index, col, takeable)\u001b[0m\n\u001b[0;32m   3913\u001b[0m \u001b[38;5;28;01mif\u001b[39;00m takeable:\n\u001b[0;32m   3914\u001b[0m     series \u001b[38;5;241m=\u001b[39m \u001b[38;5;28mself\u001b[39m\u001b[38;5;241m.\u001b[39m_ixs(col, axis\u001b[38;5;241m=\u001b[39m\u001b[38;5;241m1\u001b[39m)\n\u001b[1;32m-> 3915\u001b[0m     \u001b[38;5;28;01mreturn\u001b[39;00m series\u001b[38;5;241m.\u001b[39m_values[index]\n\u001b[0;32m   3917\u001b[0m series \u001b[38;5;241m=\u001b[39m \u001b[38;5;28mself\u001b[39m\u001b[38;5;241m.\u001b[39m_get_item_cache(col)\n\u001b[0;32m   3918\u001b[0m engine \u001b[38;5;241m=\u001b[39m \u001b[38;5;28mself\u001b[39m\u001b[38;5;241m.\u001b[39mindex\u001b[38;5;241m.\u001b[39m_engine\n",
      "\u001b[1;31mIndexError\u001b[0m: index 303 is out of bounds for axis 0 with size 2"
     ]
    }
   ],
   "source": [
    "# Calculate the word count for each ad and add its values to a new column.\n",
    "df_jobads['word_count'] = df_jobads['job_description'].apply(lambda x: len(x.split()))\n",
    "\n",
    "print('The total number of rows with a word count over 510 is:', df_jobads[df_jobads['word_count'] > 510].shape[0])\n",
    "print('The word count for the longest text is:', df_jobads.iat[303, -1])\n",
    "\n",
    "df_jobads.head(2)"
   ]
  },
  {
   "cell_type": "code",
   "execution_count": 52,
   "metadata": {},
   "outputs": [],
   "source": [
    "# Define a custom function to encode text with BERT, including additional rules for dealing with long text.\n",
    "def embed_with_bert(df_column):\n",
    "    \n",
    "    embedded_texts = []\n",
    "    \n",
    "    # Iterate through each text in the DataFrame column.\n",
    "    for text in df_column:\n",
    "        \n",
    "        # Tokenize each text without adding special tokens and without truncation or padding.\n",
    "        tokens = tokenizer(text, add_special_tokens=False, return_tensors='pt', truncation=False, padding=False)['input_ids'].squeeze()\n",
    "        token_length = len(tokens)\n",
    "        \n",
    "        # If the token length is less than or equal to 512, process it normally.\n",
    "        if token_length <= 512:\n",
    "            inputs = tokenizer(text, return_tensors='pt').to(device)\n",
    "            with torch.no_grad():\n",
    "                outputs = model(**inputs)\n",
    "            last_hidden_states = outputs.hidden_states[-1].cpu()  \n",
    "            embedded_texts.append(last_hidden_states)\n",
    "            \n",
    "        # If the token length is greater than 512, split it into sliding windows withot lapping.\n",
    "        else:\n",
    "            max_length = 512\n",
    "            stride = 0\n",
    "            tokens = tokenizer(text, add_special_tokens=False, return_tensors='pt', truncation=False, padding=False)['input_ids'].squeeze().to(device)\n",
    "            token_windows = [tokens[i:i+max_length] for i in range(0, len(tokens), max_length - stride)]\n",
    "            \n",
    "            all_hidden_states = []\n",
    "            \n",
    "            # Add special tokens (CLS and SEP) and truncate if needed.\n",
    "            for window in token_windows:\n",
    "                window = torch.cat([torch.tensor([tokenizer.cls_token_id], device=device), window, torch.tensor([tokenizer.sep_token_id], device=device)])\n",
    "                if len(window) > max_length:\n",
    "                    window = torch.cat((window[:max_length-1], torch.tensor([tokenizer.sep_token_id], device=device)))\n",
    "                inputs = {'input_ids': window.unsqueeze(0)}\n",
    "                with torch.no_grad():\n",
    "                    outputs = model(**inputs)\n",
    "                hidden_states = outputs.hidden_states[-1].cpu()  \n",
    "                all_hidden_states.append(hidden_states)\n",
    "            \n",
    "            # Concatenate all hidden states from each sliding window.\n",
    "            embedded_texts.append(torch.cat(all_hidden_states, dim=1))\n",
    "            \n",
    "    return embedded_texts"
   ]
  },
  {
   "cell_type": "code",
   "execution_count": 53,
   "metadata": {},
   "outputs": [
    {
     "name": "stdout",
     "output_type": "stream",
     "text": [
      "torch.Size([1, 617, 768]) \n",
      "\n",
      "tensor([[[ 0.8475, -0.3499,  0.1554,  ..., -0.9477, -1.4335, -0.0909],\n",
      "         [ 0.9002, -0.1678,  0.2116,  ..., -0.4531, -0.7653,  0.3844],\n",
      "         [ 0.7950, -0.4283,  0.2220,  ..., -0.8476, -1.0548, -0.3064],\n",
      "         ...,\n",
      "         [ 0.5650, -0.1756,  0.3656,  ..., -0.1276, -0.5553,  0.3612],\n",
      "         [ 0.4369,  0.2499, -0.0900,  ..., -0.2781, -1.2343, -0.3239],\n",
      "         [ 0.9924,  0.7443, -0.1271,  ..., -0.4200, -0.8044, -0.0065]]])\n"
     ]
    }
   ],
   "source": [
    "# Move the model to the GPU.\n",
    "model.to(device)\n",
    "\n",
    "# Apply the 'embed_with_bert' function to each ad.\n",
    "df_jobads['embedded_job_descriptions'] = df_jobads['job_description'].apply(lambda x: embed_with_bert([x])[0])\n",
    "\n",
    "# Check the random cell to see the results.\n",
    "print(df_jobads.iat[0, -1].shape, '\\n')\n",
    "print(df_jobads.iat[0, -1])"
   ]
  },
  {
   "cell_type": "code",
   "execution_count": 41,
   "metadata": {},
   "outputs": [
    {
     "data": {
      "text/html": [
       "<div>\n",
       "<style scoped>\n",
       "    .dataframe tbody tr th:only-of-type {\n",
       "        vertical-align: middle;\n",
       "    }\n",
       "\n",
       "    .dataframe tbody tr th {\n",
       "        vertical-align: top;\n",
       "    }\n",
       "\n",
       "    .dataframe thead th {\n",
       "        text-align: right;\n",
       "    }\n",
       "</style>\n",
       "<table border=\"1\" class=\"dataframe\">\n",
       "  <thead>\n",
       "    <tr style=\"text-align: right;\">\n",
       "      <th></th>\n",
       "      <th>title</th>\n",
       "      <th>id</th>\n",
       "      <th>link</th>\n",
       "      <th>date</th>\n",
       "      <th>job_description</th>\n",
       "      <th>label</th>\n",
       "      <th>word_count</th>\n",
       "      <th>embedded_job_descriptions</th>\n",
       "    </tr>\n",
       "  </thead>\n",
       "  <tbody>\n",
       "    <tr>\n",
       "      <th>0</th>\n",
       "      <td>assistant director of nursing</td>\n",
       "      <td>sj_3c7e64c7996bb9d6</td>\n",
       "      <td>https://ie.indeed.com/pagead/clk?mo=r&amp;ad=-6NYl...</td>\n",
       "      <td>January 10, 2024</td>\n",
       "      <td>silver stream healthcare group offer great emp...</td>\n",
       "      <td>registered_nurse</td>\n",
       "      <td>502</td>\n",
       "      <td>[[[tensor(0.8475), tensor(-0.3499), tensor(0.1...</td>\n",
       "    </tr>\n",
       "    <tr>\n",
       "      <th>1</th>\n",
       "      <td>clinical nurse manager (cnm)</td>\n",
       "      <td>sj_358f1f68cde928c4</td>\n",
       "      <td>https://ie.indeed.com/pagead/clk?mo=r&amp;ad=-6NYl...</td>\n",
       "      <td>unknown</td>\n",
       "      <td>create a better future for yourself  recruitne...</td>\n",
       "      <td>registered_nurse</td>\n",
       "      <td>231</td>\n",
       "      <td>[[[tensor(0.9966), tensor(-0.3614), tensor(0.2...</td>\n",
       "    </tr>\n",
       "  </tbody>\n",
       "</table>\n",
       "</div>"
      ],
      "text/plain": [
       "                           title                   id  \\\n",
       "0  assistant director of nursing  sj_3c7e64c7996bb9d6   \n",
       "1   clinical nurse manager (cnm)  sj_358f1f68cde928c4   \n",
       "\n",
       "                                                link              date  \\\n",
       "0  https://ie.indeed.com/pagead/clk?mo=r&ad=-6NYl...  January 10, 2024   \n",
       "1  https://ie.indeed.com/pagead/clk?mo=r&ad=-6NYl...           unknown   \n",
       "\n",
       "                                     job_description             label  \\\n",
       "0  silver stream healthcare group offer great emp...  registered_nurse   \n",
       "1  create a better future for yourself  recruitne...  registered_nurse   \n",
       "\n",
       "   word_count                          embedded_job_descriptions  \n",
       "0         502  [[[tensor(0.8475), tensor(-0.3499), tensor(0.1...  \n",
       "1         231  [[[tensor(0.9966), tensor(-0.3614), tensor(0.2...  "
      ]
     },
     "execution_count": 41,
     "metadata": {},
     "output_type": "execute_result"
    }
   ],
   "source": [
    "# Check the Data Frame.\n",
    "df_jobads"
   ]
  },
  {
   "cell_type": "code",
   "execution_count": 54,
   "metadata": {},
   "outputs": [],
   "source": [
    "# Costum function that generates the evarage cosine similarity between the user's tensor and a job ad's tensor.\n",
    "def calculate_average_similarity(tensor_user, tensor_ad):\n",
    "    \n",
    "    # Squeeze dimensions if the tensors have a batch dimension.\n",
    "    tensor_user = tensor_user.squeeze(0) if tensor_user.dim() == 3 else tensor_user\n",
    "    tensor_ad = tensor_ad.squeeze(0) if tensor_ad.dim() == 3 else tensor_ad\n",
    "\n",
    "    tensor_ad = tensor_ad.to(tensor_user.device)\n",
    "\n",
    "    # Initialize a similarity matrix with zeros.\n",
    "    similarity_matrix = torch.zeros(tensor_user.size(0), tensor_ad.size(0), device=tensor_user.device)\n",
    "    \n",
    "    # Calculate cosine similarity for each pair of vectors.\n",
    "    for i in range(tensor_user.size(0)):\n",
    "        for j in range(tensor_ad.size(0)):\n",
    "            similarity_matrix[i, j] = F.cosine_similarity(tensor_user[i].unsqueeze(0), tensor_ad[j].unsqueeze(0), dim=1)\n",
    "            \n",
    "    # Calculate the average similarity and convert it to a Python float.\n",
    "    average_similarity = torch.mean(similarity_matrix).item()\n",
    "    \n",
    "    return average_similarity"
   ]
  },
  {
   "cell_type": "code",
   "execution_count": null,
   "metadata": {},
   "outputs": [],
   "source": []
  },
  {
   "cell_type": "code",
   "execution_count": 29,
   "metadata": {},
   "outputs": [],
   "source": [
    "df_jobads = df_jobads[:2]"
   ]
  },
  {
   "cell_type": "code",
   "execution_count": 30,
   "metadata": {},
   "outputs": [
    {
     "data": {
      "text/html": [
       "<div>\n",
       "<style scoped>\n",
       "    .dataframe tbody tr th:only-of-type {\n",
       "        vertical-align: middle;\n",
       "    }\n",
       "\n",
       "    .dataframe tbody tr th {\n",
       "        vertical-align: top;\n",
       "    }\n",
       "\n",
       "    .dataframe thead th {\n",
       "        text-align: right;\n",
       "    }\n",
       "</style>\n",
       "<table border=\"1\" class=\"dataframe\">\n",
       "  <thead>\n",
       "    <tr style=\"text-align: right;\">\n",
       "      <th></th>\n",
       "      <th>title</th>\n",
       "      <th>id</th>\n",
       "      <th>link</th>\n",
       "      <th>date</th>\n",
       "      <th>job_description</th>\n",
       "      <th>label</th>\n",
       "      <th>word_count</th>\n",
       "      <th>embedded_job_descriptions</th>\n",
       "    </tr>\n",
       "  </thead>\n",
       "  <tbody>\n",
       "    <tr>\n",
       "      <th>0</th>\n",
       "      <td>assistant director of nursing</td>\n",
       "      <td>sj_3c7e64c7996bb9d6</td>\n",
       "      <td>https://ie.indeed.com/pagead/clk?mo=r&amp;ad=-6NYl...</td>\n",
       "      <td>January 10, 2024</td>\n",
       "      <td>silver stream healthcare group offer great emp...</td>\n",
       "      <td>registered_nurse</td>\n",
       "      <td>502</td>\n",
       "      <td>[[[tensor(0.8475), tensor(-0.3499), tensor(0.1...</td>\n",
       "    </tr>\n",
       "    <tr>\n",
       "      <th>1</th>\n",
       "      <td>clinical nurse manager (cnm)</td>\n",
       "      <td>sj_358f1f68cde928c4</td>\n",
       "      <td>https://ie.indeed.com/pagead/clk?mo=r&amp;ad=-6NYl...</td>\n",
       "      <td>unknown</td>\n",
       "      <td>create a better future for yourself  recruitne...</td>\n",
       "      <td>registered_nurse</td>\n",
       "      <td>231</td>\n",
       "      <td>[[[tensor(0.9966), tensor(-0.3614), tensor(0.2...</td>\n",
       "    </tr>\n",
       "    <tr>\n",
       "      <th>2</th>\n",
       "      <td>registered nurse</td>\n",
       "      <td>job_4e16e9830b072344</td>\n",
       "      <td>https://ie.indeed.com/rc/clk?jk=4e16e9830b0723...</td>\n",
       "      <td>January 10, 2024</td>\n",
       "      <td>access healthcare, one of irelands leading hea...</td>\n",
       "      <td>registered_nurse</td>\n",
       "      <td>182</td>\n",
       "      <td>[[[tensor(0.9662), tensor(-0.3073), tensor(0.2...</td>\n",
       "    </tr>\n",
       "    <tr>\n",
       "      <th>3</th>\n",
       "      <td>staff nurse</td>\n",
       "      <td>job_25a417a6373967b4</td>\n",
       "      <td>https://ie.indeed.com/rc/clk?jk=25a417a6373967...</td>\n",
       "      <td>January 10, 2024</td>\n",
       "      <td>are you a dedicated and compassionate staff nu...</td>\n",
       "      <td>registered_nurse</td>\n",
       "      <td>199</td>\n",
       "      <td>[[[tensor(0.9799), tensor(-0.3279), tensor(0.3...</td>\n",
       "    </tr>\n",
       "    <tr>\n",
       "      <th>4</th>\n",
       "      <td>clinical research nurse - cardiology (cnm2)</td>\n",
       "      <td>job_303eee71cce63f3d</td>\n",
       "      <td>https://ie.indeed.com/rc/clk?jk=303eee71cce63f...</td>\n",
       "      <td>January 10, 2024</td>\n",
       "      <td>clinical research nurse  cardiology cnm2  we a...</td>\n",
       "      <td>registered_nurse</td>\n",
       "      <td>180</td>\n",
       "      <td>[[[tensor(0.9361), tensor(-0.4320), tensor(0.2...</td>\n",
       "    </tr>\n",
       "    <tr>\n",
       "      <th>5</th>\n",
       "      <td>clinical nurse specialist - chest pain</td>\n",
       "      <td>job_4c3a97c49465fb6b</td>\n",
       "      <td>https://ie.indeed.com/rc/clk?jk=4c3a97c49465fb...</td>\n",
       "      <td>January 10, 2024</td>\n",
       "      <td>job description  clinical nurse specialist  ch...</td>\n",
       "      <td>registered_nurse</td>\n",
       "      <td>1790</td>\n",
       "      <td>[[[tensor(0.9694), tensor(-0.3605), tensor(0.2...</td>\n",
       "    </tr>\n",
       "    <tr>\n",
       "      <th>6</th>\n",
       "      <td>practice nurse</td>\n",
       "      <td>job_5e2a45e7ea7b34db</td>\n",
       "      <td>https://ie.indeed.com/rc/clk?jk=5e2a45e7ea7b34...</td>\n",
       "      <td>January 10, 2024</td>\n",
       "      <td>practice nurse required for friendly, fully co...</td>\n",
       "      <td>registered_nurse</td>\n",
       "      <td>89</td>\n",
       "      <td>[[[tensor(0.8900), tensor(-0.5343), tensor(0.3...</td>\n",
       "    </tr>\n",
       "    <tr>\n",
       "      <th>7</th>\n",
       "      <td>dental nurse</td>\n",
       "      <td>job_fce230e531ab807e</td>\n",
       "      <td>https://ie.indeed.com/rc/clk?jk=fce230e531ab80...</td>\n",
       "      <td>January 10, 2024</td>\n",
       "      <td>access healthcare, one of irelands leading hea...</td>\n",
       "      <td>registered_nurse</td>\n",
       "      <td>180</td>\n",
       "      <td>[[[tensor(1.0629), tensor(-0.1600), tensor(0.1...</td>\n",
       "    </tr>\n",
       "    <tr>\n",
       "      <th>8</th>\n",
       "      <td>practice nurse</td>\n",
       "      <td>job_89dc9972030028a6</td>\n",
       "      <td>https://ie.indeed.com/rc/clk?jk=89dc9972030028...</td>\n",
       "      <td>January 10, 2024</td>\n",
       "      <td>practice nurse required for surgery in glasnev...</td>\n",
       "      <td>registered_nurse</td>\n",
       "      <td>58</td>\n",
       "      <td>[[[tensor(0.9415), tensor(-0.5506), tensor(0.3...</td>\n",
       "    </tr>\n",
       "    <tr>\n",
       "      <th>9</th>\n",
       "      <td>registered psychiatric nurse</td>\n",
       "      <td>job_b3b9dee432265633</td>\n",
       "      <td>https://ie.indeed.com/rc/clk?jk=b3b9dee4322656...</td>\n",
       "      <td>January 10, 2024</td>\n",
       "      <td>access healthcare, one of irelands leading hea...</td>\n",
       "      <td>registered_nurse</td>\n",
       "      <td>183</td>\n",
       "      <td>[[[tensor(0.9435), tensor(-0.3038), tensor(0.2...</td>\n",
       "    </tr>\n",
       "  </tbody>\n",
       "</table>\n",
       "</div>"
      ],
      "text/plain": [
       "                                         title                    id  \\\n",
       "0                assistant director of nursing   sj_3c7e64c7996bb9d6   \n",
       "1                 clinical nurse manager (cnm)   sj_358f1f68cde928c4   \n",
       "2                             registered nurse  job_4e16e9830b072344   \n",
       "3                                  staff nurse  job_25a417a6373967b4   \n",
       "4  clinical research nurse - cardiology (cnm2)  job_303eee71cce63f3d   \n",
       "5       clinical nurse specialist - chest pain  job_4c3a97c49465fb6b   \n",
       "6                               practice nurse  job_5e2a45e7ea7b34db   \n",
       "7                                 dental nurse  job_fce230e531ab807e   \n",
       "8                               practice nurse  job_89dc9972030028a6   \n",
       "9                 registered psychiatric nurse  job_b3b9dee432265633   \n",
       "\n",
       "                                                link              date  \\\n",
       "0  https://ie.indeed.com/pagead/clk?mo=r&ad=-6NYl...  January 10, 2024   \n",
       "1  https://ie.indeed.com/pagead/clk?mo=r&ad=-6NYl...           unknown   \n",
       "2  https://ie.indeed.com/rc/clk?jk=4e16e9830b0723...  January 10, 2024   \n",
       "3  https://ie.indeed.com/rc/clk?jk=25a417a6373967...  January 10, 2024   \n",
       "4  https://ie.indeed.com/rc/clk?jk=303eee71cce63f...  January 10, 2024   \n",
       "5  https://ie.indeed.com/rc/clk?jk=4c3a97c49465fb...  January 10, 2024   \n",
       "6  https://ie.indeed.com/rc/clk?jk=5e2a45e7ea7b34...  January 10, 2024   \n",
       "7  https://ie.indeed.com/rc/clk?jk=fce230e531ab80...  January 10, 2024   \n",
       "8  https://ie.indeed.com/rc/clk?jk=89dc9972030028...  January 10, 2024   \n",
       "9  https://ie.indeed.com/rc/clk?jk=b3b9dee4322656...  January 10, 2024   \n",
       "\n",
       "                                     job_description             label  \\\n",
       "0  silver stream healthcare group offer great emp...  registered_nurse   \n",
       "1  create a better future for yourself  recruitne...  registered_nurse   \n",
       "2  access healthcare, one of irelands leading hea...  registered_nurse   \n",
       "3  are you a dedicated and compassionate staff nu...  registered_nurse   \n",
       "4  clinical research nurse  cardiology cnm2  we a...  registered_nurse   \n",
       "5  job description  clinical nurse specialist  ch...  registered_nurse   \n",
       "6  practice nurse required for friendly, fully co...  registered_nurse   \n",
       "7  access healthcare, one of irelands leading hea...  registered_nurse   \n",
       "8  practice nurse required for surgery in glasnev...  registered_nurse   \n",
       "9  access healthcare, one of irelands leading hea...  registered_nurse   \n",
       "\n",
       "   word_count                          embedded_job_descriptions  \n",
       "0         502  [[[tensor(0.8475), tensor(-0.3499), tensor(0.1...  \n",
       "1         231  [[[tensor(0.9966), tensor(-0.3614), tensor(0.2...  \n",
       "2         182  [[[tensor(0.9662), tensor(-0.3073), tensor(0.2...  \n",
       "3         199  [[[tensor(0.9799), tensor(-0.3279), tensor(0.3...  \n",
       "4         180  [[[tensor(0.9361), tensor(-0.4320), tensor(0.2...  \n",
       "5        1790  [[[tensor(0.9694), tensor(-0.3605), tensor(0.2...  \n",
       "6          89  [[[tensor(0.8900), tensor(-0.5343), tensor(0.3...  \n",
       "7         180  [[[tensor(1.0629), tensor(-0.1600), tensor(0.1...  \n",
       "8          58  [[[tensor(0.9415), tensor(-0.5506), tensor(0.3...  \n",
       "9         183  [[[tensor(0.9435), tensor(-0.3038), tensor(0.2...  "
      ]
     },
     "execution_count": 30,
     "metadata": {},
     "output_type": "execute_result"
    }
   ],
   "source": [
    "df_jobads"
   ]
  },
  {
   "cell_type": "code",
   "execution_count": 55,
   "metadata": {},
   "outputs": [
    {
     "name": "stdout",
     "output_type": "stream",
     "text": [
      "The calculation was completed in: 0 minutes and 10 seconds.\n"
     ]
    }
   ],
   "source": [
    "# Record the start time.\n",
    "start = time.time()\n",
    "\n",
    "# Get the user1's tensor and move it to the GPU.\n",
    "tensor_user = df_jobseeker.iat[0, -1]\n",
    "tensor_user = tensor_user.to(device)\n",
    "\n",
    "# Apply the calculation of average cosine similarity function to each job ad's tensor.\n",
    "df_jobads['cosine_user1'] = df_jobads.iloc[:, -1].apply(lambda x: calculate_average_similarity(tensor_user, x.to(device)))\n",
    "\n",
    "# Record the end time.\n",
    "end = time.time()\n",
    "\n",
    "print(f'The calculation was completed in: {int((end - start)) // 60} minutes and {int((end - start)) % 60} seconds.')"
   ]
  },
  {
   "cell_type": "code",
   "execution_count": 56,
   "metadata": {},
   "outputs": [
    {
     "data": {
      "text/html": [
       "<div>\n",
       "<style scoped>\n",
       "    .dataframe tbody tr th:only-of-type {\n",
       "        vertical-align: middle;\n",
       "    }\n",
       "\n",
       "    .dataframe tbody tr th {\n",
       "        vertical-align: top;\n",
       "    }\n",
       "\n",
       "    .dataframe thead th {\n",
       "        text-align: right;\n",
       "    }\n",
       "</style>\n",
       "<table border=\"1\" class=\"dataframe\">\n",
       "  <thead>\n",
       "    <tr style=\"text-align: right;\">\n",
       "      <th></th>\n",
       "      <th>title</th>\n",
       "      <th>id</th>\n",
       "      <th>link</th>\n",
       "      <th>date</th>\n",
       "      <th>job_description</th>\n",
       "      <th>label</th>\n",
       "      <th>embedded_job_descriptions</th>\n",
       "      <th>cosine_user1</th>\n",
       "    </tr>\n",
       "  </thead>\n",
       "  <tbody>\n",
       "    <tr>\n",
       "      <th>0</th>\n",
       "      <td>assistant director of nursing</td>\n",
       "      <td>sj_3c7e64c7996bb9d6</td>\n",
       "      <td>https://ie.indeed.com/pagead/clk?mo=r&amp;ad=-6NYl...</td>\n",
       "      <td>January 10, 2024</td>\n",
       "      <td>silver stream healthcare group offer great emp...</td>\n",
       "      <td>registered_nurse</td>\n",
       "      <td>[[[tensor(0.8475), tensor(-0.3499), tensor(0.1...</td>\n",
       "      <td>0.668876</td>\n",
       "    </tr>\n",
       "    <tr>\n",
       "      <th>1</th>\n",
       "      <td>clinical nurse manager (cnm)</td>\n",
       "      <td>sj_358f1f68cde928c4</td>\n",
       "      <td>https://ie.indeed.com/pagead/clk?mo=r&amp;ad=-6NYl...</td>\n",
       "      <td>unknown</td>\n",
       "      <td>create a better future for yourself  recruitne...</td>\n",
       "      <td>registered_nurse</td>\n",
       "      <td>[[[tensor(0.9966), tensor(-0.3614), tensor(0.2...</td>\n",
       "      <td>0.695014</td>\n",
       "    </tr>\n",
       "  </tbody>\n",
       "</table>\n",
       "</div>"
      ],
      "text/plain": [
       "                           title                   id  \\\n",
       "0  assistant director of nursing  sj_3c7e64c7996bb9d6   \n",
       "1   clinical nurse manager (cnm)  sj_358f1f68cde928c4   \n",
       "\n",
       "                                                link              date  \\\n",
       "0  https://ie.indeed.com/pagead/clk?mo=r&ad=-6NYl...  January 10, 2024   \n",
       "1  https://ie.indeed.com/pagead/clk?mo=r&ad=-6NYl...           unknown   \n",
       "\n",
       "                                     job_description             label  \\\n",
       "0  silver stream healthcare group offer great emp...  registered_nurse   \n",
       "1  create a better future for yourself  recruitne...  registered_nurse   \n",
       "\n",
       "                           embedded_job_descriptions  cosine_user1  \n",
       "0  [[[tensor(0.8475), tensor(-0.3499), tensor(0.1...      0.668876  \n",
       "1  [[[tensor(0.9966), tensor(-0.3614), tensor(0.2...      0.695014  "
      ]
     },
     "execution_count": 56,
     "metadata": {},
     "output_type": "execute_result"
    }
   ],
   "source": [
    "df_jobads"
   ]
  },
  {
   "cell_type": "code",
   "execution_count": 57,
   "metadata": {},
   "outputs": [
    {
     "name": "stdout",
     "output_type": "stream",
     "text": [
      "The calculation was completed in: 0 minutes and 14 seconds.\n"
     ]
    }
   ],
   "source": [
    "# Record the start time.\n",
    "start = time.time()\n",
    "\n",
    "# Get the user2's tensor and move it to the GPU.\n",
    "tensor_user = df_jobseeker.iat[1, -1]\n",
    "tensor_user = tensor_user.to(device)\n",
    "\n",
    "# Apply the calculation of average cosine similarity function to each job ad's tensor.\n",
    "df_jobads['cosine_user2'] = df_jobads.iloc[:, -2].apply(lambda x: calculate_average_similarity(tensor_user, x.to(device)))\n",
    "\n",
    "# Record the end time.\n",
    "end = time.time()\n",
    "\n",
    "print(f'The calculation was completed in: {int((end - start)) // 60} minutes and {int((end - start)) % 60} seconds.')"
   ]
  },
  {
   "cell_type": "code",
   "execution_count": 58,
   "metadata": {},
   "outputs": [
    {
     "data": {
      "text/html": [
       "<div>\n",
       "<style scoped>\n",
       "    .dataframe tbody tr th:only-of-type {\n",
       "        vertical-align: middle;\n",
       "    }\n",
       "\n",
       "    .dataframe tbody tr th {\n",
       "        vertical-align: top;\n",
       "    }\n",
       "\n",
       "    .dataframe thead th {\n",
       "        text-align: right;\n",
       "    }\n",
       "</style>\n",
       "<table border=\"1\" class=\"dataframe\">\n",
       "  <thead>\n",
       "    <tr style=\"text-align: right;\">\n",
       "      <th></th>\n",
       "      <th>title</th>\n",
       "      <th>id</th>\n",
       "      <th>link</th>\n",
       "      <th>date</th>\n",
       "      <th>job_description</th>\n",
       "      <th>label</th>\n",
       "      <th>embedded_job_descriptions</th>\n",
       "      <th>cosine_user1</th>\n",
       "      <th>cosine_user2</th>\n",
       "    </tr>\n",
       "  </thead>\n",
       "  <tbody>\n",
       "    <tr>\n",
       "      <th>0</th>\n",
       "      <td>assistant director of nursing</td>\n",
       "      <td>sj_3c7e64c7996bb9d6</td>\n",
       "      <td>https://ie.indeed.com/pagead/clk?mo=r&amp;ad=-6NYl...</td>\n",
       "      <td>January 10, 2024</td>\n",
       "      <td>silver stream healthcare group offer great emp...</td>\n",
       "      <td>registered_nurse</td>\n",
       "      <td>[[[tensor(0.8475), tensor(-0.3499), tensor(0.1...</td>\n",
       "      <td>0.668876</td>\n",
       "      <td>-0.105210</td>\n",
       "    </tr>\n",
       "    <tr>\n",
       "      <th>1</th>\n",
       "      <td>clinical nurse manager (cnm)</td>\n",
       "      <td>sj_358f1f68cde928c4</td>\n",
       "      <td>https://ie.indeed.com/pagead/clk?mo=r&amp;ad=-6NYl...</td>\n",
       "      <td>unknown</td>\n",
       "      <td>create a better future for yourself  recruitne...</td>\n",
       "      <td>registered_nurse</td>\n",
       "      <td>[[[tensor(0.9966), tensor(-0.3614), tensor(0.2...</td>\n",
       "      <td>0.695014</td>\n",
       "      <td>-0.130288</td>\n",
       "    </tr>\n",
       "  </tbody>\n",
       "</table>\n",
       "</div>"
      ],
      "text/plain": [
       "                           title                   id  \\\n",
       "0  assistant director of nursing  sj_3c7e64c7996bb9d6   \n",
       "1   clinical nurse manager (cnm)  sj_358f1f68cde928c4   \n",
       "\n",
       "                                                link              date  \\\n",
       "0  https://ie.indeed.com/pagead/clk?mo=r&ad=-6NYl...  January 10, 2024   \n",
       "1  https://ie.indeed.com/pagead/clk?mo=r&ad=-6NYl...           unknown   \n",
       "\n",
       "                                     job_description             label  \\\n",
       "0  silver stream healthcare group offer great emp...  registered_nurse   \n",
       "1  create a better future for yourself  recruitne...  registered_nurse   \n",
       "\n",
       "                           embedded_job_descriptions  cosine_user1  \\\n",
       "0  [[[tensor(0.8475), tensor(-0.3499), tensor(0.1...      0.668876   \n",
       "1  [[[tensor(0.9966), tensor(-0.3614), tensor(0.2...      0.695014   \n",
       "\n",
       "   cosine_user2  \n",
       "0     -0.105210  \n",
       "1     -0.130288  "
      ]
     },
     "execution_count": 58,
     "metadata": {},
     "output_type": "execute_result"
    }
   ],
   "source": [
    "df_jobads"
   ]
  },
  {
   "cell_type": "code",
   "execution_count": 59,
   "metadata": {},
   "outputs": [
    {
     "name": "stdout",
     "output_type": "stream",
     "text": [
      "The calculation was completed in: 0 minutes and 21 seconds.\n"
     ]
    }
   ],
   "source": [
    "# Record the start time.\n",
    "start = time.time()\n",
    "\n",
    "# Get the user3's tensor and move it to the GPU.\n",
    "tensor_user = df_jobseeker.iat[2, -1]\n",
    "tensor_user = tensor_user.to(device)\n",
    "\n",
    "# Apply the calculation of average cosine similarity function to each job ad's tensor.\n",
    "df_jobads['cosine_user3'] = df_jobads.iloc[:, -3].apply(lambda x: calculate_average_similarity(tensor_user, x.to(device)))\n",
    "\n",
    "# Record the end time.\n",
    "end = time.time()\n",
    "\n",
    "print(f'The calculation was completed in: {int((end - start)) // 60} minutes and {int((end - start)) % 60} seconds.')"
   ]
  },
  {
   "cell_type": "code",
   "execution_count": 60,
   "metadata": {},
   "outputs": [
    {
     "data": {
      "text/html": [
       "<div>\n",
       "<style scoped>\n",
       "    .dataframe tbody tr th:only-of-type {\n",
       "        vertical-align: middle;\n",
       "    }\n",
       "\n",
       "    .dataframe tbody tr th {\n",
       "        vertical-align: top;\n",
       "    }\n",
       "\n",
       "    .dataframe thead th {\n",
       "        text-align: right;\n",
       "    }\n",
       "</style>\n",
       "<table border=\"1\" class=\"dataframe\">\n",
       "  <thead>\n",
       "    <tr style=\"text-align: right;\">\n",
       "      <th></th>\n",
       "      <th>title</th>\n",
       "      <th>id</th>\n",
       "      <th>link</th>\n",
       "      <th>date</th>\n",
       "      <th>job_description</th>\n",
       "      <th>label</th>\n",
       "      <th>embedded_job_descriptions</th>\n",
       "      <th>cosine_user1</th>\n",
       "      <th>cosine_user2</th>\n",
       "      <th>cosine_user3</th>\n",
       "    </tr>\n",
       "  </thead>\n",
       "  <tbody>\n",
       "    <tr>\n",
       "      <th>0</th>\n",
       "      <td>assistant director of nursing</td>\n",
       "      <td>sj_3c7e64c7996bb9d6</td>\n",
       "      <td>https://ie.indeed.com/pagead/clk?mo=r&amp;ad=-6NYl...</td>\n",
       "      <td>January 10, 2024</td>\n",
       "      <td>silver stream healthcare group offer great emp...</td>\n",
       "      <td>registered_nurse</td>\n",
       "      <td>[[[tensor(0.8475), tensor(-0.3499), tensor(0.1...</td>\n",
       "      <td>0.668876</td>\n",
       "      <td>-0.105210</td>\n",
       "      <td>-0.066872</td>\n",
       "    </tr>\n",
       "    <tr>\n",
       "      <th>1</th>\n",
       "      <td>clinical nurse manager (cnm)</td>\n",
       "      <td>sj_358f1f68cde928c4</td>\n",
       "      <td>https://ie.indeed.com/pagead/clk?mo=r&amp;ad=-6NYl...</td>\n",
       "      <td>unknown</td>\n",
       "      <td>create a better future for yourself  recruitne...</td>\n",
       "      <td>registered_nurse</td>\n",
       "      <td>[[[tensor(0.9966), tensor(-0.3614), tensor(0.2...</td>\n",
       "      <td>0.695014</td>\n",
       "      <td>-0.130288</td>\n",
       "      <td>-0.068436</td>\n",
       "    </tr>\n",
       "  </tbody>\n",
       "</table>\n",
       "</div>"
      ],
      "text/plain": [
       "                           title                   id  \\\n",
       "0  assistant director of nursing  sj_3c7e64c7996bb9d6   \n",
       "1   clinical nurse manager (cnm)  sj_358f1f68cde928c4   \n",
       "\n",
       "                                                link              date  \\\n",
       "0  https://ie.indeed.com/pagead/clk?mo=r&ad=-6NYl...  January 10, 2024   \n",
       "1  https://ie.indeed.com/pagead/clk?mo=r&ad=-6NYl...           unknown   \n",
       "\n",
       "                                     job_description             label  \\\n",
       "0  silver stream healthcare group offer great emp...  registered_nurse   \n",
       "1  create a better future for yourself  recruitne...  registered_nurse   \n",
       "\n",
       "                           embedded_job_descriptions  cosine_user1  \\\n",
       "0  [[[tensor(0.8475), tensor(-0.3499), tensor(0.1...      0.668876   \n",
       "1  [[[tensor(0.9966), tensor(-0.3614), tensor(0.2...      0.695014   \n",
       "\n",
       "   cosine_user2  cosine_user3  \n",
       "0     -0.105210     -0.066872  \n",
       "1     -0.130288     -0.068436  "
      ]
     },
     "execution_count": 60,
     "metadata": {},
     "output_type": "execute_result"
    }
   ],
   "source": [
    "df_jobads"
   ]
  },
  {
   "cell_type": "code",
   "execution_count": 61,
   "metadata": {},
   "outputs": [],
   "source": [
    "df_jobads = df_jobads.drop(columns=['embedded_job_descriptions'])"
   ]
  },
  {
   "cell_type": "code",
   "execution_count": 62,
   "metadata": {},
   "outputs": [
    {
     "data": {
      "text/html": [
       "<div>\n",
       "<style scoped>\n",
       "    .dataframe tbody tr th:only-of-type {\n",
       "        vertical-align: middle;\n",
       "    }\n",
       "\n",
       "    .dataframe tbody tr th {\n",
       "        vertical-align: top;\n",
       "    }\n",
       "\n",
       "    .dataframe thead th {\n",
       "        text-align: right;\n",
       "    }\n",
       "</style>\n",
       "<table border=\"1\" class=\"dataframe\">\n",
       "  <thead>\n",
       "    <tr style=\"text-align: right;\">\n",
       "      <th></th>\n",
       "      <th>title</th>\n",
       "      <th>id</th>\n",
       "      <th>link</th>\n",
       "      <th>date</th>\n",
       "      <th>job_description</th>\n",
       "      <th>label</th>\n",
       "      <th>cosine_user1</th>\n",
       "      <th>cosine_user2</th>\n",
       "      <th>cosine_user3</th>\n",
       "    </tr>\n",
       "  </thead>\n",
       "  <tbody>\n",
       "    <tr>\n",
       "      <th>0</th>\n",
       "      <td>assistant director of nursing</td>\n",
       "      <td>sj_3c7e64c7996bb9d6</td>\n",
       "      <td>https://ie.indeed.com/pagead/clk?mo=r&amp;ad=-6NYl...</td>\n",
       "      <td>January 10, 2024</td>\n",
       "      <td>silver stream healthcare group offer great emp...</td>\n",
       "      <td>registered_nurse</td>\n",
       "      <td>0.668876</td>\n",
       "      <td>-0.105210</td>\n",
       "      <td>-0.066872</td>\n",
       "    </tr>\n",
       "    <tr>\n",
       "      <th>1</th>\n",
       "      <td>clinical nurse manager (cnm)</td>\n",
       "      <td>sj_358f1f68cde928c4</td>\n",
       "      <td>https://ie.indeed.com/pagead/clk?mo=r&amp;ad=-6NYl...</td>\n",
       "      <td>unknown</td>\n",
       "      <td>create a better future for yourself  recruitne...</td>\n",
       "      <td>registered_nurse</td>\n",
       "      <td>0.695014</td>\n",
       "      <td>-0.130288</td>\n",
       "      <td>-0.068436</td>\n",
       "    </tr>\n",
       "  </tbody>\n",
       "</table>\n",
       "</div>"
      ],
      "text/plain": [
       "                           title                   id  \\\n",
       "0  assistant director of nursing  sj_3c7e64c7996bb9d6   \n",
       "1   clinical nurse manager (cnm)  sj_358f1f68cde928c4   \n",
       "\n",
       "                                                link              date  \\\n",
       "0  https://ie.indeed.com/pagead/clk?mo=r&ad=-6NYl...  January 10, 2024   \n",
       "1  https://ie.indeed.com/pagead/clk?mo=r&ad=-6NYl...           unknown   \n",
       "\n",
       "                                     job_description             label  \\\n",
       "0  silver stream healthcare group offer great emp...  registered_nurse   \n",
       "1  create a better future for yourself  recruitne...  registered_nurse   \n",
       "\n",
       "   cosine_user1  cosine_user2  cosine_user3  \n",
       "0      0.668876     -0.105210     -0.066872  \n",
       "1      0.695014     -0.130288     -0.068436  "
      ]
     },
     "execution_count": 62,
     "metadata": {},
     "output_type": "execute_result"
    }
   ],
   "source": [
    "df_jobads"
   ]
  },
  {
   "cell_type": "code",
   "execution_count": 48,
   "metadata": {},
   "outputs": [
    {
     "ename": "AttributeError",
     "evalue": "'NoneType' object has no attribute 'head'",
     "output_type": "error",
     "traceback": [
      "\u001b[1;31m---------------------------------------------------------------------------\u001b[0m",
      "\u001b[1;31mAttributeError\u001b[0m                            Traceback (most recent call last)",
      "Cell \u001b[1;32mIn[48], line 4\u001b[0m\n\u001b[0;32m      1\u001b[0m \u001b[38;5;66;03m# Drop the encoded column from the Data Frame (it takes up too much memory and is no longer needed).\u001b[39;00m\n\u001b[0;32m      2\u001b[0m df_jobads \u001b[38;5;241m=\u001b[39m df_jobads\u001b[38;5;241m.\u001b[39mdrop(columns\u001b[38;5;241m=\u001b[39m[\u001b[38;5;124m'\u001b[39m\u001b[38;5;124membedded_job_descriptions\u001b[39m\u001b[38;5;124m'\u001b[39m], inplace\u001b[38;5;241m=\u001b[39m\u001b[38;5;28;01mTrue\u001b[39;00m) \n\u001b[1;32m----> 4\u001b[0m df_jobads\u001b[38;5;241m.\u001b[39mhead()\n",
      "\u001b[1;31mAttributeError\u001b[0m: 'NoneType' object has no attribute 'head'"
     ]
    }
   ],
   "source": [
    "# Drop the encoded column from the Data Frame (it takes up too much memory and is no longer needed).\n",
    "df_jobads = df_jobads.drop(columns=['embedded_job_descriptions']) \n",
    "\n",
    "df_jobads.head()"
   ]
  },
  {
   "cell_type": "code",
   "execution_count": 49,
   "metadata": {},
   "outputs": [],
   "source": [
    "df_jobads"
   ]
  },
  {
   "cell_type": "code",
   "execution_count": null,
   "metadata": {},
   "outputs": [],
   "source": []
  },
  {
   "cell_type": "code",
   "execution_count": null,
   "metadata": {},
   "outputs": [],
   "source": []
  },
  {
   "cell_type": "code",
   "execution_count": null,
   "metadata": {},
   "outputs": [],
   "source": [
    "'''sorted_user1 = df_jobads.sort_values(by='cosine_user1', ascending=False) #.reset_index(drop=True)\n",
    "sorted_user1.head()'''"
   ]
  },
  {
   "cell_type": "code",
   "execution_count": null,
   "metadata": {},
   "outputs": [],
   "source": [
    "'''sorted_user2 = df_jobads.sort_values(by='cosine_user1', ascending=False) #.reset_index(drop=True)\n",
    "sorted_user2.head()'''"
   ]
  },
  {
   "cell_type": "code",
   "execution_count": null,
   "metadata": {},
   "outputs": [],
   "source": [
    "'''sorted_user3 = df_jobads.sort_values(by='cosine_user1', ascending=False) #.reset_index(drop=True)\n",
    "sorted_user3.head()'''"
   ]
  }
 ],
 "metadata": {
  "kernelspec": {
   "display_name": "base",
   "language": "python",
   "name": "python3"
  },
  "language_info": {
   "codemirror_mode": {
    "name": "ipython",
    "version": 3
   },
   "file_extension": ".py",
   "mimetype": "text/x-python",
   "name": "python",
   "nbconvert_exporter": "python",
   "pygments_lexer": "ipython3",
   "version": "3.11.4"
  }
 },
 "nbformat": 4,
 "nbformat_minor": 2
}
