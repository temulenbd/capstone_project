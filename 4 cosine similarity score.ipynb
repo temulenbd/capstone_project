{
 "cells": [
  {
   "cell_type": "markdown",
   "metadata": {},
   "source": [
    "# PART IV: CALCULATION OF COSINE SIMILARITY"
   ]
  },
  {
   "cell_type": "markdown",
   "metadata": {},
   "source": [
    "### 1. Setting up"
   ]
  },
  {
   "cell_type": "code",
   "execution_count": 1,
   "metadata": {},
   "outputs": [
    {
     "name": "stderr",
     "output_type": "stream",
     "text": [
      "c:\\Users\\temulenbd\\anaconda3\\Lib\\site-packages\\huggingface_hub\\utils\\_runtime.py:184: UserWarning: Pydantic is installed but cannot be imported. Please check your installation. `huggingface_hub` will default to not using Pydantic. Error message: '{e}'\n",
      "  warnings.warn(\n"
     ]
    }
   ],
   "source": [
    "# Load nessesary libraries.\n",
    "from transformers import pipeline, BertForSequenceClassification, AutoTokenizer\n",
    "import pandas as pd\n",
    "import torch\n",
    "import torch.nn.functional as F\n",
    "import time\n",
    "import warnings\n",
    "warnings.filterwarnings('ignore')"
   ]
  },
  {
   "cell_type": "code",
   "execution_count": 2,
   "metadata": {},
   "outputs": [
    {
     "name": "stdout",
     "output_type": "stream",
     "text": [
      "CUDA was successfully installed and compiled on my device.\n",
      "CUDA device name is: NVIDIA GeForce GTX 1650\n"
     ]
    }
   ],
   "source": [
    "# Check whether CUDA is accessible.\n",
    "cuda_available = torch.cuda.is_available()\n",
    "cuda_device= torch.cuda.get_device_name(0)\n",
    "\n",
    "if cuda_available == True:\n",
    "    device = torch.device('cuda')\n",
    "    print('CUDA was successfully installed and compiled on my device.')\n",
    "    print('CUDA device name is:', cuda_device)\n",
    "else:\n",
    "    print('Cuda in not available')"
   ]
  },
  {
   "cell_type": "markdown",
   "metadata": {},
   "source": [
    "### 2. Testing model and its embedding."
   ]
  },
  {
   "cell_type": "code",
   "execution_count": 3,
   "metadata": {},
   "outputs": [],
   "source": [
    "# Initialize a text classification pipeline.\n",
    "classifier = pipeline('text-classification', model='ft_bert_temuulen2', tokenizer='ft_bert_temuulen_tokenizer2')"
   ]
  },
  {
   "cell_type": "code",
   "execution_count": 4,
   "metadata": {},
   "outputs": [
    {
     "name": "stdout",
     "output_type": "stream",
     "text": [
      "[{'label': 'registered_nurse', 'score': 0.9447992444038391}] = I promote health and help people who is sick\n",
      "[{'label': 'electrician', 'score': 0.4664452373981476}] = If your outlet isn't working and you don't have a light, you can ask me to fix it.\n",
      "[{'label': 'data_analyst', 'score': 0.9107747673988342}] = All day, I'm sitting in front of the screen, solving problems with my mouse and keyboard\n",
      "[{'label': 'registered_nurse', 'score': 0.8420090079307556}] = I am familiar with the process of providing injections to individuals.\n",
      "[{'label': 'electrician', 'score': 0.7360942959785461}] = If the streetlights fail, I can replace them with new ones.\n",
      "[{'label': 'data_analyst', 'score': 0.9674216508865356}] = I am familiar with both Python and R, and I use these tools for my work.\n"
     ]
    }
   ],
   "source": [
    "# Testing model with random text samples.\n",
    "random_text = [\"I promote health and help people who is sick\", \n",
    "               \"If your outlet isn't working and you don't have a light, you can ask me to fix it.\", \n",
    "               \"All day, I'm sitting in front of the screen, solving problems with my mouse and keyboard\", \n",
    "               \"I am familiar with the process of providing injections to individuals.\",\n",
    "               \"If the streetlights fail, I can replace them with new ones.\",\n",
    "               \"I am familiar with both Python and R, and I use these tools for my work.\"]\n",
    "\n",
    "for x in range(len(random_text)):\n",
    "    print(classifier(random_text[x]), '=', random_text[x])"
   ]
  },
  {
   "cell_type": "code",
   "execution_count": 5,
   "metadata": {},
   "outputs": [
    {
     "name": "stdout",
     "output_type": "stream",
     "text": [
      "[{'label': 'registered_nurse', 'score': 0.9978272318840027}] = bachelor's degree: critical care nursing. patient care, wound care, medical procedures, adult nursing, infection control, diagnostic, time management, communication skills, attention to detail. registered nurse: 3 years.\n",
      "[{'label': 'electrician', 'score': 0.9963247179985046}] = high school diploma, vocational electrician certification, construction safety certification. circuit testing, blueprint reading, fault finding, electrical wiring, troubleshooting, equipment inspection, installation, organization, maintenance, diagnostic, independent worker, safety knowledge. residential electrician's helper: 1 year.\n",
      "[{'label': 'data_analyst', 'score': 0.9970858693122864}] = degree: master of science in data analytics, bachelor of science in business administration; certifications: microsoft certified - azure data scientist associate, google data analytics certificate. python, data mining and extraction, data analytics and visualization, etl pipeline, data reporting, database management systems, sql and nosql, machine learning, a/b testing, data governance. entry level data analyst: 1 year; data coordinator: 2 years.\n"
     ]
    }
   ],
   "source": [
    "# Testing model using data from experiment participants.\n",
    "df_jobseeker = pd.read_csv('data_jobseeker.csv', index_col=None)\n",
    "df_jobseeker['professional_qualifications'] = df_jobseeker.education + \". \" + df_jobseeker.skill + \". \" + df_jobseeker.experience + '.'\n",
    "df_jobseeker.drop(['education', 'skill', 'experience'], axis=1, inplace=True)\n",
    "\n",
    "for x in range(3):\n",
    "    print(classifier(df_jobseeker.iat[x, -1]), '=', df_jobseeker.iat[x, -1])"
   ]
  },
  {
   "cell_type": "code",
   "execution_count": 6,
   "metadata": {},
   "outputs": [],
   "source": [
    "# Load a tokenizer used for the fine-tuned model.\n",
    "tokenizer = AutoTokenizer.from_pretrained('ft_bert_temuulen_tokenizer2')\n",
    "\n",
    "# Load a fine-tuned model with the hidden state output enabled.\n",
    "model = BertForSequenceClassification.from_pretrained('ft_bert_temuulen2', output_hidden_states=True)"
   ]
  },
  {
   "cell_type": "code",
   "execution_count": 7,
   "metadata": {},
   "outputs": [
    {
     "name": "stdout",
     "output_type": "stream",
     "text": [
      "torch.Size([1, 44, 768]) \n",
      "\n",
      "tensor([[[ 1.1255, -0.5105,  1.0606,  ..., -0.0646, -0.0972,  1.0354],\n",
      "         [ 1.0868, -0.3361,  0.5461,  ...,  0.2573,  0.0850,  0.3742],\n",
      "         [ 1.1630, -0.3186,  0.6489,  ...,  0.5629, -0.3385,  0.0202],\n",
      "         ...,\n",
      "         [ 0.7319,  0.4765,  1.3012,  ...,  0.1161, -0.2846,  0.3979],\n",
      "         [ 0.0818, -0.5454,  0.5450,  ...,  0.7430, -0.1035,  0.1977],\n",
      "         [ 1.1113, -0.2863,  0.7475,  ...,  0.5620, -0.3865,  0.0853]]])\n"
     ]
    }
   ],
   "source": [
    "# Assign to a new variable text for testing.\n",
    "input_text = df_jobseeker.iat[0, -1]\n",
    "\n",
    "# Tokenize the input text and convert it to PyTorch tensors.\n",
    "inputs = tokenizer(input_text, return_tensors='pt')\n",
    "\n",
    "# Perform a forward pass through the model to get the hidden states.\n",
    "with torch.no_grad():\n",
    "    outputs = model(**inputs)\n",
    "\n",
    "# Extract the last hidden states from the model outputs.\n",
    "last_hidden_states = outputs.hidden_states[-1]\n",
    "\n",
    "print(last_hidden_states.shape, '\\n')\n",
    "print(last_hidden_states)"
   ]
  },
  {
   "cell_type": "markdown",
   "metadata": {},
   "source": [
    "### 3. Ebedding"
   ]
  },
  {
   "cell_type": "markdown",
   "metadata": {},
   "source": [
    "**job seeker**"
   ]
  },
  {
   "cell_type": "code",
   "execution_count": 8,
   "metadata": {},
   "outputs": [],
   "source": [
    "# Define a custom function to get embedding for job seekers' data.\n",
    "def process_text(text):\n",
    "    \n",
    "    inputs = tokenizer(text, return_tensors='pt')\n",
    "    \n",
    "    with torch.no_grad():\n",
    "        outputs = model(**inputs)\n",
    "    last_hidden_states = outputs.hidden_states[-1]\n",
    "    \n",
    "    return last_hidden_states"
   ]
  },
  {
   "cell_type": "code",
   "execution_count": 9,
   "metadata": {},
   "outputs": [
    {
     "name": "stdout",
     "output_type": "stream",
     "text": [
      "torch.Size([1, 44, 768]) \n",
      "\n",
      "tensor([[[ 1.1255, -0.5105,  1.0606,  ..., -0.0646, -0.0972,  1.0354],\n",
      "         [ 1.0868, -0.3361,  0.5461,  ...,  0.2573,  0.0850,  0.3742],\n",
      "         [ 1.1630, -0.3186,  0.6489,  ...,  0.5629, -0.3385,  0.0202],\n",
      "         ...,\n",
      "         [ 0.7319,  0.4765,  1.3012,  ...,  0.1161, -0.2846,  0.3979],\n",
      "         [ 0.0818, -0.5454,  0.5450,  ...,  0.7430, -0.1035,  0.1977],\n",
      "         [ 1.1113, -0.2863,  0.7475,  ...,  0.5620, -0.3865,  0.0853]]])\n"
     ]
    }
   ],
   "source": [
    "# Apply function and create a new column with the extracted results.\n",
    "df_jobseeker['last_layer'] = df_jobseeker.iloc[:, -1].apply(process_text)\n",
    "\n",
    "print(df_jobseeker.iat[0, -1].shape, '\\n')\n",
    "print(df_jobseeker.iat[0, -1])"
   ]
  },
  {
   "cell_type": "code",
   "execution_count": 10,
   "metadata": {},
   "outputs": [
    {
     "data": {
      "text/html": [
       "<div>\n",
       "<style scoped>\n",
       "    .dataframe tbody tr th:only-of-type {\n",
       "        vertical-align: middle;\n",
       "    }\n",
       "\n",
       "    .dataframe tbody tr th {\n",
       "        vertical-align: top;\n",
       "    }\n",
       "\n",
       "    .dataframe thead th {\n",
       "        text-align: right;\n",
       "    }\n",
       "</style>\n",
       "<table border=\"1\" class=\"dataframe\">\n",
       "  <thead>\n",
       "    <tr style=\"text-align: right;\">\n",
       "      <th></th>\n",
       "      <th>participant</th>\n",
       "      <th>data_collection</th>\n",
       "      <th>date</th>\n",
       "      <th>location</th>\n",
       "      <th>preferred_position</th>\n",
       "      <th>professional_qualifications</th>\n",
       "      <th>last_layer</th>\n",
       "    </tr>\n",
       "  </thead>\n",
       "  <tbody>\n",
       "    <tr>\n",
       "      <th>0</th>\n",
       "      <td>user_1</td>\n",
       "      <td>voice call</td>\n",
       "      <td>2023-12-17 15:30:00</td>\n",
       "      <td>dublin, ireland</td>\n",
       "      <td>registered nurse</td>\n",
       "      <td>bachelor's degree: critical care nursing. pati...</td>\n",
       "      <td>[[[tensor(1.1255), tensor(-0.5105), tensor(1.0...</td>\n",
       "    </tr>\n",
       "    <tr>\n",
       "      <th>1</th>\n",
       "      <td>user_2</td>\n",
       "      <td>voice call</td>\n",
       "      <td>2023-12-27 11:50:00</td>\n",
       "      <td>dublin, ireland</td>\n",
       "      <td>electrician</td>\n",
       "      <td>high school diploma, vocational electrician ce...</td>\n",
       "      <td>[[[tensor(-0.1251), tensor(-0.3441), tensor(0....</td>\n",
       "    </tr>\n",
       "    <tr>\n",
       "      <th>2</th>\n",
       "      <td>user_3</td>\n",
       "      <td>google form</td>\n",
       "      <td>2023-12-31 13:39:00</td>\n",
       "      <td>dublin, ireland</td>\n",
       "      <td>data analyst</td>\n",
       "      <td>degree: master of science in data analytics, b...</td>\n",
       "      <td>[[[tensor(-0.6026), tensor(-0.3314), tensor(-0...</td>\n",
       "    </tr>\n",
       "  </tbody>\n",
       "</table>\n",
       "</div>"
      ],
      "text/plain": [
       "  participant data_collection                 date         location  \\\n",
       "0      user_1      voice call  2023-12-17 15:30:00  dublin, ireland   \n",
       "1      user_2      voice call  2023-12-27 11:50:00  dublin, ireland   \n",
       "2      user_3     google form  2023-12-31 13:39:00  dublin, ireland   \n",
       "\n",
       "  preferred_position                        professional_qualifications  \\\n",
       "0   registered nurse  bachelor's degree: critical care nursing. pati...   \n",
       "1        electrician  high school diploma, vocational electrician ce...   \n",
       "2       data analyst  degree: master of science in data analytics, b...   \n",
       "\n",
       "                                          last_layer  \n",
       "0  [[[tensor(1.1255), tensor(-0.5105), tensor(1.0...  \n",
       "1  [[[tensor(-0.1251), tensor(-0.3441), tensor(0....  \n",
       "2  [[[tensor(-0.6026), tensor(-0.3314), tensor(-0...  "
      ]
     },
     "execution_count": 10,
     "metadata": {},
     "output_type": "execute_result"
    }
   ],
   "source": [
    "# Check the results.\n",
    "df_jobseeker"
   ]
  },
  {
   "cell_type": "markdown",
   "metadata": {},
   "source": [
    "**job ad**"
   ]
  },
  {
   "cell_type": "code",
   "execution_count": 11,
   "metadata": {},
   "outputs": [
    {
     "data": {
      "text/html": [
       "<div>\n",
       "<style scoped>\n",
       "    .dataframe tbody tr th:only-of-type {\n",
       "        vertical-align: middle;\n",
       "    }\n",
       "\n",
       "    .dataframe tbody tr th {\n",
       "        vertical-align: top;\n",
       "    }\n",
       "\n",
       "    .dataframe thead th {\n",
       "        text-align: right;\n",
       "    }\n",
       "</style>\n",
       "<table border=\"1\" class=\"dataframe\">\n",
       "  <thead>\n",
       "    <tr style=\"text-align: right;\">\n",
       "      <th></th>\n",
       "      <th>title</th>\n",
       "      <th>id</th>\n",
       "      <th>link</th>\n",
       "      <th>date</th>\n",
       "      <th>job_description</th>\n",
       "      <th>label</th>\n",
       "    </tr>\n",
       "  </thead>\n",
       "  <tbody>\n",
       "    <tr>\n",
       "      <th>0</th>\n",
       "      <td>assistant director of nursing</td>\n",
       "      <td>sj_3c7e64c7996bb9d6</td>\n",
       "      <td>https://ie.indeed.com/pagead/clk?mo=r&amp;ad=-6NYl...</td>\n",
       "      <td>January 10, 2024</td>\n",
       "      <td>silver stream healthcare group offer great emp...</td>\n",
       "      <td>registered_nurse</td>\n",
       "    </tr>\n",
       "    <tr>\n",
       "      <th>1</th>\n",
       "      <td>clinical nurse manager (cnm)</td>\n",
       "      <td>sj_358f1f68cde928c4</td>\n",
       "      <td>https://ie.indeed.com/pagead/clk?mo=r&amp;ad=-6NYl...</td>\n",
       "      <td>unknown</td>\n",
       "      <td>create a better future for yourself  recruitne...</td>\n",
       "      <td>registered_nurse</td>\n",
       "    </tr>\n",
       "  </tbody>\n",
       "</table>\n",
       "</div>"
      ],
      "text/plain": [
       "                           title                   id  \\\n",
       "0  assistant director of nursing  sj_3c7e64c7996bb9d6   \n",
       "1   clinical nurse manager (cnm)  sj_358f1f68cde928c4   \n",
       "\n",
       "                                                link              date  \\\n",
       "0  https://ie.indeed.com/pagead/clk?mo=r&ad=-6NYl...  January 10, 2024   \n",
       "1  https://ie.indeed.com/pagead/clk?mo=r&ad=-6NYl...           unknown   \n",
       "\n",
       "                                     job_description             label  \n",
       "0  silver stream healthcare group offer great emp...  registered_nurse  \n",
       "1  create a better future for yourself  recruitne...  registered_nurse  "
      ]
     },
     "execution_count": 11,
     "metadata": {},
     "output_type": "execute_result"
    }
   ],
   "source": [
    "# Read job ads' dataset.\n",
    "df_jobads = pd.read_csv('data_jobads_final.csv', index_col=None)\n",
    "\n",
    "# Apply some data cleaning and preprocessing steps.\n",
    "df_jobads['job_description'] = df_jobads['job_description'].str.replace('\\n', ' ')\n",
    "df_jobads = df_jobads.dropna()\n",
    "df_jobads = df_jobads.reset_index(drop=True)\n",
    "\n",
    "df_jobads.head(2)"
   ]
  },
  {
   "cell_type": "code",
   "execution_count": 12,
   "metadata": {},
   "outputs": [
    {
     "name": "stdout",
     "output_type": "stream",
     "text": [
      "The total number of rows with a word count over 510 is: 236\n",
      "The word count for the longest text is: 3145\n"
     ]
    },
    {
     "data": {
      "text/html": [
       "<div>\n",
       "<style scoped>\n",
       "    .dataframe tbody tr th:only-of-type {\n",
       "        vertical-align: middle;\n",
       "    }\n",
       "\n",
       "    .dataframe tbody tr th {\n",
       "        vertical-align: top;\n",
       "    }\n",
       "\n",
       "    .dataframe thead th {\n",
       "        text-align: right;\n",
       "    }\n",
       "</style>\n",
       "<table border=\"1\" class=\"dataframe\">\n",
       "  <thead>\n",
       "    <tr style=\"text-align: right;\">\n",
       "      <th></th>\n",
       "      <th>title</th>\n",
       "      <th>id</th>\n",
       "      <th>link</th>\n",
       "      <th>date</th>\n",
       "      <th>job_description</th>\n",
       "      <th>label</th>\n",
       "      <th>word_count</th>\n",
       "    </tr>\n",
       "  </thead>\n",
       "  <tbody>\n",
       "    <tr>\n",
       "      <th>0</th>\n",
       "      <td>assistant director of nursing</td>\n",
       "      <td>sj_3c7e64c7996bb9d6</td>\n",
       "      <td>https://ie.indeed.com/pagead/clk?mo=r&amp;ad=-6NYl...</td>\n",
       "      <td>January 10, 2024</td>\n",
       "      <td>silver stream healthcare group offer great emp...</td>\n",
       "      <td>registered_nurse</td>\n",
       "      <td>502</td>\n",
       "    </tr>\n",
       "    <tr>\n",
       "      <th>1</th>\n",
       "      <td>clinical nurse manager (cnm)</td>\n",
       "      <td>sj_358f1f68cde928c4</td>\n",
       "      <td>https://ie.indeed.com/pagead/clk?mo=r&amp;ad=-6NYl...</td>\n",
       "      <td>unknown</td>\n",
       "      <td>create a better future for yourself  recruitne...</td>\n",
       "      <td>registered_nurse</td>\n",
       "      <td>231</td>\n",
       "    </tr>\n",
       "  </tbody>\n",
       "</table>\n",
       "</div>"
      ],
      "text/plain": [
       "                           title                   id  \\\n",
       "0  assistant director of nursing  sj_3c7e64c7996bb9d6   \n",
       "1   clinical nurse manager (cnm)  sj_358f1f68cde928c4   \n",
       "\n",
       "                                                link              date  \\\n",
       "0  https://ie.indeed.com/pagead/clk?mo=r&ad=-6NYl...  January 10, 2024   \n",
       "1  https://ie.indeed.com/pagead/clk?mo=r&ad=-6NYl...           unknown   \n",
       "\n",
       "                                     job_description             label  \\\n",
       "0  silver stream healthcare group offer great emp...  registered_nurse   \n",
       "1  create a better future for yourself  recruitne...  registered_nurse   \n",
       "\n",
       "   word_count  \n",
       "0         502  \n",
       "1         231  "
      ]
     },
     "execution_count": 12,
     "metadata": {},
     "output_type": "execute_result"
    }
   ],
   "source": [
    "# Calculate the word count for each ad and add its values to a new column.\n",
    "df_jobads['word_count'] = df_jobads['job_description'].apply(lambda x: len(x.split()))\n",
    "\n",
    "print('The total number of rows with a word count over 510 is:', df_jobads[df_jobads['word_count'] > 510].shape[0])\n",
    "print('The word count for the longest text is:', df_jobads.iat[303, -1])\n",
    "\n",
    "df_jobads.head(2)"
   ]
  },
  {
   "cell_type": "code",
   "execution_count": 13,
   "metadata": {},
   "outputs": [],
   "source": [
    "# Define a custom function to encode text with BERT, including additional rules for dealing with long text.\n",
    "def embed_with_bert(df_column):\n",
    "    \n",
    "    embedded_texts = []\n",
    "    \n",
    "    # Iterate through each text in the DataFrame column.\n",
    "    for text in df_column:\n",
    "        \n",
    "        # Tokenize each text without adding special tokens and without truncation or padding.\n",
    "        tokens = tokenizer(text, add_special_tokens=False, return_tensors='pt', truncation=False, padding=False)['input_ids'].squeeze()\n",
    "        token_length = len(tokens)\n",
    "        \n",
    "        # If the token length is less than or equal to 512, process it normally.\n",
    "        if token_length <= 512:\n",
    "            inputs = tokenizer(text, return_tensors='pt').to(device)\n",
    "            with torch.no_grad():\n",
    "                outputs = model(**inputs)\n",
    "            last_hidden_states = outputs.hidden_states[-1].cpu()  \n",
    "            embedded_texts.append(last_hidden_states)\n",
    "            \n",
    "        # If the token length is greater than 512, split it into sliding windows withot lapping.\n",
    "        else:\n",
    "            max_length = 512\n",
    "            stride = 0\n",
    "            tokens = tokenizer(text, add_special_tokens=False, return_tensors='pt', truncation=False, padding=False)['input_ids'].squeeze().to(device)\n",
    "            token_windows = [tokens[i:i+max_length] for i in range(0, len(tokens), max_length - stride)]\n",
    "            \n",
    "            all_hidden_states = []\n",
    "            \n",
    "            # Add special tokens (CLS and SEP) and truncate if needed.\n",
    "            for window in token_windows:\n",
    "                window = torch.cat([torch.tensor([tokenizer.cls_token_id], device=device), window, torch.tensor([tokenizer.sep_token_id], device=device)])\n",
    "                if len(window) > max_length:\n",
    "                    window = torch.cat((window[:max_length-1], torch.tensor([tokenizer.sep_token_id], device=device)))\n",
    "                inputs = {'input_ids': window.unsqueeze(0)}\n",
    "                with torch.no_grad():\n",
    "                    outputs = model(**inputs)\n",
    "                hidden_states = outputs.hidden_states[-1].cpu()  \n",
    "                all_hidden_states.append(hidden_states)\n",
    "            \n",
    "            # Concatenate all hidden states from each sliding window.\n",
    "            embedded_texts.append(torch.cat(all_hidden_states, dim=1))\n",
    "            \n",
    "    return embedded_texts"
   ]
  },
  {
   "cell_type": "code",
   "execution_count": 14,
   "metadata": {},
   "outputs": [
    {
     "name": "stderr",
     "output_type": "stream",
     "text": [
      "Token indices sequence length is longer than the specified maximum sequence length for this model (615 > 512). Running this sequence through the model will result in indexing errors\n"
     ]
    },
    {
     "name": "stdout",
     "output_type": "stream",
     "text": [
      "torch.Size([1, 617, 768]) \n",
      "\n",
      "tensor([[[ 1.1675, -0.2930,  1.1019,  ..., -0.1997, -0.1452,  0.9723],\n",
      "         [ 1.0922,  0.0060,  0.8255,  ..., -0.0950, -0.0742,  0.5525],\n",
      "         [ 1.0327, -0.2483,  0.9769,  ..., -0.2493, -0.2093,  0.4546],\n",
      "         ...,\n",
      "         [ 0.7858, -0.4055,  0.8485,  ...,  0.2169,  0.1360,  1.1505],\n",
      "         [ 0.6305,  0.2808,  0.7732,  ...,  0.2455, -0.3459,  0.6443],\n",
      "         [ 1.3295, -0.0883,  0.8348,  ...,  0.4321,  0.0147,  0.1967]]])\n"
     ]
    }
   ],
   "source": [
    "# Move the model to the GPU.\n",
    "model.to(device)\n",
    "\n",
    "# Apply the 'embed_with_bert' function to each ad.\n",
    "df_jobads['embedded_job_descriptions'] = df_jobads['job_description'].apply(lambda x: embed_with_bert([x])[0])\n",
    "\n",
    "# Check the random cell to see the results.\n",
    "print(df_jobads.iat[0, -1].shape, '\\n')\n",
    "print(df_jobads.iat[0, -1])"
   ]
  },
  {
   "cell_type": "code",
   "execution_count": 15,
   "metadata": {},
   "outputs": [
    {
     "data": {
      "text/html": [
       "<div>\n",
       "<style scoped>\n",
       "    .dataframe tbody tr th:only-of-type {\n",
       "        vertical-align: middle;\n",
       "    }\n",
       "\n",
       "    .dataframe tbody tr th {\n",
       "        vertical-align: top;\n",
       "    }\n",
       "\n",
       "    .dataframe thead th {\n",
       "        text-align: right;\n",
       "    }\n",
       "</style>\n",
       "<table border=\"1\" class=\"dataframe\">\n",
       "  <thead>\n",
       "    <tr style=\"text-align: right;\">\n",
       "      <th></th>\n",
       "      <th>title</th>\n",
       "      <th>id</th>\n",
       "      <th>link</th>\n",
       "      <th>date</th>\n",
       "      <th>job_description</th>\n",
       "      <th>label</th>\n",
       "      <th>word_count</th>\n",
       "      <th>embedded_job_descriptions</th>\n",
       "    </tr>\n",
       "  </thead>\n",
       "  <tbody>\n",
       "    <tr>\n",
       "      <th>0</th>\n",
       "      <td>assistant director of nursing</td>\n",
       "      <td>sj_3c7e64c7996bb9d6</td>\n",
       "      <td>https://ie.indeed.com/pagead/clk?mo=r&amp;ad=-6NYl...</td>\n",
       "      <td>January 10, 2024</td>\n",
       "      <td>silver stream healthcare group offer great emp...</td>\n",
       "      <td>registered_nurse</td>\n",
       "      <td>502</td>\n",
       "      <td>[[[tensor(1.1675), tensor(-0.2930), tensor(1.1...</td>\n",
       "    </tr>\n",
       "    <tr>\n",
       "      <th>1</th>\n",
       "      <td>clinical nurse manager (cnm)</td>\n",
       "      <td>sj_358f1f68cde928c4</td>\n",
       "      <td>https://ie.indeed.com/pagead/clk?mo=r&amp;ad=-6NYl...</td>\n",
       "      <td>unknown</td>\n",
       "      <td>create a better future for yourself  recruitne...</td>\n",
       "      <td>registered_nurse</td>\n",
       "      <td>231</td>\n",
       "      <td>[[[tensor(1.2444), tensor(-0.1842), tensor(1.1...</td>\n",
       "    </tr>\n",
       "    <tr>\n",
       "      <th>2</th>\n",
       "      <td>registered nurse</td>\n",
       "      <td>job_4e16e9830b072344</td>\n",
       "      <td>https://ie.indeed.com/rc/clk?jk=4e16e9830b0723...</td>\n",
       "      <td>January 10, 2024</td>\n",
       "      <td>access healthcare, one of irelands leading hea...</td>\n",
       "      <td>registered_nurse</td>\n",
       "      <td>182</td>\n",
       "      <td>[[[tensor(1.2527), tensor(-0.2575), tensor(1.0...</td>\n",
       "    </tr>\n",
       "    <tr>\n",
       "      <th>3</th>\n",
       "      <td>staff nurse</td>\n",
       "      <td>job_25a417a6373967b4</td>\n",
       "      <td>https://ie.indeed.com/rc/clk?jk=25a417a6373967...</td>\n",
       "      <td>January 10, 2024</td>\n",
       "      <td>are you a dedicated and compassionate staff nu...</td>\n",
       "      <td>registered_nurse</td>\n",
       "      <td>199</td>\n",
       "      <td>[[[tensor(1.2198), tensor(-0.3225), tensor(1.2...</td>\n",
       "    </tr>\n",
       "    <tr>\n",
       "      <th>4</th>\n",
       "      <td>clinical research nurse - cardiology (cnm2)</td>\n",
       "      <td>job_303eee71cce63f3d</td>\n",
       "      <td>https://ie.indeed.com/rc/clk?jk=303eee71cce63f...</td>\n",
       "      <td>January 10, 2024</td>\n",
       "      <td>clinical research nurse  cardiology cnm2  we a...</td>\n",
       "      <td>registered_nurse</td>\n",
       "      <td>180</td>\n",
       "      <td>[[[tensor(1.2066), tensor(-0.2952), tensor(0.9...</td>\n",
       "    </tr>\n",
       "    <tr>\n",
       "      <th>...</th>\n",
       "      <td>...</td>\n",
       "      <td>...</td>\n",
       "      <td>...</td>\n",
       "      <td>...</td>\n",
       "      <td>...</td>\n",
       "      <td>...</td>\n",
       "      <td>...</td>\n",
       "      <td>...</td>\n",
       "    </tr>\n",
       "    <tr>\n",
       "      <th>1161</th>\n",
       "      <td>junior analyst- private debt investments - fix...</td>\n",
       "      <td>job_ce346c7bfdd6dced</td>\n",
       "      <td>https://ie.indeed.com/rc/clk?jk=ce346c7bfdd6dc...</td>\n",
       "      <td>before December 21, 2023</td>\n",
       "      <td>the successful candidate will have exposure to...</td>\n",
       "      <td>data_analyst</td>\n",
       "      <td>442</td>\n",
       "      <td>[[[tensor(-0.6880), tensor(-0.2026), tensor(-0...</td>\n",
       "    </tr>\n",
       "    <tr>\n",
       "      <th>1162</th>\n",
       "      <td>strategy analyst - tech</td>\n",
       "      <td>job_18b9089f580d5d70</td>\n",
       "      <td>https://ie.indeed.com/rc/clk?jk=18b9089f580d5d...</td>\n",
       "      <td>before December 21, 2023</td>\n",
       "      <td>sector: fintech you will be a datadriven indiv...</td>\n",
       "      <td>data_analyst</td>\n",
       "      <td>114</td>\n",
       "      <td>[[[tensor(-0.6742), tensor(-0.1148), tensor(-0...</td>\n",
       "    </tr>\n",
       "    <tr>\n",
       "      <th>1163</th>\n",
       "      <td>financial analyst, retail</td>\n",
       "      <td>job_e6ba95f1a8debaa8</td>\n",
       "      <td>https://ie.indeed.com/rc/clk?jk=e6ba95f1a8deba...</td>\n",
       "      <td>before December 21, 2023</td>\n",
       "      <td>our client are recognised as a market leader a...</td>\n",
       "      <td>data_analyst</td>\n",
       "      <td>187</td>\n",
       "      <td>[[[tensor(-0.7997), tensor(-0.2032), tensor(-0...</td>\n",
       "    </tr>\n",
       "    <tr>\n",
       "      <th>1164</th>\n",
       "      <td>senior operations analyst (trade support)</td>\n",
       "      <td>job_ac9aa90b2b36b178</td>\n",
       "      <td>https://ie.indeed.com/rc/clk?jk=ac9aa90b2b36b1...</td>\n",
       "      <td>before December 21, 2023</td>\n",
       "      <td>the role our operations analysts are responsib...</td>\n",
       "      <td>data_analyst</td>\n",
       "      <td>191</td>\n",
       "      <td>[[[tensor(-0.6538), tensor(-0.0521), tensor(-0...</td>\n",
       "    </tr>\n",
       "    <tr>\n",
       "      <th>1165</th>\n",
       "      <td>insurance analyst – insurer</td>\n",
       "      <td>job_b9183dead0d5ae2a</td>\n",
       "      <td>https://ie.indeed.com/rc/clk?jk=b9183dead0d5ae...</td>\n",
       "      <td>before December 21, 2023</td>\n",
       "      <td>insurance analyst permanent dublin negotiable ...</td>\n",
       "      <td>data_analyst</td>\n",
       "      <td>210</td>\n",
       "      <td>[[[tensor(-0.7121), tensor(-0.2098), tensor(-0...</td>\n",
       "    </tr>\n",
       "  </tbody>\n",
       "</table>\n",
       "<p>1166 rows × 8 columns</p>\n",
       "</div>"
      ],
      "text/plain": [
       "                                                  title                    id  \\\n",
       "0                         assistant director of nursing   sj_3c7e64c7996bb9d6   \n",
       "1                          clinical nurse manager (cnm)   sj_358f1f68cde928c4   \n",
       "2                                      registered nurse  job_4e16e9830b072344   \n",
       "3                                           staff nurse  job_25a417a6373967b4   \n",
       "4           clinical research nurse - cardiology (cnm2)  job_303eee71cce63f3d   \n",
       "...                                                 ...                   ...   \n",
       "1161  junior analyst- private debt investments - fix...  job_ce346c7bfdd6dced   \n",
       "1162                            strategy analyst - tech  job_18b9089f580d5d70   \n",
       "1163                          financial analyst, retail  job_e6ba95f1a8debaa8   \n",
       "1164          senior operations analyst (trade support)  job_ac9aa90b2b36b178   \n",
       "1165                        insurance analyst – insurer  job_b9183dead0d5ae2a   \n",
       "\n",
       "                                                   link  \\\n",
       "0     https://ie.indeed.com/pagead/clk?mo=r&ad=-6NYl...   \n",
       "1     https://ie.indeed.com/pagead/clk?mo=r&ad=-6NYl...   \n",
       "2     https://ie.indeed.com/rc/clk?jk=4e16e9830b0723...   \n",
       "3     https://ie.indeed.com/rc/clk?jk=25a417a6373967...   \n",
       "4     https://ie.indeed.com/rc/clk?jk=303eee71cce63f...   \n",
       "...                                                 ...   \n",
       "1161  https://ie.indeed.com/rc/clk?jk=ce346c7bfdd6dc...   \n",
       "1162  https://ie.indeed.com/rc/clk?jk=18b9089f580d5d...   \n",
       "1163  https://ie.indeed.com/rc/clk?jk=e6ba95f1a8deba...   \n",
       "1164  https://ie.indeed.com/rc/clk?jk=ac9aa90b2b36b1...   \n",
       "1165  https://ie.indeed.com/rc/clk?jk=b9183dead0d5ae...   \n",
       "\n",
       "                          date  \\\n",
       "0             January 10, 2024   \n",
       "1                      unknown   \n",
       "2             January 10, 2024   \n",
       "3             January 10, 2024   \n",
       "4             January 10, 2024   \n",
       "...                        ...   \n",
       "1161  before December 21, 2023   \n",
       "1162  before December 21, 2023   \n",
       "1163  before December 21, 2023   \n",
       "1164  before December 21, 2023   \n",
       "1165  before December 21, 2023   \n",
       "\n",
       "                                        job_description             label  \\\n",
       "0     silver stream healthcare group offer great emp...  registered_nurse   \n",
       "1     create a better future for yourself  recruitne...  registered_nurse   \n",
       "2     access healthcare, one of irelands leading hea...  registered_nurse   \n",
       "3     are you a dedicated and compassionate staff nu...  registered_nurse   \n",
       "4     clinical research nurse  cardiology cnm2  we a...  registered_nurse   \n",
       "...                                                 ...               ...   \n",
       "1161  the successful candidate will have exposure to...      data_analyst   \n",
       "1162  sector: fintech you will be a datadriven indiv...      data_analyst   \n",
       "1163  our client are recognised as a market leader a...      data_analyst   \n",
       "1164  the role our operations analysts are responsib...      data_analyst   \n",
       "1165  insurance analyst permanent dublin negotiable ...      data_analyst   \n",
       "\n",
       "      word_count                          embedded_job_descriptions  \n",
       "0            502  [[[tensor(1.1675), tensor(-0.2930), tensor(1.1...  \n",
       "1            231  [[[tensor(1.2444), tensor(-0.1842), tensor(1.1...  \n",
       "2            182  [[[tensor(1.2527), tensor(-0.2575), tensor(1.0...  \n",
       "3            199  [[[tensor(1.2198), tensor(-0.3225), tensor(1.2...  \n",
       "4            180  [[[tensor(1.2066), tensor(-0.2952), tensor(0.9...  \n",
       "...          ...                                                ...  \n",
       "1161         442  [[[tensor(-0.6880), tensor(-0.2026), tensor(-0...  \n",
       "1162         114  [[[tensor(-0.6742), tensor(-0.1148), tensor(-0...  \n",
       "1163         187  [[[tensor(-0.7997), tensor(-0.2032), tensor(-0...  \n",
       "1164         191  [[[tensor(-0.6538), tensor(-0.0521), tensor(-0...  \n",
       "1165         210  [[[tensor(-0.7121), tensor(-0.2098), tensor(-0...  \n",
       "\n",
       "[1166 rows x 8 columns]"
      ]
     },
     "execution_count": 15,
     "metadata": {},
     "output_type": "execute_result"
    }
   ],
   "source": [
    "# Check the Data Frame.\n",
    "df_jobads"
   ]
  },
  {
   "cell_type": "code",
   "execution_count": null,
   "metadata": {},
   "outputs": [],
   "source": [
    "# Costum function that generates the evarage cosine similarity between the user's tensor and a job ad's tensor.\n",
    "def calculate_average_similarity(tensor_user, tensor_ad):\n",
    "    \n",
    "    # Squeeze dimensions if the tensors have a batch dimension.\n",
    "    tensor_user = tensor_user.squeeze(0) if tensor_user.dim() == 3 else tensor_user\n",
    "    tensor_ad = tensor_ad.squeeze(0) if tensor_ad.dim() == 3 else tensor_ad\n",
    "\n",
    "    tensor_ad = tensor_ad.to(tensor_user.device)\n",
    "\n",
    "    # Initialize a similarity matrix with zeros.\n",
    "    similarity_matrix = torch.zeros(tensor_user.size(0), tensor_ad.size(0), device=tensor_user.device)\n",
    "    \n",
    "    # Calculate cosine similarity for each pair of vectors.\n",
    "    for i in range(tensor_user.size(0)):\n",
    "        for j in range(tensor_ad.size(0)):\n",
    "            similarity_matrix[i, j] = F.cosine_similarity(tensor_user[i].unsqueeze(0), tensor_ad[j].unsqueeze(0), dim=1)\n",
    "            \n",
    "    # Calculate the average similarity and convert it to a Python float.\n",
    "    average_similarity = torch.mean(similarity_matrix).item()\n",
    "    \n",
    "    return average_similarity"
   ]
  },
  {
   "cell_type": "code",
   "execution_count": null,
   "metadata": {},
   "outputs": [],
   "source": [
    "# Record the start time.\n",
    "start = time.time()\n",
    "\n",
    "# Get the user1's tensor and move it to the GPU.\n",
    "tensor_user = df_jobseeker.iat[0, -1]\n",
    "tensor_user = tensor_user.to(device)\n",
    "\n",
    "# Apply the calculation of average cosine similarity function to each job ad's tensor.\n",
    "df_jobads['cosine_user1'] = df_jobads.iloc[:, -1].apply(lambda x: calculate_average_similarity(tensor_user, x.to(device)))\n",
    "\n",
    "# Record the end time.\n",
    "end = time.time()\n",
    "\n",
    "print(f'The extraction was completed in: {int((end - start)) // 60} minutes and {int((end - start)) % 60} seconds.')"
   ]
  },
  {
   "cell_type": "code",
   "execution_count": null,
   "metadata": {},
   "outputs": [],
   "source": [
    "# Record the start time.\n",
    "start = time.time()\n",
    "\n",
    "# Get the user2's tensor and move it to the GPU.\n",
    "tensor_user = df_jobseeker.iat[1, -1]\n",
    "tensor_user = tensor_user.to(device)\n",
    "\n",
    "# Apply the calculation of average cosine similarity function to each job ad's tensor.\n",
    "df_jobads['cosine_user2'] = df_jobads.iloc[:, -1].apply(lambda x: calculate_average_similarity(tensor_user, x.to(device)))\n",
    "\n",
    "# Record the end time.\n",
    "end = time.time()\n",
    "\n",
    "print(f'The extraction was completed in: {int((end - start)) // 60} minutes and {int((end - start)) % 60} seconds.')"
   ]
  },
  {
   "cell_type": "code",
   "execution_count": null,
   "metadata": {},
   "outputs": [],
   "source": [
    "# Record the start time.\n",
    "start = time.time()\n",
    "\n",
    "# Get the user3's tensor and move it to the GPU.\n",
    "tensor_user = df_jobseeker.iat[2, -1]\n",
    "tensor_user = tensor_user.to(device)\n",
    "\n",
    "# Apply the calculation of average cosine similarity function to each job ad's tensor.\n",
    "df_jobads['cosine_user3'] = df_jobads.iloc[:, -1].apply(lambda x: calculate_average_similarity(tensor_user, x.to(device)))\n",
    "\n",
    "# Record the end time.\n",
    "end = time.time()\n",
    "\n",
    "print(f'The extraction was completed in: {int((end - start)) // 60} minutes and {int((end - start)) % 60} seconds.')"
   ]
  },
  {
   "cell_type": "code",
   "execution_count": null,
   "metadata": {},
   "outputs": [],
   "source": [
    "# Drop the encoded column from the Data Frame (it takes up too much memory and is no longer needed).\n",
    "df_jobads = df_jobads.drop(columns=['embedded_job_descriptions'], inplace=True) \n",
    "\n",
    "df_jobads.head()"
   ]
  },
  {
   "cell_type": "code",
   "execution_count": null,
   "metadata": {},
   "outputs": [],
   "source": [
    "sorted_user1 = df_jobads.sort_values(by='cosine_user1', ascending=False) #.reset_index(drop=True)\n",
    "sorted_user1.head()"
   ]
  },
  {
   "cell_type": "code",
   "execution_count": null,
   "metadata": {},
   "outputs": [],
   "source": [
    "sorted_user2 = df_jobads.sort_values(by='cosine_user1', ascending=False) #.reset_index(drop=True)\n",
    "sorted_user2.head()"
   ]
  },
  {
   "cell_type": "code",
   "execution_count": null,
   "metadata": {},
   "outputs": [],
   "source": [
    "sorted_user3 = df_jobads.sort_values(by='cosine_user1', ascending=False) #.reset_index(drop=True)\n",
    "sorted_user3.head()"
   ]
  }
 ],
 "metadata": {
  "kernelspec": {
   "display_name": "base",
   "language": "python",
   "name": "python3"
  },
  "language_info": {
   "codemirror_mode": {
    "name": "ipython",
    "version": 3
   },
   "file_extension": ".py",
   "mimetype": "text/x-python",
   "name": "python",
   "nbconvert_exporter": "python",
   "pygments_lexer": "ipython3",
   "version": "3.11.4"
  }
 },
 "nbformat": 4,
 "nbformat_minor": 2
}
